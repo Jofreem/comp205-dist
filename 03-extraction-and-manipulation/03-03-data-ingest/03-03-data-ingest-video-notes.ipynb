{
 "cells": [
  {
   "cell_type": "markdown",
   "metadata": {},
   "source": [
    "# Data ingestion video notes"
   ]
  },
  {
   "cell_type": "markdown",
   "metadata": {},
   "source": [
    "# The special problem of reading data\n",
    "\n",
    "There are several problems involved with getting data into a program. \n",
    "* Several high-level data formats. \n",
    "* Each one has several subformats.  \n",
    "* A multitude of tools for reading.\n",
    "* Each tool has limits. \n",
    "\n",
    "## The basic formats: \n",
    "* **text**: human-readable and editable data. \n",
    "* **binary**: machine-readable data. \n",
    "     \n",
    "## Text data\n",
    "* Numbers in one of many printable formats. \n",
    "* Less space-efficient than binary formats. \n",
    "* Tends to be portable between machines.\n",
    "\n",
    "## Binary data\n",
    "* Much more efficiently stored. \n",
    "* Tends not to be portable between machines and software. \n",
    "* Several variants are incompatible with one another. \n",
    "\n",
    "We've already seen a really simple example of reading a file, \n"
   ]
  },
  {
   "cell_type": "code",
   "execution_count": 1,
   "metadata": {
    "scrolled": false
   },
   "outputs": [],
   "source": [
    "# run this to see the file. \n",
    "%more data.txt"
   ]
  },
  {
   "cell_type": "code",
   "execution_count": 2,
   "metadata": {
    "scrolled": false
   },
   "outputs": [
    {
     "data": {
      "text/plain": [
       "[['1', '2', '3'], ['4', '5', '6'], ['7', '8', '9']]"
      ]
     },
     "execution_count": 2,
     "metadata": {},
     "output_type": "execute_result"
    }
   ],
   "source": [
    "# read the file into a list\n",
    "file = open('data.txt', 'r')\n",
    "out = []\n",
    "for line in file:\n",
    "    numbers = line.strip().split(',')\n",
    "    out.append(numbers)\n",
    "file.close()\n",
    "out"
   ]
  },
  {
   "cell_type": "markdown",
   "metadata": {},
   "source": [
    "# Oops! This is not quite right. \n",
    "There is a profound difference between '1' and 1 (without the quotes). \n",
    "* `'1'` is a string. \n",
    "* `1` is an integer. \n",
    "* (`1.` is a floating point number.) \n",
    "\n",
    "# Internal and string representations of numbers\n",
    "* In python, there are several formats for numbers. \n",
    "* `int`: an integer\n",
    "* `float`: a floating point number. \n",
    "* `cfloat`: a complex number. \n",
    "\n",
    "# Internal representations of numbers share these attributes: \n",
    "* Binary representation. \n",
    "* Usually 4, 8, or 16 characters (bytes) long. \n",
    "* Expressed in base 2. \n",
    "\n",
    "# String representations of numbers are obviously different\n",
    "* Variable length. \n",
    "* Digits in base 10. \n",
    "\n",
    "# Converting between strings and numbers\n",
    "* `str(numb)`: gives the string version of a number. \n",
    "* `float(strng)` or `int(strng)`: gives the numeric version. \n",
    "\n",
    "# So, we can solve our little problem as follows: "
   ]
  },
  {
   "cell_type": "code",
   "execution_count": 3,
   "metadata": {},
   "outputs": [
    {
     "data": {
      "text/plain": [
       "[[1, 2, 3], [4, 5, 6], [7, 8, 9]]"
      ]
     },
     "execution_count": 3,
     "metadata": {},
     "output_type": "execute_result"
    }
   ],
   "source": [
    "# read the file into a list\n",
    "out2 = []\n",
    "for row in out: \n",
    "    new_row = []\n",
    "    for entry in row: \n",
    "        new_row.append(int(entry))\n",
    "    out2.append(new_row)\n",
    "out2"
   ]
  },
  {
   "cell_type": "markdown",
   "metadata": {},
   "source": [
    "# Alas, if it were only that easy...\n",
    "\n",
    "The reality: \n",
    "* 90% of the typical data scientist's time is spent finding ways to read data.\n",
    "* Data reading errors are very common. \n",
    "* Data formats are not so neat as the above. \n",
    "\n",
    "Thus, an enormous amount of time has been spent on libraries for reading data. \n",
    "\n",
    "One of the simplest is `numpy.loadtxt`. \n",
    "\n",
    "See https://docs.scipy.org/doc/numpy/reference/generated/numpy.loadtxt.html\n",
    "\n",
    "For example, we can write:"
   ]
  },
  {
   "cell_type": "code",
   "execution_count": 4,
   "metadata": {},
   "outputs": [
    {
     "data": {
      "text/plain": [
       "array([[1., 2., 3.],\n",
       "       [4., 5., 6.],\n",
       "       [7., 8., 9.]])"
      ]
     },
     "execution_count": 4,
     "metadata": {},
     "output_type": "execute_result"
    }
   ],
   "source": [
    "import numpy as np\n",
    "stuff = np.loadtxt('data.txt', delimiter=',')\n",
    "stuff"
   ]
  },
  {
   "cell_type": "markdown",
   "metadata": {},
   "source": [
    "# A few observations\n",
    "\n",
    "* default conversion type is float. \n",
    "* default delimiter is any \"whitespace\". \n",
    "\n",
    "So, for this file: "
   ]
  },
  {
   "cell_type": "code",
   "execution_count": 5,
   "metadata": {},
   "outputs": [],
   "source": [
    "# run this to see the file\n",
    "%more data2.txt"
   ]
  },
  {
   "cell_type": "markdown",
   "metadata": {},
   "source": [
    "we might write, instead: "
   ]
  },
  {
   "cell_type": "code",
   "execution_count": 6,
   "metadata": {},
   "outputs": [
    {
     "data": {
      "text/plain": [
       "array([[1., 2., 3.],\n",
       "       [4., 5., 6.],\n",
       "       [7., 8., 9.]])"
      ]
     },
     "execution_count": 6,
     "metadata": {},
     "output_type": "execute_result"
    }
   ],
   "source": [
    "stuff = np.loadtxt('data2.txt')  # default delimiter is whitespace \n",
    "stuff"
   ]
  },
  {
   "cell_type": "markdown",
   "metadata": {},
   "source": [
    "# Non-numeric data\n",
    "Obviously, we need to do something about non-numeric data in the file. \n",
    "If we try naively to parse a file with non-numeric data,"
   ]
  },
  {
   "cell_type": "code",
   "execution_count": 7,
   "metadata": {},
   "outputs": [],
   "source": [
    "%more data3.txt"
   ]
  },
  {
   "cell_type": "code",
   "execution_count": 8,
   "metadata": {},
   "outputs": [
    {
     "name": "stdout",
     "output_type": "stream",
     "text": [
      "could not convert string to float: 'James'\n"
     ]
    }
   ],
   "source": [
    "try:\n",
    "    stuff = np.loadtxt('data3.txt', delimiter=',')\n",
    "except Exception as e:\n",
    "    print(e)"
   ]
  },
  {
   "cell_type": "markdown",
   "metadata": {},
   "source": [
    "... and we must get more clever. Let's tell `loadtxt` what kinds of objects it is looking for. \n",
    "* i4: an integer\n",
    "* U20: a string of up to 20 characters (U means *unicode*)"
   ]
  },
  {
   "cell_type": "code",
   "execution_count": 9,
   "metadata": {},
   "outputs": [
    {
     "data": {
      "text/plain": [
       "array([(1, 2, 'James'), (2, 4, 'Alison'), (3, 6, 'Shay')],\n",
       "      dtype=[('apples', '<i4'), ('oranges', '<i4'), ('name', '<U20')])"
      ]
     },
     "execution_count": 9,
     "metadata": {},
     "output_type": "execute_result"
    }
   ],
   "source": [
    "stuff = np.loadtxt('data3.txt', delimiter=',', dtype={'names': ['apples', 'oranges', 'name'],\n",
    "                                                      'formats': ['i4', 'i4', 'U20']})\n",
    "stuff"
   ]
  },
  {
   "cell_type": "markdown",
   "metadata": {},
   "source": [
    "# Notice several things in this example\n",
    "* `loadtxt` automatically chose to represent this as an array of tuples rather than an array of lists. \n",
    "* Indexing is the same, but math is different. \n",
    "* This is its way of saying *this is not a vector, matrix, or tensor.* "
   ]
  },
  {
   "cell_type": "markdown",
   "metadata": {},
   "source": [
    "# The curse of comma-separated values\n",
    "\n",
    "Comma-separated values are a very common data representation, but have one **huge** problem. \n",
    "Microsoft excel often puts out files like this. "
   ]
  },
  {
   "cell_type": "code",
   "execution_count": 10,
   "metadata": {},
   "outputs": [],
   "source": [
    "%more data3.csv"
   ]
  },
  {
   "cell_type": "markdown",
   "metadata": {},
   "source": [
    "Excel thinks it's being clever, because there is a comma in the data. \n",
    "* It surrounds the field containing commands with double quotes. \n",
    "* Our parser knows nothing about that. \n",
    "So, when we try to parse it naively, we get: "
   ]
  },
  {
   "cell_type": "code",
   "execution_count": 11,
   "metadata": {},
   "outputs": [
    {
     "name": "stdout",
     "output_type": "stream",
     "text": [
      "Wrong number of columns at line 3\n"
     ]
    }
   ],
   "source": [
    "try:\n",
    "    stuff = np.loadtxt('data3.csv', delimiter=',', dtype={'names': ['apples', 'oranges', 'name'],\n",
    "                                                          'formats': ['i4', 'i4', 'U20']})\n",
    "except Exception as e:\n",
    "    print(e)"
   ]
  },
  {
   "cell_type": "markdown",
   "metadata": {},
   "source": [
    "This parser won't handle this case. \n",
    "\n",
    "We can, however, outsmart Excel by outputting as tab-separated values: "
   ]
  },
  {
   "cell_type": "code",
   "execution_count": 12,
   "metadata": {},
   "outputs": [],
   "source": [
    "%more data4.txt"
   ]
  },
  {
   "cell_type": "code",
   "execution_count": 13,
   "metadata": {},
   "outputs": [
    {
     "data": {
      "text/plain": [
       "array([(30, 40, 'Mr. Trump'), (10, 20, 'Don, the twitterer'),\n",
       "       ( 5, 15, 'Trump, Donald')],\n",
       "      dtype=[('apples', '<i4'), ('oranges', '<i4'), ('name', '<U20')])"
      ]
     },
     "execution_count": 13,
     "metadata": {},
     "output_type": "execute_result"
    }
   ],
   "source": [
    "stuff = np.loadtxt('data4.txt', delimiter='\\t', dtype={'names': ['apples', 'oranges', 'name'],\n",
    "                                                       'formats': ['i4', 'i4', 'U20']})\n",
    "stuff"
   ]
  },
  {
   "cell_type": "markdown",
   "metadata": {},
   "source": [
    "*This always works because Excel won't allow a tab character to be typed into a cell!*\n",
    "\n",
    "# Fixed-width fields\n",
    "\n",
    "Some files we need to load have fields that occupy a fixed number of characters. These kinds of files are found as output of scientific modeling programs in Fortran. For example, consider: "
   ]
  },
  {
   "cell_type": "code",
   "execution_count": 14,
   "metadata": {},
   "outputs": [],
   "source": [
    "%more data5.txt"
   ]
  },
  {
   "cell_type": "markdown",
   "metadata": {},
   "source": [
    "We parse this kind of file with a different method that supports a more general *delimiter* field consisting of the widths -- as integers -- of the fields we should find. See https://docs.scipy.org/doc/numpy/reference/generated/numpy.genfromtxt.html\n",
    "For example: "
   ]
  },
  {
   "cell_type": "code",
   "execution_count": 15,
   "metadata": {},
   "outputs": [
    {
     "data": {
      "text/plain": [
       "array([[ 2.4, 10. , 25.2, 10. ],\n",
       "       [12.8, 20. , 20.2,  5. ],\n",
       "       [20.2, 30. , 15.4, 15. ]])"
      ]
     },
     "execution_count": 15,
     "metadata": {},
     "output_type": "execute_result"
    }
   ],
   "source": [
    "stuff = np.genfromtxt('data5.txt', delimiter=(7,4,8,4))\n",
    "stuff"
   ]
  },
  {
   "cell_type": "markdown",
   "metadata": {},
   "source": [
    "The delimiter field says that there are numbers in the input that are 7, 4, 8, and 4 characters long. I included a comment line (starting with `#`) in the data to show you the column numbers. \n",
    "\n",
    "When you are done with these notes, please proceed to [complete the related exercise](03-03-data-ingest.ipynb). "
   ]
  }
 ],
 "metadata": {
  "kernelspec": {
   "display_name": "Python 3",
   "language": "python",
   "name": "python3"
  },
  "language_info": {
   "codemirror_mode": {
    "name": "ipython",
    "version": 3
   },
   "file_extension": ".py",
   "mimetype": "text/x-python",
   "name": "python",
   "nbconvert_exporter": "python",
   "pygments_lexer": "ipython3",
   "version": "3.7.3"
  }
 },
 "nbformat": 4,
 "nbformat_minor": 2
}
