{
 "cells": [
  {
   "cell_type": "markdown",
   "metadata": {},
   "source": [
    "# Data ingestion\n",
    "\n",
    "For video notes on these materials, please see the adjoining [video notes](03-03-data-ingest-video-notes.ipynb). Then complete this exercise. \n",
    "\n",
    "First watch the video and login to grading:"
   ]
  },
  {
   "cell_type": "code",
   "execution_count": 1,
   "metadata": {},
   "outputs": [
    {
     "name": "stdout",
     "output_type": "stream",
     "text": [
      "=====================================================================\n",
      "Assignment: 03-03 Data Ingestion\n",
      "OK, version v1.14.15\n",
      "=====================================================================\n",
      "\n"
     ]
    }
   ],
   "source": [
    "# Don't change this cell; just run it. \n",
    "from IPython.display import IFrame\n",
    "IFrame('https://1813261-1.kaf.kaltura.com/media/t/1_odixlrd8/133896931', width=800, height=560)\n",
    "\n",
    "from client.api.notebook import Notebook\n",
    "ok = Notebook('03-03-data-ingest.ok')\n",
    "# ok.auth(inline=True)"
   ]
  },
  {
   "cell_type": "markdown",
   "metadata": {},
   "source": [
    "1. **Write code to read data from the file `exer1.txt`.**\n",
    "Put the data into the numpy array `exer1`"
   ]
  },
  {
   "cell_type": "code",
   "execution_count": 2,
   "metadata": {},
   "outputs": [],
   "source": [
    "%more exer1.txt"
   ]
  },
  {
   "cell_type": "code",
   "execution_count": 3,
   "metadata": {},
   "outputs": [
    {
     "name": "stdout",
     "output_type": "stream",
     "text": [
      "[[25.  25.5 10.4]\n",
      " [10.  15.  25.5]\n",
      " [ 9.   2.   7. ]]\n"
     ]
    }
   ],
   "source": [
    "import numpy as np\n",
    "def read_comma_separated_file(filename):\n",
    "    with open(filename) as file:\n",
    "        all_rows = []\n",
    "        for line in file:\n",
    "            # remove leading and trailing whitespace\n",
    "            line = line.strip()\n",
    "            if not line:\n",
    "                # ignore empty lines\n",
    "                continue\n",
    "            # split the line into words\n",
    "            row = [float(str_) for str_ in line.split(',')]\n",
    "            if row:\n",
    "                all_rows.append(row)\n",
    "        return np.array(all_rows)\n",
    "\n",
    "exer1 = read_comma_separated_file(\"exer1.txt\")\n",
    "print(exer1)"
   ]
  },
  {
   "cell_type": "code",
   "execution_count": 4,
   "metadata": {},
   "outputs": [
    {
     "name": "stdout",
     "output_type": "stream",
     "text": [
      "~~~~~~~~~~~~~~~~~~~~~~~~~~~~~~~~~~~~~~~~~~~~~~~~~~~~~~~~~~~~~~~~~~~~~\n",
      "Running tests\n",
      "\n",
      "---------------------------------------------------------------------\n",
      "Test summary\n",
      "    Passed: 1\n",
      "    Failed: 0\n",
      "[ooooooooook] 100.0% passed\n",
      "\n"
     ]
    }
   ],
   "source": [
    "_ = ok.grade('q01')  # run this to check your answer"
   ]
  },
  {
   "cell_type": "markdown",
   "metadata": {},
   "source": [
    "2. **Write code to read data from the file `exer2.txt`.** Put the result into `exer2`."
   ]
  },
  {
   "cell_type": "code",
   "execution_count": 5,
   "metadata": {},
   "outputs": [],
   "source": [
    "%more exer2.txt"
   ]
  },
  {
   "cell_type": "code",
   "execution_count": 6,
   "metadata": {},
   "outputs": [
    {
     "name": "stdout",
     "output_type": "stream",
     "text": [
      "[[25.  25.5 10.4]\n",
      " [10.  15.  25.5]\n",
      " [ 9.   2.   7. ]]\n"
     ]
    }
   ],
   "source": [
    "def read_spaces_separated_file(filename):\n",
    "    with open(filename) as file:\n",
    "        all_rows = []\n",
    "        for line in file:\n",
    "            # remove leading and trailing whitespace\n",
    "            line = line.strip()\n",
    "            if not line:\n",
    "                # ignore empty lines\n",
    "                continue\n",
    "            # split the line into words\n",
    "            row = [float(str_) for str_ in line.split(' ') if str_]\n",
    "            if row:\n",
    "                all_rows.append(row)\n",
    "        return np.array(all_rows)\n",
    "\n",
    "exer2 = read_spaces_separated_file(\"exer2.txt\")\n",
    "print(exer2)"
   ]
  },
  {
   "cell_type": "code",
   "execution_count": 7,
   "metadata": {},
   "outputs": [
    {
     "name": "stdout",
     "output_type": "stream",
     "text": [
      "~~~~~~~~~~~~~~~~~~~~~~~~~~~~~~~~~~~~~~~~~~~~~~~~~~~~~~~~~~~~~~~~~~~~~\n",
      "Running tests\n",
      "\n",
      "---------------------------------------------------------------------\n",
      "Test summary\n",
      "    Passed: 1\n",
      "    Failed: 0\n",
      "[ooooooooook] 100.0% passed\n",
      "\n"
     ]
    }
   ],
   "source": [
    "_ = ok.grade('q02')  # run this to check your work"
   ]
  },
  {
   "cell_type": "markdown",
   "metadata": {},
   "source": [
    "2. **Write code to read data from the file `exer3.txt`.** Put the result into `exer3`."
   ]
  },
  {
   "cell_type": "code",
   "execution_count": 8,
   "metadata": {},
   "outputs": [],
   "source": [
    "%more exer3.txt"
   ]
  },
  {
   "cell_type": "code",
   "execution_count": 9,
   "metadata": {},
   "outputs": [
    {
     "name": "stdout",
     "output_type": "stream",
     "text": [
      "[[25.  25.5 10.4]\n",
      " [10.  15.  25.5]\n",
      " [ 9.   2.   7. ]]\n"
     ]
    }
   ],
   "source": [
    "def read_fixed_format_file(filename):\n",
    "    with open(filename) as file:\n",
    "        all_rows = []\n",
    "        for line in file:\n",
    "            # remove leading and trailing whitespace\n",
    "            line = line.strip()\n",
    "            if not line or line.startswith('#'):\n",
    "                # ignore empty or comment lines\n",
    "                continue\n",
    "            # split the line into words\n",
    "            row = [float(line[i:i+4]) for i in range(0,len(line),4)]\n",
    "            if row:\n",
    "                all_rows.append(row)\n",
    "        return np.array(all_rows)\n",
    "\n",
    "exer3 = read_fixed_format_file(\"exer3.txt\")\n",
    "print(exer3)"
   ]
  },
  {
   "cell_type": "markdown",
   "metadata": {},
   "source": [
    "## A better way\n",
    "\n",
    "### Numpy `loadtxt` and `genfromtxt`\n",
    "\n",
    "The [`loadtxt` function](https://docs.scipy.org/doc/numpy/reference/generated/numpy.loadtxt.html) is a convenience function that aims to be a fast reader for simply formatted files. \n",
    "\n",
    "The [`genfromtxt` function](https://docs.scipy.org/doc/numpy/reference/generated/numpy.genfromtxt.html) provides more sophisticated handling of, e.g., lines with missing values. \n",
    "We rewrite the above code using into the next cell using `genfromtxt` though, strictly speaking, `loadtxt` will suffice in this case."
   ]
  },
  {
   "cell_type": "code",
   "execution_count": 10,
   "metadata": {},
   "outputs": [
    {
     "name": "stdout",
     "output_type": "stream",
     "text": [
      "[[25.  25.5 10.4]\n",
      " [10.  15.  25.5]\n",
      " [ 9.   2.   7. ]]\n"
     ]
    }
   ],
   "source": [
    "def read_fixed_format_file(filename):\n",
    "    data = np.genfromtxt(filename, delimiter=[4,4,4], comments='#')\n",
    "    return data\n",
    "\n",
    "exer3 = read_fixed_format_file(\"exer3.txt\")\n",
    "print(exer3)"
   ]
  },
  {
   "cell_type": "code",
   "execution_count": 11,
   "metadata": {},
   "outputs": [
    {
     "name": "stdout",
     "output_type": "stream",
     "text": [
      "~~~~~~~~~~~~~~~~~~~~~~~~~~~~~~~~~~~~~~~~~~~~~~~~~~~~~~~~~~~~~~~~~~~~~\n",
      "Running tests\n",
      "\n",
      "---------------------------------------------------------------------\n",
      "Test summary\n",
      "    Passed: 1\n",
      "    Failed: 0\n",
      "[ooooooooook] 100.0% passed\n",
      "\n"
     ]
    }
   ],
   "source": [
    "_ = ok.grade('q03')  # run this to check your answer"
   ]
  },
  {
   "cell_type": "markdown",
   "metadata": {},
   "source": [
    "(A personal note: You might think this file format is really clueless. It contains, however, the exact same data as the other two files. This kind of column run-together is common in outputs of scientific computing, and *fixed-width parsing is the only way to unravel it!* These exercises are chosen from *my personal experience in frustrating data wrangling* to get data into python and other languages! -- Prof. Couch)"
   ]
  },
  {
   "cell_type": "markdown",
   "metadata": {},
   "source": [
    "4. (Advanced) Write code to input the data in `exer4.txt`. Make the third column an integer rather than floating point. Hint: look at the `dtype` field in the documentation for `genfromtxt` and use it to define the field types. Consider allowing the system to figure it out via `dtype=None` "
   ]
  },
  {
   "cell_type": "code",
   "execution_count": 12,
   "metadata": {},
   "outputs": [],
   "source": [
    "%more exer4.txt"
   ]
  },
  {
   "cell_type": "code",
   "execution_count": 13,
   "metadata": {},
   "outputs": [
    {
     "name": "stdout",
     "output_type": "stream",
     "text": [
      "[(20. , 30. ,  4) (40.5, 50.5, 30) (60.2, 70.3, 50)]\n"
     ]
    }
   ],
   "source": [
    "def read_fixed_format_ffi_file(filename):\n",
    "    # data = np.genfromtxt(filename, delimiter=[4,4,4], comments='#')\n",
    "    # The following produces tuple-like rows\n",
    "    data = np.genfromtxt(filename, delimiter=[4,4,4], dtype=[('a','f8'),('b','f8'),('c','i8')], comments='#')\n",
    "    \n",
    "    return data\n",
    "\n",
    "exer4 = read_fixed_format_ffi_file(\"exer4.txt\")\n",
    "print(exer4)"
   ]
  },
  {
   "cell_type": "markdown",
   "metadata": {},
   "source": [
    "See SciPy [Structured Arrays and Structured Datatypes](https://docs.scipy.org/doc/numpy/user/basics.rec.html) for details."
   ]
  },
  {
   "cell_type": "code",
   "execution_count": 14,
   "metadata": {},
   "outputs": [
    {
     "data": {
      "text/plain": [
       "numpy.int64"
      ]
     },
     "execution_count": 14,
     "metadata": {},
     "output_type": "execute_result"
    }
   ],
   "source": [
    "type(exer4[0][2])"
   ]
  },
  {
   "cell_type": "code",
   "execution_count": 15,
   "metadata": {},
   "outputs": [
    {
     "name": "stdout",
     "output_type": "stream",
     "text": [
      "~~~~~~~~~~~~~~~~~~~~~~~~~~~~~~~~~~~~~~~~~~~~~~~~~~~~~~~~~~~~~~~~~~~~~\n",
      "Running tests\n",
      "\n",
      "---------------------------------------------------------------------\n",
      "Test summary\n",
      "    Passed: 1\n",
      "    Failed: 0\n",
      "[ooooooooook] 100.0% passed\n",
      "\n"
     ]
    }
   ],
   "source": [
    "_ = ok.grade('q04')  # run this to check your answer"
   ]
  },
  {
   "cell_type": "markdown",
   "metadata": {},
   "source": [
    "### Afterword: what is an nparray? \n",
    "In this example, the result will be an `nparray` of tuples rather than a regular `nparray` of numbers. Why? *A regular `nparray` requires elements of the same type!*. Compare the above with the output from exercise 3 above. All elements are float, so that's a regular `nparray`. When you violate that restriction, `numpy` automatically gives you a tuple rather than a list of values. \n",
    "\n",
    "5. (Advanced) As in problem 4, read data from `exer5.txt`, and additionally label the columns 'carbon', 'nitrogen', 'oxygen'. Put the result into exer5."
   ]
  },
  {
   "cell_type": "code",
   "execution_count": 16,
   "metadata": {},
   "outputs": [],
   "source": [
    "%more exer5.txt"
   ]
  },
  {
   "cell_type": "code",
   "execution_count": 17,
   "metadata": {},
   "outputs": [
    {
     "data": {
      "text/plain": [
       "array([(20. , 30. ,  4), (40.5, 50.5, 30), (60.2, 70.3, 50)],\n",
       "      dtype=[('carbon', '<f8'), ('nitrogen', '<f8'), ('oxygen', '<i8')])"
      ]
     },
     "execution_count": 17,
     "metadata": {},
     "output_type": "execute_result"
    }
   ],
   "source": [
    "def read_fixed_format_ffi_file(filename):\n",
    "    # data = np.genfromtxt(filename, delimiter=[4,4,4], comments='#')\n",
    "    # The following produces tuple-like rows\n",
    "    data = np.genfromtxt(filename, \n",
    "                         delimiter=[4,4,4], \n",
    "                         names = ['carbon', 'nitrogen', 'oxygen'],\n",
    "                         dtype=[('carbon','f8'),('nitrogen','f8'),('oxygen','i8')], \n",
    "                         comments='#')\n",
    "    \n",
    "    return data\n",
    "\n",
    "exer5 = read_fixed_format_ffi_file(\"exer5.txt\")\n",
    "exer5"
   ]
  },
  {
   "cell_type": "code",
   "execution_count": 18,
   "metadata": {},
   "outputs": [
    {
     "name": "stdout",
     "output_type": "stream",
     "text": [
      "carbon is [20.  40.5 60.2]\n",
      "nitrogen is [30.  50.5 70.3]\n",
      "oxygen is [ 4 30 50]\n"
     ]
    }
   ],
   "source": [
    "# use this to test your work \n",
    "for key in exer5.dtype.names:\n",
    "    print('{} is {}'.format(key, exer5[key]))"
   ]
  },
  {
   "cell_type": "markdown",
   "metadata": {},
   "source": [
    "Note that these are real `ndarray` vectors, not `tuple`s, because they each contain a single type of elements. "
   ]
  },
  {
   "cell_type": "code",
   "execution_count": 19,
   "metadata": {},
   "outputs": [
    {
     "name": "stdout",
     "output_type": "stream",
     "text": [
      "~~~~~~~~~~~~~~~~~~~~~~~~~~~~~~~~~~~~~~~~~~~~~~~~~~~~~~~~~~~~~~~~~~~~~\n",
      "Running tests\n",
      "\n",
      "---------------------------------------------------------------------\n",
      "Test summary\n",
      "    Passed: 1\n",
      "    Failed: 0\n",
      "[ooooooooook] 100.0% passed\n",
      "\n"
     ]
    }
   ],
   "source": [
    "_ = ok.grade('q05')  # run this to check your answer"
   ]
  },
  {
   "cell_type": "markdown",
   "metadata": {},
   "source": [
    "# When you are done with this notebook, \n",
    "* Save and checkpoint. \n",
    "* Ensure that the name of this file is precisely `03-03-data-ingest.ipynb`. \n",
    "* <del>Change `ready` to `True` in the cell below. </del>\n",
    "* <del>Run the cell below to submit your work for grading. </del>\n",
    "* Save and checkpoint the notebook. "
   ]
  },
  {
   "cell_type": "markdown",
   "metadata": {},
   "source": [
    "* If your Jupyter installation can download the notebook as a PDF,\n",
    "    * (File >> Download as >> PDF via LaTeX (.pdf)), \n",
    "    * Rename the downloaded file to `<loginid>-03-03-data-ingest.pdf`. In other words, my filename would be `jsingh11-03-03-data-ingest.pdf`.\n",
    "    * Submit the file `<loginid>-03-03-data-ingest.pdf` to Canvas.\n",
    "* Otherwise \n",
    "    * (File >> Download as >> Notebook (.ipynb)). In other words, my filename would be `jsingh11-03-03-data-ingest.ipynb`.\n",
    "    * Rename the downloaded file to `<loginid>-03-03-data-ingest.ipynb`,\n",
    "    * Submit the file `<loginid>-03-03-data-ingest.ipynb` to Canvas."
   ]
  }
 ],
 "metadata": {
  "kernelspec": {
   "display_name": "Python 3",
   "language": "python",
   "name": "python3"
  },
  "language_info": {
   "codemirror_mode": {
    "name": "ipython",
    "version": 3
   },
   "file_extension": ".py",
   "mimetype": "text/x-python",
   "name": "python",
   "nbconvert_exporter": "python",
   "pygments_lexer": "ipython3",
   "version": "3.7.4"
  }
 },
 "nbformat": 4,
 "nbformat_minor": 2
}
