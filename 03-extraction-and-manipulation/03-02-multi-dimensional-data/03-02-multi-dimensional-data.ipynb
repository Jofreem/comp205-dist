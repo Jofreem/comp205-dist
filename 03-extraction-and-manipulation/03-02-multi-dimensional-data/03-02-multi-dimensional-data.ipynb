{
 "cells": [
  {
   "cell_type": "markdown",
   "metadata": {},
   "source": [
    "# Multi-dimensional data\n",
    "A note on the format of these exercises: \n",
    "* This is an exercise in *functional programming.* \n",
    "* Thus, I will ask you to *write functions* to accomplish specific things. \n",
    "* These functions should work on any input I give them, within bounds. \n",
    "* They will be tested on arbitrary test cases.\n",
    "\n",
    "First login to grading:"
   ]
  },
  {
   "cell_type": "code",
   "execution_count": null,
   "metadata": {},
   "outputs": [],
   "source": [
    "# Don't change this cell; just run it. \n",
    "from client.api.notebook import Notebook\n",
    "ok = Notebook('03-02-multi-dimensional-data.ok')\n",
    "ok.auth(inline=True)"
   ]
  },
  {
   "cell_type": "markdown",
   "metadata": {},
   "source": [
    "1. **Write a function `clean_rows`** that takes a two-dimensional `array` and deletes the *rows* that contain -1's. Hint: act on the whole array and then collect results for rows with `all(axis=1)`. (-1 is a conventional code for *missing data* in public data corpora.) "
   ]
  },
  {
   "cell_type": "code",
   "execution_count": null,
   "metadata": {},
   "outputs": [],
   "source": [
    "def clean_rows(data): \n",
    "    # Fill in details ...\n",
    "    return ..."
   ]
  },
  {
   "cell_type": "code",
   "execution_count": null,
   "metadata": {},
   "outputs": [],
   "source": [
    "# Test your code on this example.\n",
    "data = np.array([[4, -1, 1], [1, 2, 3], [7, 1, 9], [-1, 2, -1], [2, 4, 6]])\n",
    "print(\"Before:\")\n",
    "print(data)\n",
    "print(\"After:\")\n",
    "print(clean_rows(data))"
   ]
  },
  {
   "cell_type": "code",
   "execution_count": null,
   "metadata": {},
   "outputs": [],
   "source": [
    "_ = ok.grade('q01')  # check that your solution works. "
   ]
  },
  {
   "cell_type": "markdown",
   "metadata": {},
   "source": [
    "2. **Write a function `clean_columns`** that removes all columns containing -1 in any row. Hint: this is the transpose of the first problem. "
   ]
  },
  {
   "cell_type": "code",
   "execution_count": null,
   "metadata": {},
   "outputs": [],
   "source": [
    "def clean_columns(data): \n",
    "    # fill in details ...\n",
    "    return ..."
   ]
  },
  {
   "cell_type": "code",
   "execution_count": null,
   "metadata": {},
   "outputs": [],
   "source": [
    "# Test your code on this example\n",
    "data = np.array([[4, 5, -1, 2], [1, 2, 3, 1],\n",
    "                 [7, -1, 9, 8], [4, 2, 3, 6], [2, 4, 6, 2]])\n",
    "print(\"Before:\")\n",
    "print(data)\n",
    "print(\"After:\")\n",
    "print(clean_columns(data))"
   ]
  },
  {
   "cell_type": "code",
   "execution_count": null,
   "metadata": {},
   "outputs": [],
   "source": [
    "_ = ok.grade('q02')  # check that your solution works. "
   ]
  },
  {
   "cell_type": "markdown",
   "metadata": {},
   "source": [
    "3. **Write a function `masked`** that masks missing data using a masked array.  See this documentation: https://docs.scipy.org/doc/numpy/reference/generated/numpy.ma.masked_where.html"
   ]
  },
  {
   "cell_type": "code",
   "execution_count": null,
   "metadata": {},
   "outputs": [],
   "source": [
    "def masked(data):\n",
    "    # fill in details ...\n",
    "    return ..."
   ]
  },
  {
   "cell_type": "code",
   "execution_count": null,
   "metadata": {},
   "outputs": [],
   "source": [
    "# Test your code on this example\n",
    "data = np.array([[4, 5, -1, 2], [1, 2, 3, 1],\n",
    "                 [7, -1, 9, 8], [4, 2, 3, 6], [2, 4, 6, 2]])\n",
    "print(\"Before:\")\n",
    "print(data)\n",
    "print(\"After:\")\n",
    "print(masked(data))"
   ]
  },
  {
   "cell_type": "code",
   "execution_count": null,
   "metadata": {},
   "outputs": [],
   "source": [
    "_ = ok.grade('q03')  # check that your solution works. "
   ]
  },
  {
   "cell_type": "markdown",
   "metadata": {},
   "source": [
    "4. **Write a function column_averages** that computes the averages of each column, skipping missing data in each column. Read about this here: https://docs.scipy.org/doc/numpy/reference/generated/numpy.mean.html . Use masking to skip missing data."
   ]
  },
  {
   "cell_type": "code",
   "execution_count": null,
   "metadata": {},
   "outputs": [],
   "source": [
    "def column_averages(data):\n",
    "    # fill in details ...\n",
    "    return ..."
   ]
  },
  {
   "cell_type": "code",
   "execution_count": null,
   "metadata": {},
   "outputs": [],
   "source": [
    "data = np.array([[4, 5, -1, 2], [1, 2, 3, 1],\n",
    "                 [6, -1, 9, 8], [4, 2, 3, 6], [2, 4, 6, 2]])\n",
    "print(\"Before:\")\n",
    "print(data)\n",
    "print(\"After:\")\n",
    "print(column_averages(data))"
   ]
  },
  {
   "cell_type": "code",
   "execution_count": null,
   "metadata": {},
   "outputs": [],
   "source": [
    "_ = ok.grade('q04')  # check that your solution works. "
   ]
  },
  {
   "cell_type": "markdown",
   "metadata": {},
   "source": [
    "5. (Advanced) **Write a function `default_missing`** that replaces missing data for a column with the mean of the non-missing data rows for that column. *This won't change the mean!*\n",
    "\n",
    "Hint: my steps in solving this included: \n",
    "\n",
    "   a. Create a masked array using your function `masked`.\n",
    "    \n",
    "   b. Use `mean` to compute the mean of the masked array. Compute the `axis 0 mean` of that masked array. These are the means for the non-missing data. Use `keepdims=1` to allow this to broadcast in the next step. \n",
    "   \n",
    "   c. Use `np.select` to replace the -1s with averages. Read about this here:  https://docs.scipy.org/doc/numpy/reference/generated/numpy.select.html"
   ]
  },
  {
   "cell_type": "code",
   "execution_count": null,
   "metadata": {},
   "outputs": [],
   "source": [
    "def default_missing(data): \n",
    "    # fill in details ... \n",
    "    return ..."
   ]
  },
  {
   "cell_type": "code",
   "execution_count": null,
   "metadata": {},
   "outputs": [],
   "source": [
    "# Test your code on this example\n",
    "data = np.array([[4, 5, -1], [1, 2, 3], [7,-1,9], [-1, 2, -1], [2, 4, 6]])\n",
    "print(\"Before:\")\n",
    "print(data)\n",
    "print(\"After:\")\n",
    "print(default_missing(data))"
   ]
  },
  {
   "cell_type": "code",
   "execution_count": null,
   "metadata": {},
   "outputs": [],
   "source": [
    "_ = ok.grade('q05')  # check that your solution works. "
   ]
  },
  {
   "cell_type": "markdown",
   "metadata": {},
   "source": [
    "# When you are done with this notebook, \n",
    "* Save and checkpoint. \n",
    "* Ensure that the name of this file is precisely `03-02-multi-dimensional-data.ipynb`. That workbook will be submitted by the following code whether or not you are currently editing that workbook.\n",
    "* Change `ready` to `True` in the cell below. \n",
    "* Run the cell below. "
   ]
  },
  {
   "cell_type": "code",
   "execution_count": null,
   "metadata": {},
   "outputs": [],
   "source": [
    "ready = False  # change to True when ready to submit\n",
    "print(\"submitting file {} for assignment {} as {}\".format(ok.assignment.src[0], \n",
    "                                                          ok.assignment.name, \n",
    "                                                          ok.assignment.get_student_email()))\n",
    "if not ready: \n",
    "    raise Exception(\"change ready to True when ready to submit\")\n",
    "_ = ok.submit()"
   ]
  }
 ],
 "metadata": {
  "kernelspec": {
   "display_name": "Python 3",
   "language": "python",
   "name": "python3"
  },
  "language_info": {
   "codemirror_mode": {
    "name": "ipython",
    "version": 3
   },
   "file_extension": ".py",
   "mimetype": "text/x-python",
   "name": "python",
   "nbconvert_exporter": "python",
   "pygments_lexer": "ipython3",
   "version": "3.7.3"
  }
 },
 "nbformat": 4,
 "nbformat_minor": 2
}
