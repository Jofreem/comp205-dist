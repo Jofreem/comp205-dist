{
 "cells": [
  {
   "cell_type": "markdown",
   "metadata": {},
   "source": [
    "# Merges and matching\n",
    "* You might have seen -- in the previous example -- that there is more we might want to do. The two files concern the same entities! \n",
    "\n",
    "This workbook was based upon [the merges getting started](https://pandas.pydata.org/pandas-docs/stable/getting_started/10min.html#merge) in the Pandas documentation. \n",
    "\n",
    "# Data lakes\n",
    "* a *data lake* is a large set of files with some columns that match. \n",
    "* the *merging problem* is to combine data for two or more files to get more complete information about an entity. \n",
    "* Here is a compelling example. \n",
    "* *The key is to create columns you can match.* \n",
    "\n",
    "*In the following, I have shortened printing of large tables. You can remove the shortening at need. *\n",
    "\n",
    "Let's load our first file from http://data.gov: population of towns in Connecticut. "
   ]
  },
  {
   "cell_type": "code",
   "execution_count": 1,
   "metadata": {},
   "outputs": [
    {
     "data": {
      "text/html": [
       "<div>\n",
       "<style scoped>\n",
       "    .dataframe tbody tr th:only-of-type {\n",
       "        vertical-align: middle;\n",
       "    }\n",
       "\n",
       "    .dataframe tbody tr th {\n",
       "        vertical-align: top;\n",
       "    }\n",
       "\n",
       "    .dataframe thead th {\n",
       "        text-align: right;\n",
       "    }\n",
       "</style>\n",
       "<table border=\"1\" class=\"dataframe\">\n",
       "  <thead>\n",
       "    <tr style=\"text-align: right;\">\n",
       "      <th></th>\n",
       "      <th>Town Num</th>\n",
       "      <th>TOWN</th>\n",
       "      <th>2010 Population</th>\n",
       "    </tr>\n",
       "  </thead>\n",
       "  <tbody>\n",
       "    <tr>\n",
       "      <td>0</td>\n",
       "      <td>1</td>\n",
       "      <td>Andover</td>\n",
       "      <td>3303</td>\n",
       "    </tr>\n",
       "    <tr>\n",
       "      <td>1</td>\n",
       "      <td>2</td>\n",
       "      <td>Ansonia</td>\n",
       "      <td>19249</td>\n",
       "    </tr>\n",
       "    <tr>\n",
       "      <td>2</td>\n",
       "      <td>3</td>\n",
       "      <td>Ashford</td>\n",
       "      <td>4317</td>\n",
       "    </tr>\n",
       "    <tr>\n",
       "      <td>3</td>\n",
       "      <td>4</td>\n",
       "      <td>Avon</td>\n",
       "      <td>18098</td>\n",
       "    </tr>\n",
       "    <tr>\n",
       "      <td>4</td>\n",
       "      <td>5</td>\n",
       "      <td>Barkhamsted</td>\n",
       "      <td>3799</td>\n",
       "    </tr>\n",
       "  </tbody>\n",
       "</table>\n",
       "</div>"
      ],
      "text/plain": [
       "   Town Num         TOWN  2010 Population\n",
       "0         1      Andover             3303\n",
       "1         2      Ansonia            19249\n",
       "2         3      Ashford             4317\n",
       "3         4         Avon            18098\n",
       "4         5  Barkhamsted             3799"
      ]
     },
     "execution_count": 1,
     "metadata": {},
     "output_type": "execute_result"
    }
   ],
   "source": [
    "import pandas as pd\n",
    "population = pd.read_csv('2010_Population_By_Town.csv')\n",
    "population.head()"
   ]
  },
  {
   "cell_type": "markdown",
   "metadata": {},
   "source": [
    "This is a table of populations for each town in Connecticut. We also have the following table: "
   ]
  },
  {
   "cell_type": "code",
   "execution_count": 2,
   "metadata": {},
   "outputs": [
    {
     "data": {
      "text/html": [
       "<div>\n",
       "<style scoped>\n",
       "    .dataframe tbody tr th:only-of-type {\n",
       "        vertical-align: middle;\n",
       "    }\n",
       "\n",
       "    .dataframe tbody tr th {\n",
       "        vertical-align: top;\n",
       "    }\n",
       "\n",
       "    .dataframe thead th {\n",
       "        text-align: right;\n",
       "    }\n",
       "</style>\n",
       "<table border=\"1\" class=\"dataframe\">\n",
       "  <thead>\n",
       "    <tr style=\"text-align: right;\">\n",
       "      <th></th>\n",
       "      <th>Municipality</th>\n",
       "      <th>Number of Taxpayers</th>\n",
       "      <th>Total Retail Sales of Goods</th>\n",
       "      <th>Total Tax Due **(Excluding Tax at 9.35% Rate)</th>\n",
       "      <th>Tax Due At 6.35%</th>\n",
       "      <th>Tax Due at 7%</th>\n",
       "    </tr>\n",
       "  </thead>\n",
       "  <tbody>\n",
       "    <tr>\n",
       "      <td>0</td>\n",
       "      <td>ANDOVER (001)</td>\n",
       "      <td>127</td>\n",
       "      <td>5529457.0</td>\n",
       "      <td>428026.0</td>\n",
       "      <td>427872.0</td>\n",
       "      <td>59.0</td>\n",
       "    </tr>\n",
       "    <tr>\n",
       "      <td>1</td>\n",
       "      <td>ANSONIA (002)</td>\n",
       "      <td>402</td>\n",
       "      <td>89228175.0</td>\n",
       "      <td>3817640.0</td>\n",
       "      <td>3813289.0</td>\n",
       "      <td>2042.0</td>\n",
       "    </tr>\n",
       "    <tr>\n",
       "      <td>2</td>\n",
       "      <td>ASHFORD (003)</td>\n",
       "      <td>166</td>\n",
       "      <td>12598684.0</td>\n",
       "      <td>659952.0</td>\n",
       "      <td>654175.0</td>\n",
       "      <td>5653.0</td>\n",
       "    </tr>\n",
       "    <tr>\n",
       "      <td>3</td>\n",
       "      <td>AVON (004)</td>\n",
       "      <td>739</td>\n",
       "      <td>205383841.0</td>\n",
       "      <td>8690891.0</td>\n",
       "      <td>8575388.0</td>\n",
       "      <td>113441.0</td>\n",
       "    </tr>\n",
       "    <tr>\n",
       "      <td>4</td>\n",
       "      <td>BARKHAMSTED (005)</td>\n",
       "      <td>174</td>\n",
       "      <td>30403443.0</td>\n",
       "      <td>695373.0</td>\n",
       "      <td>694846.0</td>\n",
       "      <td>0.0</td>\n",
       "    </tr>\n",
       "  </tbody>\n",
       "</table>\n",
       "</div>"
      ],
      "text/plain": [
       "        Municipality  Number of Taxpayers  Total Retail Sales of Goods  \\\n",
       "0      ANDOVER (001)                  127                    5529457.0   \n",
       "1      ANSONIA (002)                  402                   89228175.0   \n",
       "2      ASHFORD (003)                  166                   12598684.0   \n",
       "3         AVON (004)                  739                  205383841.0   \n",
       "4  BARKHAMSTED (005)                  174                   30403443.0   \n",
       "\n",
       "   Total Tax Due **(Excluding Tax at 9.35% Rate)   Tax Due At 6.35%  \\\n",
       "0                                        428026.0          427872.0   \n",
       "1                                       3817640.0         3813289.0   \n",
       "2                                        659952.0          654175.0   \n",
       "3                                       8690891.0         8575388.0   \n",
       "4                                        695373.0          694846.0   \n",
       "\n",
       "   Tax Due at 7%  \n",
       "0           59.0  \n",
       "1         2042.0  \n",
       "2         5653.0  \n",
       "3       113441.0  \n",
       "4            0.0  "
      ]
     },
     "execution_count": 2,
     "metadata": {},
     "output_type": "execute_result"
    }
   ],
   "source": [
    "tax = pd.read_csv('2012_Retail_Sales_By_Town_ALL_NAICS.csv', engine='python', skipfooter=8)\n",
    "tax.head()"
   ]
  },
  {
   "cell_type": "markdown",
   "metadata": {},
   "source": [
    "This is a table of sales tax for the same towns. \n",
    "\n",
    "# The key observation\n",
    "\n",
    "* These tables are both about the same towns, but \n",
    "* They represent the towns differently. \n",
    "* To combine them into one table, we need a common description of the town \n",
    "\n",
    "# What's different?\n",
    "* case of town name. \n",
    "* extra stuff in town name. \n",
    "\n",
    "# The key strategy\n",
    "* turn them both into something that matches. \n",
    "* lowercase the unadorned name. \n",
    "* lowercase and trim the adorned name. \n",
    "\n",
    "# Step 1: add lowercase names to `population`"
   ]
  },
  {
   "cell_type": "code",
   "execution_count": 3,
   "metadata": {
    "scrolled": true
   },
   "outputs": [
    {
     "data": {
      "text/plain": [
       "0        andover\n",
       "1        ansonia\n",
       "2        ashford\n",
       "3           avon\n",
       "4    barkhamsted\n",
       "Name: TOWN, dtype: object"
      ]
     },
     "execution_count": 3,
     "metadata": {},
     "output_type": "execute_result"
    }
   ],
   "source": [
    "lowercase = population.TOWN.str.lower()\n",
    "lowercase.head()"
   ]
  },
  {
   "cell_type": "code",
   "execution_count": 4,
   "metadata": {},
   "outputs": [
    {
     "data": {
      "text/html": [
       "<div>\n",
       "<style scoped>\n",
       "    .dataframe tbody tr th:only-of-type {\n",
       "        vertical-align: middle;\n",
       "    }\n",
       "\n",
       "    .dataframe tbody tr th {\n",
       "        vertical-align: top;\n",
       "    }\n",
       "\n",
       "    .dataframe thead th {\n",
       "        text-align: right;\n",
       "    }\n",
       "</style>\n",
       "<table border=\"1\" class=\"dataframe\">\n",
       "  <thead>\n",
       "    <tr style=\"text-align: right;\">\n",
       "      <th></th>\n",
       "      <th>Town Num</th>\n",
       "      <th>TOWN</th>\n",
       "      <th>2010 Population</th>\n",
       "      <th>lowercase</th>\n",
       "    </tr>\n",
       "  </thead>\n",
       "  <tbody>\n",
       "    <tr>\n",
       "      <td>0</td>\n",
       "      <td>1</td>\n",
       "      <td>Andover</td>\n",
       "      <td>3303</td>\n",
       "      <td>andover</td>\n",
       "    </tr>\n",
       "    <tr>\n",
       "      <td>1</td>\n",
       "      <td>2</td>\n",
       "      <td>Ansonia</td>\n",
       "      <td>19249</td>\n",
       "      <td>ansonia</td>\n",
       "    </tr>\n",
       "    <tr>\n",
       "      <td>2</td>\n",
       "      <td>3</td>\n",
       "      <td>Ashford</td>\n",
       "      <td>4317</td>\n",
       "      <td>ashford</td>\n",
       "    </tr>\n",
       "    <tr>\n",
       "      <td>3</td>\n",
       "      <td>4</td>\n",
       "      <td>Avon</td>\n",
       "      <td>18098</td>\n",
       "      <td>avon</td>\n",
       "    </tr>\n",
       "    <tr>\n",
       "      <td>4</td>\n",
       "      <td>5</td>\n",
       "      <td>Barkhamsted</td>\n",
       "      <td>3799</td>\n",
       "      <td>barkhamsted</td>\n",
       "    </tr>\n",
       "  </tbody>\n",
       "</table>\n",
       "</div>"
      ],
      "text/plain": [
       "   Town Num         TOWN  2010 Population    lowercase\n",
       "0         1      Andover             3303      andover\n",
       "1         2      Ansonia            19249      ansonia\n",
       "2         3      Ashford             4317      ashford\n",
       "3         4         Avon            18098         avon\n",
       "4         5  Barkhamsted             3799  barkhamsted"
      ]
     },
     "execution_count": 4,
     "metadata": {},
     "output_type": "execute_result"
    }
   ],
   "source": [
    "population['lowercase'] = lowercase\n",
    "population.head()"
   ]
  },
  {
   "cell_type": "markdown",
   "metadata": {},
   "source": [
    "# Step 2: transform the name in `tax`\n",
    "* `tax.Municipality`: the adorned name. \n",
    "* `.str.split('(')`: split at '(' character. \n",
    "* `[0]`: select first part of split. \n",
    "* `.str.strip()`: remove spaces from both sides. \n",
    "* `.str.lower()`: lowercase the result. "
   ]
  },
  {
   "cell_type": "code",
   "execution_count": 5,
   "metadata": {},
   "outputs": [
    {
     "data": {
      "text/plain": [
       "0        andover\n",
       "1        ansonia\n",
       "2        ashford\n",
       "3           avon\n",
       "4    barkhamsted\n",
       "Name: 0, dtype: object"
      ]
     },
     "execution_count": 5,
     "metadata": {},
     "output_type": "execute_result"
    }
   ],
   "source": [
    "lowercase = tax.Municipality.str.split('(', expand=True)[0].str.strip().str.lower()\n",
    "lowercase.head()\n"
   ]
  },
  {
   "cell_type": "code",
   "execution_count": 6,
   "metadata": {},
   "outputs": [
    {
     "data": {
      "text/html": [
       "<div>\n",
       "<style scoped>\n",
       "    .dataframe tbody tr th:only-of-type {\n",
       "        vertical-align: middle;\n",
       "    }\n",
       "\n",
       "    .dataframe tbody tr th {\n",
       "        vertical-align: top;\n",
       "    }\n",
       "\n",
       "    .dataframe thead th {\n",
       "        text-align: right;\n",
       "    }\n",
       "</style>\n",
       "<table border=\"1\" class=\"dataframe\">\n",
       "  <thead>\n",
       "    <tr style=\"text-align: right;\">\n",
       "      <th></th>\n",
       "      <th>Municipality</th>\n",
       "      <th>Number of Taxpayers</th>\n",
       "      <th>Total Retail Sales of Goods</th>\n",
       "      <th>Total Tax Due **(Excluding Tax at 9.35% Rate)</th>\n",
       "      <th>Tax Due At 6.35%</th>\n",
       "      <th>Tax Due at 7%</th>\n",
       "      <th>lowercase</th>\n",
       "    </tr>\n",
       "  </thead>\n",
       "  <tbody>\n",
       "    <tr>\n",
       "      <td>0</td>\n",
       "      <td>ANDOVER (001)</td>\n",
       "      <td>127</td>\n",
       "      <td>5529457.0</td>\n",
       "      <td>428026.0</td>\n",
       "      <td>427872.0</td>\n",
       "      <td>59.0</td>\n",
       "      <td>andover</td>\n",
       "    </tr>\n",
       "    <tr>\n",
       "      <td>1</td>\n",
       "      <td>ANSONIA (002)</td>\n",
       "      <td>402</td>\n",
       "      <td>89228175.0</td>\n",
       "      <td>3817640.0</td>\n",
       "      <td>3813289.0</td>\n",
       "      <td>2042.0</td>\n",
       "      <td>ansonia</td>\n",
       "    </tr>\n",
       "    <tr>\n",
       "      <td>2</td>\n",
       "      <td>ASHFORD (003)</td>\n",
       "      <td>166</td>\n",
       "      <td>12598684.0</td>\n",
       "      <td>659952.0</td>\n",
       "      <td>654175.0</td>\n",
       "      <td>5653.0</td>\n",
       "      <td>ashford</td>\n",
       "    </tr>\n",
       "    <tr>\n",
       "      <td>3</td>\n",
       "      <td>AVON (004)</td>\n",
       "      <td>739</td>\n",
       "      <td>205383841.0</td>\n",
       "      <td>8690891.0</td>\n",
       "      <td>8575388.0</td>\n",
       "      <td>113441.0</td>\n",
       "      <td>avon</td>\n",
       "    </tr>\n",
       "    <tr>\n",
       "      <td>4</td>\n",
       "      <td>BARKHAMSTED (005)</td>\n",
       "      <td>174</td>\n",
       "      <td>30403443.0</td>\n",
       "      <td>695373.0</td>\n",
       "      <td>694846.0</td>\n",
       "      <td>0.0</td>\n",
       "      <td>barkhamsted</td>\n",
       "    </tr>\n",
       "  </tbody>\n",
       "</table>\n",
       "</div>"
      ],
      "text/plain": [
       "        Municipality  Number of Taxpayers  Total Retail Sales of Goods  \\\n",
       "0      ANDOVER (001)                  127                    5529457.0   \n",
       "1      ANSONIA (002)                  402                   89228175.0   \n",
       "2      ASHFORD (003)                  166                   12598684.0   \n",
       "3         AVON (004)                  739                  205383841.0   \n",
       "4  BARKHAMSTED (005)                  174                   30403443.0   \n",
       "\n",
       "   Total Tax Due **(Excluding Tax at 9.35% Rate)   Tax Due At 6.35%  \\\n",
       "0                                        428026.0          427872.0   \n",
       "1                                       3817640.0         3813289.0   \n",
       "2                                        659952.0          654175.0   \n",
       "3                                       8690891.0         8575388.0   \n",
       "4                                        695373.0          694846.0   \n",
       "\n",
       "   Tax Due at 7%    lowercase  \n",
       "0           59.0      andover  \n",
       "1         2042.0      ansonia  \n",
       "2         5653.0      ashford  \n",
       "3       113441.0         avon  \n",
       "4            0.0  barkhamsted  "
      ]
     },
     "execution_count": 6,
     "metadata": {},
     "output_type": "execute_result"
    }
   ],
   "source": [
    "tax['lowercase'] = lowercase\n",
    "tax.head()"
   ]
  },
  {
   "cell_type": "markdown",
   "metadata": {},
   "source": [
    "# Step 3: merge on now-common column 'lowercase': \n",
    "* `left`, `right`: positions of source `DataFrame`s in merged `DataFrame`. \n",
    "* `how='outer'`: leave records that don't match in the data. \n",
    "* `on=`: what to match"
   ]
  },
  {
   "cell_type": "code",
   "execution_count": 7,
   "metadata": {},
   "outputs": [
    {
     "data": {
      "text/html": [
       "<div>\n",
       "<style scoped>\n",
       "    .dataframe tbody tr th:only-of-type {\n",
       "        vertical-align: middle;\n",
       "    }\n",
       "\n",
       "    .dataframe tbody tr th {\n",
       "        vertical-align: top;\n",
       "    }\n",
       "\n",
       "    .dataframe thead th {\n",
       "        text-align: right;\n",
       "    }\n",
       "</style>\n",
       "<table border=\"1\" class=\"dataframe\">\n",
       "  <thead>\n",
       "    <tr style=\"text-align: right;\">\n",
       "      <th></th>\n",
       "      <th>Town Num</th>\n",
       "      <th>TOWN</th>\n",
       "      <th>2010 Population</th>\n",
       "      <th>lowercase</th>\n",
       "      <th>Municipality</th>\n",
       "      <th>Number of Taxpayers</th>\n",
       "      <th>Total Retail Sales of Goods</th>\n",
       "      <th>Total Tax Due **(Excluding Tax at 9.35% Rate)</th>\n",
       "      <th>Tax Due At 6.35%</th>\n",
       "      <th>Tax Due at 7%</th>\n",
       "    </tr>\n",
       "  </thead>\n",
       "  <tbody>\n",
       "    <tr>\n",
       "      <td>0</td>\n",
       "      <td>1</td>\n",
       "      <td>Andover</td>\n",
       "      <td>3303</td>\n",
       "      <td>andover</td>\n",
       "      <td>ANDOVER (001)</td>\n",
       "      <td>127</td>\n",
       "      <td>5529457.0</td>\n",
       "      <td>428026.0</td>\n",
       "      <td>427872.0</td>\n",
       "      <td>59.0</td>\n",
       "    </tr>\n",
       "    <tr>\n",
       "      <td>1</td>\n",
       "      <td>2</td>\n",
       "      <td>Ansonia</td>\n",
       "      <td>19249</td>\n",
       "      <td>ansonia</td>\n",
       "      <td>ANSONIA (002)</td>\n",
       "      <td>402</td>\n",
       "      <td>89228175.0</td>\n",
       "      <td>3817640.0</td>\n",
       "      <td>3813289.0</td>\n",
       "      <td>2042.0</td>\n",
       "    </tr>\n",
       "    <tr>\n",
       "      <td>2</td>\n",
       "      <td>3</td>\n",
       "      <td>Ashford</td>\n",
       "      <td>4317</td>\n",
       "      <td>ashford</td>\n",
       "      <td>ASHFORD (003)</td>\n",
       "      <td>166</td>\n",
       "      <td>12598684.0</td>\n",
       "      <td>659952.0</td>\n",
       "      <td>654175.0</td>\n",
       "      <td>5653.0</td>\n",
       "    </tr>\n",
       "    <tr>\n",
       "      <td>3</td>\n",
       "      <td>4</td>\n",
       "      <td>Avon</td>\n",
       "      <td>18098</td>\n",
       "      <td>avon</td>\n",
       "      <td>AVON (004)</td>\n",
       "      <td>739</td>\n",
       "      <td>205383841.0</td>\n",
       "      <td>8690891.0</td>\n",
       "      <td>8575388.0</td>\n",
       "      <td>113441.0</td>\n",
       "    </tr>\n",
       "    <tr>\n",
       "      <td>4</td>\n",
       "      <td>5</td>\n",
       "      <td>Barkhamsted</td>\n",
       "      <td>3799</td>\n",
       "      <td>barkhamsted</td>\n",
       "      <td>BARKHAMSTED (005)</td>\n",
       "      <td>174</td>\n",
       "      <td>30403443.0</td>\n",
       "      <td>695373.0</td>\n",
       "      <td>694846.0</td>\n",
       "      <td>0.0</td>\n",
       "    </tr>\n",
       "  </tbody>\n",
       "</table>\n",
       "</div>"
      ],
      "text/plain": [
       "   Town Num         TOWN  2010 Population    lowercase       Municipality  \\\n",
       "0         1      Andover             3303      andover      ANDOVER (001)   \n",
       "1         2      Ansonia            19249      ansonia      ANSONIA (002)   \n",
       "2         3      Ashford             4317      ashford      ASHFORD (003)   \n",
       "3         4         Avon            18098         avon         AVON (004)   \n",
       "4         5  Barkhamsted             3799  barkhamsted  BARKHAMSTED (005)   \n",
       "\n",
       "   Number of Taxpayers  Total Retail Sales of Goods  \\\n",
       "0                  127                    5529457.0   \n",
       "1                  402                   89228175.0   \n",
       "2                  166                   12598684.0   \n",
       "3                  739                  205383841.0   \n",
       "4                  174                   30403443.0   \n",
       "\n",
       "   Total Tax Due **(Excluding Tax at 9.35% Rate)   Tax Due At 6.35%  \\\n",
       "0                                        428026.0          427872.0   \n",
       "1                                       3817640.0         3813289.0   \n",
       "2                                        659952.0          654175.0   \n",
       "3                                       8690891.0         8575388.0   \n",
       "4                                        695373.0          694846.0   \n",
       "\n",
       "   Tax Due at 7%  \n",
       "0           59.0  \n",
       "1         2042.0  \n",
       "2         5653.0  \n",
       "3       113441.0  \n",
       "4            0.0  "
      ]
     },
     "execution_count": 7,
     "metadata": {},
     "output_type": "execute_result"
    }
   ],
   "source": [
    "both = pd.merge(left=population, right=tax, how='outer', on='lowercase')\n",
    "both.head()"
   ]
  },
  {
   "cell_type": "markdown",
   "metadata": {},
   "source": [
    "# A few notes\n",
    "* We could have used most any mechanism to make columns the same. \n",
    "* E.g., uppercase rather than lowercase. \n",
    "* The important thing is that they are exactly the same in format. \n",
    "* If the same columns are indexes, so much the better. This improves performance. \n",
    "\n",
    "# The data merging problem\n",
    "* https://data.gov is a huge \"data lake\" of CSV files. \n",
    "* Many of them describe the same entities. \n",
    "* But they may depict the entities differently, and substantive creativity may be necessary to collect all the data for each entity, in this case, towns in Connecticut. \n",
    "\n",
    "# Data fusion\n",
    "* More generally, there is a problem of *Data Fusion* that goes beyond mere tables.\n",
    "* Entities can be geospatial, i.e., on a map. \n",
    "* Entities can overlap. \n",
    "* Data may only be measured for part of an entity, e.g., a county of a state. \n",
    "* Data may not be commensurate for the same entity. \n",
    "\n",
    "# Often, data fusion is more difficult than the analysis that follows. \n",
    "* Column names are synonyms, or missing. \n",
    "* Some columns that are named the same contain different data.\n",
    "* The US 'Open Data Initiative' says that data has to be available, but *does not specify its format or metadata format.* \n",
    "* The EU version is even less specific: *it doesn't even specify that data should be machine readable!*\n",
    "* The [Research Data Alliance](https://rd-alliance.org/) is trying to do something about this by defining metadata and structural standards for CSV data. \n",
    "* My own project [HydroShare](https://www.hydroshare.org) goes much farther, and is compliant with rather rigorous metadata and discoverability standards defined by the [DataOne initiative](https://dataone.org). \n",
    "\n",
    "# What is `how`? \n",
    "* `how`: the join type.\n",
    "* `'outer'`: leave rows in that don't have matches. \n",
    "* `'inner'`: omit any rows that don't match. \n",
    "* `'left'`: keep rows on left if they don't match. \n",
    "* `'right'`: keep rows on right if they don't match. \n",
    "* These names are consistent with names of \"join types\" in database theory. \n",
    "* In fact, that's what we're doing. "
   ]
  },
  {
   "cell_type": "markdown",
   "metadata": {},
   "source": [
    "# Let's put this into practice. \n",
    "\n",
    "Let's register you for grading purposes. "
   ]
  },
  {
   "cell_type": "code",
   "execution_count": 8,
   "metadata": {},
   "outputs": [
    {
     "name": "stdout",
     "output_type": "stream",
     "text": [
      "=====================================================================\n",
      "Assignment: 03-05 Data manipulation\n",
      "OK, version v1.14.15\n",
      "=====================================================================\n",
      "\n"
     ]
    }
   ],
   "source": [
    "# Don't change this cell; just run it. \n",
    "from client.api.notebook import Notebook\n",
    "ok = Notebook('03-05-data-manipulation.ok')"
   ]
  },
  {
   "cell_type": "markdown",
   "metadata": {},
   "source": [
    "Then let's create some `DataFrame`s to play with. "
   ]
  },
  {
   "cell_type": "code",
   "execution_count": 9,
   "metadata": {},
   "outputs": [
    {
     "name": "stdout",
     "output_type": "stream",
     "text": [
      "phones:\n",
      "    name       phone\n",
      "0   Mark  7815551212\n",
      "1   Anne    unlisted\n",
      "2  Frank  4035551212\n",
      "3   Lisa  9195551212\n",
      "\n",
      "addresses:\n",
      "       name         city state\n",
      "0     Frank       Boston    MA\n",
      "1      Anne       Austin    TX\n",
      "2      Mark       Boston    MA\n",
      "3  Samantha  Los Angeles    CA\n",
      "\n",
      "pets:\n",
      "       name type     owner\n",
      "0  Garfield  cat     Frank\n",
      "1    Snoopy  dog      Lisa\n",
      "2      Brrf  dog  Samantha\n",
      "3      Bill  cat      Lisa\n",
      "\n",
      "hobbies:\n",
      "       name          hobby\n",
      "0     Frank        cycling\n",
      "1     Frank      astronomy\n",
      "2    George       knitting\n",
      "3      Anne         tennis\n",
      "4      Mark        cycling\n",
      "5      Mark  rock climbing\n",
      "6  Samantha      astronomy\n"
     ]
    }
   ],
   "source": [
    "phones = pd.DataFrame({\n",
    "    'name': ['Mark', 'Anne', 'Frank', 'Lisa'],\n",
    "    'phone': ['7815551212', 'unlisted', '4035551212', '9195551212']  # NB\n",
    "})\n",
    "print(\"phones:\")\n",
    "print(phones)\n",
    "\n",
    "addresses = pd.DataFrame({\n",
    "    'name': ['Frank', 'Anne', 'Mark', 'Samantha'],\n",
    "    'city': ['Boston', 'Austin', 'Boston', 'Los Angeles'],\n",
    "    'state': ['MA', 'TX', 'MA', 'CA']\n",
    "})\n",
    "print('\\naddresses:')\n",
    "print(addresses)\n",
    "\n",
    "pets = pd.DataFrame({\n",
    "    'name': ['Garfield', 'Snoopy', 'Brrf', 'Bill'],\n",
    "    'type': ['cat', 'dog', 'dog', 'cat'],\n",
    "    'owner': ['Frank', 'Lisa', 'Samantha', 'Lisa']\n",
    "})\n",
    "print('\\npets:')\n",
    "print(pets)\n",
    "\n",
    "hobbies = pd.DataFrame({\n",
    "    'name':['Frank', 'Frank', 'George', 'Anne', 'Mark', 'Mark', 'Samantha'], \n",
    "    'hobby':['cycling', 'astronomy', 'knitting', 'tennis', 'cycling', 'rock climbing', 'astronomy'],\n",
    "})\n",
    "print('\\nhobbies:')\n",
    "print(hobbies)"
   ]
  },
  {
   "cell_type": "markdown",
   "metadata": {},
   "source": [
    "(NB: all the phone numbers are directory assistance. I have learned, in the past, that in any public set of notes, some idiot will actually call the numbers I specify!)"
   ]
  },
  {
   "cell_type": "markdown",
   "metadata": {},
   "source": [
    "1. Make up a regular address book `book` by combining `addresses` and `phones`. We want an entry even if we don't have a phone or an address for a person. "
   ]
  },
  {
   "cell_type": "code",
   "execution_count": 10,
   "metadata": {
    "scrolled": true
   },
   "outputs": [
    {
     "data": {
      "text/html": [
       "<div>\n",
       "<style scoped>\n",
       "    .dataframe tbody tr th:only-of-type {\n",
       "        vertical-align: middle;\n",
       "    }\n",
       "\n",
       "    .dataframe tbody tr th {\n",
       "        vertical-align: top;\n",
       "    }\n",
       "\n",
       "    .dataframe thead th {\n",
       "        text-align: right;\n",
       "    }\n",
       "</style>\n",
       "<table border=\"1\" class=\"dataframe\">\n",
       "  <thead>\n",
       "    <tr style=\"text-align: right;\">\n",
       "      <th></th>\n",
       "      <th>name</th>\n",
       "      <th>city</th>\n",
       "      <th>state</th>\n",
       "      <th>phone</th>\n",
       "    </tr>\n",
       "  </thead>\n",
       "  <tbody>\n",
       "    <tr>\n",
       "      <td>0</td>\n",
       "      <td>Frank</td>\n",
       "      <td>Boston</td>\n",
       "      <td>MA</td>\n",
       "      <td>4035551212</td>\n",
       "    </tr>\n",
       "    <tr>\n",
       "      <td>1</td>\n",
       "      <td>Anne</td>\n",
       "      <td>Austin</td>\n",
       "      <td>TX</td>\n",
       "      <td>unlisted</td>\n",
       "    </tr>\n",
       "    <tr>\n",
       "      <td>2</td>\n",
       "      <td>Mark</td>\n",
       "      <td>Boston</td>\n",
       "      <td>MA</td>\n",
       "      <td>7815551212</td>\n",
       "    </tr>\n",
       "    <tr>\n",
       "      <td>3</td>\n",
       "      <td>Samantha</td>\n",
       "      <td>Los Angeles</td>\n",
       "      <td>CA</td>\n",
       "      <td>NaN</td>\n",
       "    </tr>\n",
       "    <tr>\n",
       "      <td>4</td>\n",
       "      <td>Lisa</td>\n",
       "      <td>NaN</td>\n",
       "      <td>NaN</td>\n",
       "      <td>9195551212</td>\n",
       "    </tr>\n",
       "  </tbody>\n",
       "</table>\n",
       "</div>"
      ],
      "text/plain": [
       "       name         city state       phone\n",
       "0     Frank       Boston    MA  4035551212\n",
       "1      Anne       Austin    TX    unlisted\n",
       "2      Mark       Boston    MA  7815551212\n",
       "3  Samantha  Los Angeles    CA         NaN\n",
       "4      Lisa          NaN   NaN  9195551212"
      ]
     },
     "execution_count": 10,
     "metadata": {},
     "output_type": "execute_result"
    }
   ],
   "source": [
    "# Your answer: \n",
    "book = pd.merge(left=addresses, right=phones, how='outer', on='name')\n",
    "book"
   ]
  },
  {
   "cell_type": "code",
   "execution_count": 16,
   "metadata": {},
   "outputs": [
    {
     "name": "stdout",
     "output_type": "stream",
     "text": [
      "~~~~~~~~~~~~~~~~~~~~~~~~~~~~~~~~~~~~~~~~~~~~~~~~~~~~~~~~~~~~~~~~~~~~~\n",
      "Running tests\n",
      "\n",
      "---------------------------------------------------------------------\n",
      "Test summary\n",
      "    Passed: 1\n",
      "    Failed: 0\n",
      "[ooooooooook] 100.0% passed\n",
      "\n"
     ]
    }
   ],
   "source": [
    "_ = ok.grade('q01')  # run to check your answer"
   ]
  },
  {
   "cell_type": "markdown",
   "metadata": {},
   "source": [
    "2. Merge `pets` with `book` to get an address book `owners` for the `pets`. In this case we leave out an entry if there isn't a pet there. Hint: since column names aren't the same, use `left_on=` and `right_on=`. See [full merge documentation](https://pandas.pydata.org/pandas-docs/stable/reference/api/pandas.DataFrame.merge.html) for details."
   ]
  },
  {
   "cell_type": "code",
   "execution_count": 15,
   "metadata": {
    "scrolled": false
   },
   "outputs": [
    {
     "data": {
      "text/html": [
       "<div>\n",
       "<style scoped>\n",
       "    .dataframe tbody tr th:only-of-type {\n",
       "        vertical-align: middle;\n",
       "    }\n",
       "\n",
       "    .dataframe tbody tr th {\n",
       "        vertical-align: top;\n",
       "    }\n",
       "\n",
       "    .dataframe thead th {\n",
       "        text-align: right;\n",
       "    }\n",
       "</style>\n",
       "<table border=\"1\" class=\"dataframe\">\n",
       "  <thead>\n",
       "    <tr style=\"text-align: right;\">\n",
       "      <th></th>\n",
       "      <th>name_x</th>\n",
       "      <th>type</th>\n",
       "      <th>owner</th>\n",
       "      <th>name_y</th>\n",
       "      <th>city</th>\n",
       "      <th>state</th>\n",
       "      <th>phone</th>\n",
       "    </tr>\n",
       "  </thead>\n",
       "  <tbody>\n",
       "    <tr>\n",
       "      <td>0</td>\n",
       "      <td>Garfield</td>\n",
       "      <td>cat</td>\n",
       "      <td>Frank</td>\n",
       "      <td>Frank</td>\n",
       "      <td>Boston</td>\n",
       "      <td>MA</td>\n",
       "      <td>4035551212</td>\n",
       "    </tr>\n",
       "    <tr>\n",
       "      <td>1</td>\n",
       "      <td>Snoopy</td>\n",
       "      <td>dog</td>\n",
       "      <td>Lisa</td>\n",
       "      <td>Lisa</td>\n",
       "      <td>NaN</td>\n",
       "      <td>NaN</td>\n",
       "      <td>9195551212</td>\n",
       "    </tr>\n",
       "    <tr>\n",
       "      <td>2</td>\n",
       "      <td>Brrf</td>\n",
       "      <td>dog</td>\n",
       "      <td>Samantha</td>\n",
       "      <td>Samantha</td>\n",
       "      <td>Los Angeles</td>\n",
       "      <td>CA</td>\n",
       "      <td>NaN</td>\n",
       "    </tr>\n",
       "    <tr>\n",
       "      <td>3</td>\n",
       "      <td>Bill</td>\n",
       "      <td>cat</td>\n",
       "      <td>Lisa</td>\n",
       "      <td>Lisa</td>\n",
       "      <td>NaN</td>\n",
       "      <td>NaN</td>\n",
       "      <td>9195551212</td>\n",
       "    </tr>\n",
       "  </tbody>\n",
       "</table>\n",
       "</div>"
      ],
      "text/plain": [
       "     name_x type     owner    name_y         city state       phone\n",
       "0  Garfield  cat     Frank     Frank       Boston    MA  4035551212\n",
       "1    Snoopy  dog      Lisa      Lisa          NaN   NaN  9195551212\n",
       "2      Brrf  dog  Samantha  Samantha  Los Angeles    CA         NaN\n",
       "3      Bill  cat      Lisa      Lisa          NaN   NaN  9195551212"
      ]
     },
     "execution_count": 15,
     "metadata": {},
     "output_type": "execute_result"
    }
   ],
   "source": [
    "# Your answer:\n",
    "owners = pd.merge(left=pets, right=book, how='left', left_on='owner', right_on='name')\n",
    "owners"
   ]
  },
  {
   "cell_type": "code",
   "execution_count": 17,
   "metadata": {},
   "outputs": [
    {
     "name": "stdout",
     "output_type": "stream",
     "text": [
      "~~~~~~~~~~~~~~~~~~~~~~~~~~~~~~~~~~~~~~~~~~~~~~~~~~~~~~~~~~~~~~~~~~~~~\n",
      "Running tests\n",
      "\n",
      "---------------------------------------------------------------------\n",
      "Test summary\n",
      "    Passed: 1\n",
      "    Failed: 0\n",
      "[ooooooooook] 100.0% passed\n",
      "\n"
     ]
    }
   ],
   "source": [
    "_ = ok.grade('q02')  # run to check your answer"
   ]
  },
  {
   "cell_type": "markdown",
   "metadata": {},
   "source": [
    "3. Figure out which people share the same hobby by creating a merge `common` of `hobbies` with itself. Then eliminate lines with the same name for both people via row selection.  Also eliminate duplicates by ensuring that names are in alphabetical order from left to right. "
   ]
  },
  {
   "cell_type": "code",
   "execution_count": 20,
   "metadata": {
    "scrolled": true
   },
   "outputs": [
    {
     "data": {
      "text/html": [
       "<div>\n",
       "<style scoped>\n",
       "    .dataframe tbody tr th:only-of-type {\n",
       "        vertical-align: middle;\n",
       "    }\n",
       "\n",
       "    .dataframe tbody tr th {\n",
       "        vertical-align: top;\n",
       "    }\n",
       "\n",
       "    .dataframe thead th {\n",
       "        text-align: right;\n",
       "    }\n",
       "</style>\n",
       "<table border=\"1\" class=\"dataframe\">\n",
       "  <thead>\n",
       "    <tr style=\"text-align: right;\">\n",
       "      <th></th>\n",
       "      <th>name_x</th>\n",
       "      <th>hobby</th>\n",
       "      <th>name_y</th>\n",
       "    </tr>\n",
       "  </thead>\n",
       "  <tbody>\n",
       "    <tr>\n",
       "      <td>1</td>\n",
       "      <td>Frank</td>\n",
       "      <td>cycling</td>\n",
       "      <td>Mark</td>\n",
       "    </tr>\n",
       "    <tr>\n",
       "      <td>5</td>\n",
       "      <td>Frank</td>\n",
       "      <td>astronomy</td>\n",
       "      <td>Samantha</td>\n",
       "    </tr>\n",
       "  </tbody>\n",
       "</table>\n",
       "</div>"
      ],
      "text/plain": [
       "  name_x      hobby    name_y\n",
       "1  Frank    cycling      Mark\n",
       "5  Frank  astronomy  Samantha"
      ]
     },
     "execution_count": 20,
     "metadata": {},
     "output_type": "execute_result"
    }
   ],
   "source": [
    "# Your answer: \n",
    "common = pd.merge(left=hobbies, right=hobbies, how='inner', on='hobby')\n",
    "common = common[(common.name_x != common.name_y) & (common.name_x < common.name_y) ]\n",
    "common"
   ]
  },
  {
   "cell_type": "code",
   "execution_count": 21,
   "metadata": {},
   "outputs": [
    {
     "name": "stdout",
     "output_type": "stream",
     "text": [
      "~~~~~~~~~~~~~~~~~~~~~~~~~~~~~~~~~~~~~~~~~~~~~~~~~~~~~~~~~~~~~~~~~~~~~\n",
      "Running tests\n",
      "\n",
      "---------------------------------------------------------------------\n",
      "Test summary\n",
      "    Passed: 1\n",
      "    Failed: 0\n",
      "[ooooooooook] 100.0% passed\n",
      "\n"
     ]
    }
   ],
   "source": [
    "_ = ok.grade('q03')  # run to check your answer"
   ]
  },
  {
   "cell_type": "markdown",
   "metadata": {},
   "source": [
    "4. For people in `common`, join with `addresses` and select those that live in the same state. Put the result into `pairs`."
   ]
  },
  {
   "cell_type": "code",
   "execution_count": 22,
   "metadata": {},
   "outputs": [
    {
     "name": "stdout",
     "output_type": "stream",
     "text": [
      "  name_x    hobby name_y name_x  city_x state_x name_y  city_y state_y\n",
      "0  Frank  cycling   Mark  Frank  Boston      MA   Mark  Boston      MA\n"
     ]
    },
    {
     "data": {
      "text/html": [
       "<div>\n",
       "<style scoped>\n",
       "    .dataframe tbody tr th:only-of-type {\n",
       "        vertical-align: middle;\n",
       "    }\n",
       "\n",
       "    .dataframe tbody tr th {\n",
       "        vertical-align: top;\n",
       "    }\n",
       "\n",
       "    .dataframe thead th {\n",
       "        text-align: right;\n",
       "    }\n",
       "</style>\n",
       "<table border=\"1\" class=\"dataframe\">\n",
       "  <thead>\n",
       "    <tr style=\"text-align: right;\">\n",
       "      <th></th>\n",
       "      <th>name_x</th>\n",
       "      <th>hobby</th>\n",
       "      <th>name_y</th>\n",
       "      <th>name_x</th>\n",
       "      <th>city_x</th>\n",
       "      <th>state_x</th>\n",
       "      <th>name_y</th>\n",
       "      <th>city_y</th>\n",
       "      <th>state_y</th>\n",
       "    </tr>\n",
       "  </thead>\n",
       "  <tbody>\n",
       "    <tr>\n",
       "      <td>0</td>\n",
       "      <td>Frank</td>\n",
       "      <td>cycling</td>\n",
       "      <td>Mark</td>\n",
       "      <td>Frank</td>\n",
       "      <td>Boston</td>\n",
       "      <td>MA</td>\n",
       "      <td>Mark</td>\n",
       "      <td>Boston</td>\n",
       "      <td>MA</td>\n",
       "    </tr>\n",
       "  </tbody>\n",
       "</table>\n",
       "</div>"
      ],
      "text/plain": [
       "  name_x    hobby name_y name_x  city_x state_x name_y  city_y state_y\n",
       "0  Frank  cycling   Mark  Frank  Boston      MA   Mark  Boston      MA"
      ]
     },
     "execution_count": 22,
     "metadata": {},
     "output_type": "execute_result"
    }
   ],
   "source": [
    "# Your answer: \n",
    "p1 = pd.merge(left=common, right=addresses, how='left', left_on='name_x', right_on='name')\n",
    "p2 = pd.merge(left=p1, right=addresses, how='left', left_on='name_y', right_on='name')\n",
    "pairs = p2[p2.state_x == p2.state_y]\n",
    "print(pairs)\n",
    "pairs"
   ]
  },
  {
   "cell_type": "code",
   "execution_count": 23,
   "metadata": {},
   "outputs": [
    {
     "name": "stdout",
     "output_type": "stream",
     "text": [
      "~~~~~~~~~~~~~~~~~~~~~~~~~~~~~~~~~~~~~~~~~~~~~~~~~~~~~~~~~~~~~~~~~~~~~\n",
      "Running tests\n",
      "\n",
      "---------------------------------------------------------------------\n",
      "Test summary\n",
      "    Passed: 1\n",
      "    Failed: 0\n",
      "[ooooooooook] 100.0% passed\n",
      "\n"
     ]
    }
   ],
   "source": [
    "_ = ok.grade('q04')  # run to check your answer"
   ]
  },
  {
   "cell_type": "markdown",
   "metadata": {},
   "source": [
    "5. Delete extra columns from `pairs` to leave `name_x`, `hobby`, and `name_y`. \n",
    "Put the result in `possible`. Hint: google this."
   ]
  },
  {
   "cell_type": "code",
   "execution_count": 24,
   "metadata": {},
   "outputs": [
    {
     "name": "stdout",
     "output_type": "stream",
     "text": [
      "  name_x    hobby name_y\n",
      "0  Frank  cycling   Mark\n"
     ]
    },
    {
     "data": {
      "text/html": [
       "<div>\n",
       "<style scoped>\n",
       "    .dataframe tbody tr th:only-of-type {\n",
       "        vertical-align: middle;\n",
       "    }\n",
       "\n",
       "    .dataframe tbody tr th {\n",
       "        vertical-align: top;\n",
       "    }\n",
       "\n",
       "    .dataframe thead th {\n",
       "        text-align: right;\n",
       "    }\n",
       "</style>\n",
       "<table border=\"1\" class=\"dataframe\">\n",
       "  <thead>\n",
       "    <tr style=\"text-align: right;\">\n",
       "      <th></th>\n",
       "      <th>name_x</th>\n",
       "      <th>hobby</th>\n",
       "      <th>name_y</th>\n",
       "    </tr>\n",
       "  </thead>\n",
       "  <tbody>\n",
       "    <tr>\n",
       "      <td>0</td>\n",
       "      <td>Frank</td>\n",
       "      <td>cycling</td>\n",
       "      <td>Mark</td>\n",
       "    </tr>\n",
       "  </tbody>\n",
       "</table>\n",
       "</div>"
      ],
      "text/plain": [
       "  name_x    hobby name_y\n",
       "0  Frank  cycling   Mark"
      ]
     },
     "execution_count": 24,
     "metadata": {},
     "output_type": "execute_result"
    }
   ],
   "source": [
    "# Your answer: \n",
    "possible = pairs.loc[:,~pairs.columns.duplicated()].loc[:,'name_x':'name_y']\n",
    "print(possible)\n",
    "possible"
   ]
  },
  {
   "cell_type": "code",
   "execution_count": 25,
   "metadata": {},
   "outputs": [
    {
     "name": "stdout",
     "output_type": "stream",
     "text": [
      "~~~~~~~~~~~~~~~~~~~~~~~~~~~~~~~~~~~~~~~~~~~~~~~~~~~~~~~~~~~~~~~~~~~~~\n",
      "Running tests\n",
      "\n",
      "---------------------------------------------------------------------\n",
      "Test summary\n",
      "    Passed: 1\n",
      "    Failed: 0\n",
      "[ooooooooook] 100.0% passed\n",
      "\n"
     ]
    }
   ],
   "source": [
    "_ = ok.grade('q05')  # run to check your answer"
   ]
  }
 ],
 "metadata": {
  "kernelspec": {
   "display_name": "Python 3",
   "language": "python",
   "name": "python3"
  },
  "language_info": {
   "codemirror_mode": {
    "name": "ipython",
    "version": 3
   },
   "file_extension": ".py",
   "mimetype": "text/x-python",
   "name": "python",
   "nbconvert_exporter": "python",
   "pygments_lexer": "ipython3",
   "version": "3.7.4"
  }
 },
 "nbformat": 4,
 "nbformat_minor": 2
}
