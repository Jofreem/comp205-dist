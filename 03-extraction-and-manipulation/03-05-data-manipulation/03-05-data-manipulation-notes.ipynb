{
 "cells": [
  {
   "cell_type": "markdown",
   "metadata": {},
   "source": [
    "# Merges and matching\n",
    "\n",
    "## Merges\n",
    "\n",
    "<img align=\"right\" style=\"padding-left:10px; height: 64%; width: 48%\" src=\"Addenda/figures/sql-joins.png\" >\n",
    "\n",
    "* A number of pandas operations are patterned on SQL JOIN\n",
    "* The pandas equivalent looks like `pd.merge(left=df1, right=df2, how='...', on='common_attr')`\n",
    "    * `how` is `inner` by default, or can be `left`, `right`, or `outer`.\n",
    "    * If the column names in both tables are different, one can use `left_on=...` and `right_on=...`.\n",
    "    * SQL JOIN statements typically include a `WHERE` clause. These are unavailable in pandas but the pandas operation can be followed by pandas selectors. See \"Matching\" below.\n",
    "* See the SQL JOIN page on [Wikipedia](https://en.wikipedia.org/wiki/Join_(SQL)) for reference."
   ]
  },
  {
   "cell_type": "markdown",
   "metadata": {},
   "source": [
    "## Matching\n",
    "\n",
    "<img align=\"right\" style=\"padding-left:10px; height: 50%; width: 50%\" src=\"Addenda/figures/pandas-loc-iloc.png\" >\n",
    "\n",
    "Pandas provides two idioms for matching rows and columns, shown alongside:\n",
    "\n",
    "* Selecting data by label or by a conditional statment (`.loc`). We studied `.loc()` in the 03-04-dataframes-in-pandas notebook.\n",
    "* Selecting data by row numbers (`.iloc`). `.iloc` is similar except it uses row numbers.\n",
    "\n",
    "The data manipulation workbook is based upon [the merges getting started](https://pandas.pydata.org/pandas-docs/stable/getting_started/10min.html#merge) in the Pandas documentation. Following up on the comment on the WHERE clause above, the idiom for incorporating uses `.loc` (or `.iloc`) and looks like:\n",
    "\n",
    "```\n",
    "result = pd.merge(left=df1, right=df2, how='...', on='common_attr')\n",
    "result = result.loc[ <row_sel>, <column_sel> ]\n",
    "\n",
    "\n",
    "```\n"
   ]
  },
  {
   "cell_type": "markdown",
   "metadata": {},
   "source": [
    "## Self Join\n",
    "\n",
    "<img align=\"right\" style=\"padding-left:10px; height: 50%; width: 50%\" src=\"Addenda/figures/self-join.gif\" >\n",
    "\n",
    "The notion of self-joins is sometimes confusing even though it is exactly equivalent to joins. \n",
    "\n",
    "```\n",
    "fname\n",
    "------\n",
    "Alex\n",
    "Barb\n",
    "Cory\n",
    "```\n",
    "Then `SELECT a.*, b.* FROM name a JOIN name b ; ` yields\n",
    "\n",
    "```\n",
    "a.fname | b.fname\n",
    "------------+-----------\n",
    "Alex    | Alex\n",
    "Alex    | Barb\n",
    "Alex    | Cory\n",
    "Barb    | Alex\n",
    "Barb    | Barb\n",
    "Barb    | Cory\n",
    "Cory    | Alex\n",
    "Cory    | Barb\n",
    "Cory    | Cory\n",
    "```\n",
    "\n",
    "To remove duplicates, the usual idiom is: `SELECT a.*, b.* FROM name a JOIN name b WHERE a.fname < b.fname; `\n",
    "\n",
    "The figure alongside depicts a more general case of self-joins."
   ]
  }
 ],
 "metadata": {
  "kernelspec": {
   "display_name": "Python 3",
   "language": "python",
   "name": "python3"
  },
  "language_info": {
   "codemirror_mode": {
    "name": "ipython",
    "version": 3
   },
   "file_extension": ".py",
   "mimetype": "text/x-python",
   "name": "python",
   "nbconvert_exporter": "python",
   "pygments_lexer": "ipython3",
   "version": "3.7.4"
  }
 },
 "nbformat": 4,
 "nbformat_minor": 2
}
