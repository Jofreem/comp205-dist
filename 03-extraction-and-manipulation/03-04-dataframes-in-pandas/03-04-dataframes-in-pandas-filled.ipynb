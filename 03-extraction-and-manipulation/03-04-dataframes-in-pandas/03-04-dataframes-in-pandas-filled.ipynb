{
 "cells": [
  {
   "cell_type": "markdown",
   "metadata": {},
   "source": [
    "# Pandas and dataframes"
   ]
  },
  {
   "cell_type": "markdown",
   "metadata": {},
   "source": [
    "# Pandas and dataframes\n",
    "\n",
    "* Numpy is limited by the basic limit of having to have the same type for every element of an `ndarray`. \n",
    "    * The exercise in 03-03-data-ingest revealed this limitation of Numpy when we couldn't read a rectangular structure with dissimilar data types into an `ndarray`. See SciPy [Structured Arrays and Structured Datatypes](https://docs.scipy.org/doc/numpy/user/basics.rec.html) for more details.\n",
    "* Columns in a typical spreadsheet can each be of a different type. \n",
    "* Thus, Numpy does not correctly express spreadsheets. \n",
    "* The `DataFrame` concept completely embodies the concept of a spreadsheet with multiple column types. \n",
    "\n",
    "These workbooks are based upon [pandas in 10 minutes](https://pandas.pydata.org/pandas-docs/stable/getting_started/10min.html) and subsequent detailed tutorials.\n",
    "\n",
    "# Pandas and numpy\n",
    "* Pandas is -- in fact -- based upon `numpy` and `numpy.ndarray` concepts. \n",
    "* The convenience of Pandas comes from being higher-level. \n",
    "* In a detailed analysis, `numpy.ndarray` is often still required, e.g., for TensorFlow and related tools. \n",
    "* Thus, one has to understand \"both levels of abstraction.\"\n",
    "\n",
    "# Pandas vs. Numpy\n",
    "\n",
    "| numpy | pandas |\n",
    "|-------|--------|\n",
    "| Strength is multidimensional arrays and tensors | Strength is spreadsheets and time series |\n",
    "| Assumes integer axes | Allows axes based upon timestamp and other indexes |\n",
    "| Assumes homogeneous types | Allows heterogeneous column types |\n",
    "| Row queries are complex | Rpw queries are simple |\n",
    "| Rudimentary csv handling | Advanced csv handling includes all special cases | \n",
    " \n",
    "# Why most people use Pandas\n",
    "* Most data is in spreadsheets. \n",
    "* Unlike numpy, pandas makes reading spreadsheets trivial. \n",
    "\n",
    "# My advice \n",
    "* if your data is csv, then *read it into pandas and then reformat it into the appropriate numpy objects as needed.* \n",
    "Consider: "
   ]
  },
  {
   "cell_type": "code",
   "execution_count": 1,
   "metadata": {},
   "outputs": [],
   "source": [
    "%more data1.csv"
   ]
  },
  {
   "cell_type": "code",
   "execution_count": 2,
   "metadata": {},
   "outputs": [
    {
     "data": {
      "text/html": [
       "<div>\n",
       "<style scoped>\n",
       "    .dataframe tbody tr th:only-of-type {\n",
       "        vertical-align: middle;\n",
       "    }\n",
       "\n",
       "    .dataframe tbody tr th {\n",
       "        vertical-align: top;\n",
       "    }\n",
       "\n",
       "    .dataframe thead th {\n",
       "        text-align: right;\n",
       "    }\n",
       "</style>\n",
       "<table border=\"1\" class=\"dataframe\">\n",
       "  <thead>\n",
       "    <tr style=\"text-align: right;\">\n",
       "      <th></th>\n",
       "      <th>heading1</th>\n",
       "      <th>heading2</th>\n",
       "      <th>comments</th>\n",
       "    </tr>\n",
       "  </thead>\n",
       "  <tbody>\n",
       "    <tr>\n",
       "      <td>0</td>\n",
       "      <td>1</td>\n",
       "      <td>2</td>\n",
       "      <td>This is, of course, problematic in numpy</td>\n",
       "    </tr>\n",
       "    <tr>\n",
       "      <td>1</td>\n",
       "      <td>3</td>\n",
       "      <td>4</td>\n",
       "      <td>This is, too</td>\n",
       "    </tr>\n",
       "  </tbody>\n",
       "</table>\n",
       "</div>"
      ],
      "text/plain": [
       "   heading1  heading2                                  comments\n",
       "0         1         2  This is, of course, problematic in numpy\n",
       "1         3         4                              This is, too"
      ]
     },
     "execution_count": 2,
     "metadata": {},
     "output_type": "execute_result"
    }
   ],
   "source": [
    "import pandas as pd\n",
    "data1 = pd.read_csv('data1.csv')\n",
    "data1"
   ]
  },
  {
   "cell_type": "markdown",
   "metadata": {},
   "source": [
    "# Observations\n",
    "* Pandas is tuned to read MS Excel spreadsheets. \n",
    "* You can thus stop worrying about commas in strings. \n",
    "* Printouts are made pretty via correct pretty-printing calls. \n",
    "* Row number/index is listed to left. \n",
    "\n",
    "# What happened to `numpy`? \n",
    "* `data1` is a `DataFrame`. \n",
    "* Each of the columns are represented in `numpy`\n",
    "\n",
    "Consider"
   ]
  },
  {
   "cell_type": "code",
   "execution_count": 3,
   "metadata": {},
   "outputs": [
    {
     "data": {
      "text/plain": [
       "0    1\n",
       "1    3\n",
       "Name: heading1, dtype: int64"
      ]
     },
     "execution_count": 3,
     "metadata": {},
     "output_type": "execute_result"
    }
   ],
   "source": [
    "data1['heading1']"
   ]
  },
  {
   "cell_type": "code",
   "execution_count": 4,
   "metadata": {},
   "outputs": [
    {
     "data": {
      "text/plain": [
       "0    1\n",
       "1    3\n",
       "Name: heading1, dtype: int64"
      ]
     },
     "execution_count": 4,
     "metadata": {},
     "output_type": "execute_result"
    }
   ],
   "source": [
    "data1.heading1"
   ]
  },
  {
   "cell_type": "code",
   "execution_count": 5,
   "metadata": {},
   "outputs": [
    {
     "data": {
      "text/plain": [
       "pandas.core.frame.DataFrame"
      ]
     },
     "execution_count": 5,
     "metadata": {},
     "output_type": "execute_result"
    }
   ],
   "source": [
    "type(data1)"
   ]
  },
  {
   "cell_type": "code",
   "execution_count": 6,
   "metadata": {},
   "outputs": [
    {
     "data": {
      "text/plain": [
       "array([1, 3])"
      ]
     },
     "execution_count": 6,
     "metadata": {},
     "output_type": "execute_result"
    }
   ],
   "source": [
    "data1['heading1'].values"
   ]
  },
  {
   "cell_type": "markdown",
   "metadata": {},
   "source": [
    "*Numpy is still underneath!*\n",
    "\n",
    "# The reality of higher-level abstractions\n",
    "* Do one thing well. \n",
    "* Are relatively poor at doing other things. \n",
    "\n",
    "# Pandas is\n",
    "* excellent at parsing spreadsheets. \n",
    "* relatively poor at numerical operations, at which `numpy` excels. \n",
    "* Absolutely horrible at tensors. My advice is simply *don't!* Use `numpy` instead. \n",
    "\n",
    "# Pandas joys\n",
    "Compared to `numpy`\n",
    "* Columns are accessed by name. \n",
    "* Everything prints prettily. \n",
    "* Row selection is intuitive.\n",
    "\n",
    "Consider: \n"
   ]
  },
  {
   "cell_type": "code",
   "execution_count": 7,
   "metadata": {},
   "outputs": [
    {
     "data": {
      "text/html": [
       "<div>\n",
       "<style scoped>\n",
       "    .dataframe tbody tr th:only-of-type {\n",
       "        vertical-align: middle;\n",
       "    }\n",
       "\n",
       "    .dataframe tbody tr th {\n",
       "        vertical-align: top;\n",
       "    }\n",
       "\n",
       "    .dataframe thead th {\n",
       "        text-align: right;\n",
       "    }\n",
       "</style>\n",
       "<table border=\"1\" class=\"dataframe\">\n",
       "  <thead>\n",
       "    <tr style=\"text-align: right;\">\n",
       "      <th></th>\n",
       "      <th>heading1</th>\n",
       "      <th>heading2</th>\n",
       "      <th>comments</th>\n",
       "    </tr>\n",
       "  </thead>\n",
       "  <tbody>\n",
       "    <tr>\n",
       "      <td>1</td>\n",
       "      <td>3</td>\n",
       "      <td>4</td>\n",
       "      <td>This is, too</td>\n",
       "    </tr>\n",
       "  </tbody>\n",
       "</table>\n",
       "</div>"
      ],
      "text/plain": [
       "   heading1  heading2      comments\n",
       "1         3         4  This is, too"
      ]
     },
     "execution_count": 7,
     "metadata": {},
     "output_type": "execute_result"
    }
   ],
   "source": [
    "data1[data1.heading1 > 1 ]"
   ]
  },
  {
   "cell_type": "code",
   "execution_count": 8,
   "metadata": {},
   "outputs": [
    {
     "data": {
      "text/html": [
       "<div>\n",
       "<style scoped>\n",
       "    .dataframe tbody tr th:only-of-type {\n",
       "        vertical-align: middle;\n",
       "    }\n",
       "\n",
       "    .dataframe tbody tr th {\n",
       "        vertical-align: top;\n",
       "    }\n",
       "\n",
       "    .dataframe thead th {\n",
       "        text-align: right;\n",
       "    }\n",
       "</style>\n",
       "<table border=\"1\" class=\"dataframe\">\n",
       "  <thead>\n",
       "    <tr style=\"text-align: right;\">\n",
       "      <th></th>\n",
       "      <th>heading1</th>\n",
       "      <th>heading2</th>\n",
       "      <th>comments</th>\n",
       "      <th>sum</th>\n",
       "    </tr>\n",
       "  </thead>\n",
       "  <tbody>\n",
       "    <tr>\n",
       "      <td>0</td>\n",
       "      <td>1</td>\n",
       "      <td>2</td>\n",
       "      <td>This is, of course, problematic in numpy</td>\n",
       "      <td>3</td>\n",
       "    </tr>\n",
       "    <tr>\n",
       "      <td>1</td>\n",
       "      <td>3</td>\n",
       "      <td>4</td>\n",
       "      <td>This is, too</td>\n",
       "      <td>7</td>\n",
       "    </tr>\n",
       "  </tbody>\n",
       "</table>\n",
       "</div>"
      ],
      "text/plain": [
       "   heading1  heading2                                  comments  sum\n",
       "0         1         2  This is, of course, problematic in numpy    3\n",
       "1         3         4                              This is, too    7"
      ]
     },
     "execution_count": 8,
     "metadata": {},
     "output_type": "execute_result"
    }
   ],
   "source": [
    "data1['sum'] = data1.heading1 + data1.heading2\n",
    "data1"
   ]
  },
  {
   "cell_type": "code",
   "execution_count": 9,
   "metadata": {},
   "outputs": [
    {
     "data": {
      "text/html": [
       "<div>\n",
       "<style scoped>\n",
       "    .dataframe tbody tr th:only-of-type {\n",
       "        vertical-align: middle;\n",
       "    }\n",
       "\n",
       "    .dataframe tbody tr th {\n",
       "        vertical-align: top;\n",
       "    }\n",
       "\n",
       "    .dataframe thead th {\n",
       "        text-align: right;\n",
       "    }\n",
       "</style>\n",
       "<table border=\"1\" class=\"dataframe\">\n",
       "  <thead>\n",
       "    <tr style=\"text-align: right;\">\n",
       "      <th></th>\n",
       "      <th>heading1</th>\n",
       "      <th>heading2</th>\n",
       "      <th>comments</th>\n",
       "      <th>sum</th>\n",
       "      <th>approved</th>\n",
       "    </tr>\n",
       "  </thead>\n",
       "  <tbody>\n",
       "    <tr>\n",
       "      <td>0</td>\n",
       "      <td>1</td>\n",
       "      <td>2</td>\n",
       "      <td>This is, of course, problematic in numpy</td>\n",
       "      <td>3</td>\n",
       "      <td>True</td>\n",
       "    </tr>\n",
       "    <tr>\n",
       "      <td>1</td>\n",
       "      <td>3</td>\n",
       "      <td>4</td>\n",
       "      <td>This is, too</td>\n",
       "      <td>7</td>\n",
       "      <td>True</td>\n",
       "    </tr>\n",
       "  </tbody>\n",
       "</table>\n",
       "</div>"
      ],
      "text/plain": [
       "   heading1  heading2                                  comments  sum  approved\n",
       "0         1         2  This is, of course, problematic in numpy    3      True\n",
       "1         3         4                              This is, too    7      True"
      ]
     },
     "execution_count": 9,
     "metadata": {},
     "output_type": "execute_result"
    }
   ],
   "source": [
    "data1['approved'] = True\n",
    "data1"
   ]
  },
  {
   "cell_type": "markdown",
   "metadata": {},
   "source": [
    "# Observations\n",
    "* Can access columns as if they are dictionaries. \n",
    "* Can access columns as if they are class members. \n",
    "* Can do column arithmetic. Result is a new column. \n",
    "* Can set a new column to the same value for all rows. \n",
    "* Can add columns to the `DataFrame` dynamically by using a new keyword for each new column. "
   ]
  },
  {
   "cell_type": "code",
   "execution_count": 10,
   "metadata": {},
   "outputs": [
    {
     "data": {
      "text/plain": [
       "1    4\n",
       "Name: heading2, dtype: int64"
      ]
     },
     "execution_count": 10,
     "metadata": {},
     "output_type": "execute_result"
    }
   ],
   "source": [
    "data1.loc[data1.heading1 > 2, 'heading2']"
   ]
  },
  {
   "cell_type": "code",
   "execution_count": 11,
   "metadata": {},
   "outputs": [
    {
     "data": {
      "text/html": [
       "<div>\n",
       "<style scoped>\n",
       "    .dataframe tbody tr th:only-of-type {\n",
       "        vertical-align: middle;\n",
       "    }\n",
       "\n",
       "    .dataframe tbody tr th {\n",
       "        vertical-align: top;\n",
       "    }\n",
       "\n",
       "    .dataframe thead th {\n",
       "        text-align: right;\n",
       "    }\n",
       "</style>\n",
       "<table border=\"1\" class=\"dataframe\">\n",
       "  <thead>\n",
       "    <tr style=\"text-align: right;\">\n",
       "      <th></th>\n",
       "      <th>heading1</th>\n",
       "      <th>heading2</th>\n",
       "      <th>comments</th>\n",
       "      <th>sum</th>\n",
       "      <th>approved</th>\n",
       "    </tr>\n",
       "  </thead>\n",
       "  <tbody>\n",
       "    <tr>\n",
       "      <td>1</td>\n",
       "      <td>3</td>\n",
       "      <td>200</td>\n",
       "      <td>This is, too</td>\n",
       "      <td>7</td>\n",
       "      <td>True</td>\n",
       "    </tr>\n",
       "  </tbody>\n",
       "</table>\n",
       "</div>"
      ],
      "text/plain": [
       "   heading1  heading2      comments  sum  approved\n",
       "1         3       200  This is, too    7      True"
      ]
     },
     "execution_count": 11,
     "metadata": {},
     "output_type": "execute_result"
    }
   ],
   "source": [
    "data1.loc[data1.heading1 > 2, 'heading2'] = 200\n",
    "data1[data1.heading1 > 2]"
   ]
  },
  {
   "cell_type": "markdown",
   "metadata": {},
   "source": [
    "# Whoa there! \n",
    "\n",
    "* What just happened? \n",
    "* You might recall that one of the major pains in `numpy` is that row data is immutable. \n",
    "* Here we managed to set a row and column based upon conditions upon all rows and columns. \n",
    "* `data1.loc[<row selector>, <column selector>] = <value>`\n",
    "* This is difficult to understand, but really powerful. \n",
    "* It's also not all-powerful, and what it can't do is important. \n",
    "\n",
    "# A tale of Lvalues and Rvalues \n",
    "* At its core, Pandas very heavily uses the hacks available in Python classes. \n",
    "* These allow it to control which expressions are Lvalues and which are Rvalues. \n",
    "* An *Lvalue* is anything that can be on the left of the = sign in an assignment. \n",
    "* An *Rvalue* can be on the right hand side of the = sign in an assignment. \n",
    "* For the most part, *Lvalues are Rvalues*, but not vice-versa. \n",
    "* But, in Pandas, there is an active tension between \n",
    "    \n",
    "    * Selecting data and \n",
    "    * Setting data. \n",
    "\n",
    "* That plays out by defining *different dyntaxes for setting and selection.*\n",
    "\n",
    "# What this means in practice is that:\n",
    "* One should be wary of placing expressions like df[..] on the left-hand side of the =, \n",
    "* because *there is a distinct syntax df.loc[...] that is designed for that!*\n",
    "\n",
    "# An aside: how we control Lvalues and Rvalues in Python\n",
    "* Python classes allow one to define methods that are different for whether the object is on the left-hand or right-hand side of the = sign. \n",
    "* Here is a simple demo"
   ]
  },
  {
   "cell_type": "code",
   "execution_count": 15,
   "metadata": {},
   "outputs": [
    {
     "name": "stdout",
     "output_type": "stream",
     "text": [
      "I'm setting item at index 4 to yo\n",
      "[None, None, None, None, 'yo']\n",
      "I'm getting the the value at index 4\n"
     ]
    },
    {
     "data": {
      "text/plain": [
       "'yo'"
      ]
     },
     "execution_count": 15,
     "metadata": {},
     "output_type": "execute_result"
    }
   ],
   "source": [
    "class Foo(): \n",
    "    items = []\n",
    "    def __getitem__(self, index): \n",
    "        print(\"I'm getting the the value at index {}\".format(index))\n",
    "        return self.items[index]\n",
    "    def __setitem__(self, index, value): \n",
    "        print(\"I'm setting item at index {} to {}\".format(index, value))\n",
    "        while (len(self.items) < index+1): \n",
    "            self.items.append(None)\n",
    "        self.items[index] = value\n",
    "\n",
    "f = Foo()\n",
    "f[4] = 'yo'  # f,__setitem__(4, 'yo')\n",
    "print(f.items)\n",
    "f[4]  # f.__getitem__(4)"
   ]
  },
  {
   "cell_type": "markdown",
   "metadata": {},
   "source": [
    "# This insane little class\n",
    "* implements a *self-extending list*. \n",
    "* values that are not defined are set to `None`.\n",
    "* Without this intervention, if `f` were a regular list, this code would result in a runtime error. \n",
    "\n",
    "# The Lvalue/Rvalue minefield\n",
    "* When learning Pandas and specifically `DataFrame`s, it's really difficult to keep straight what can be on the left-hand-side of the = sign in an assignment. \n",
    "* This can be a coding minefield, where assignment statements can \"blow up\" when you least expect them to do so. \n",
    "* Some things that look like Lvalues actually are.\n",
    "    * Assigning a list of values to a whole column. \n",
    "* Some things that look like Lvalues are not, e.g., \n",
    "    * Assigning a value to part of a column. \n",
    "\n",
    "# Let's put this into practice.  \n",
    "\n",
    "First, let's load some interesting data into a DataFrame: "
   ]
  },
  {
   "cell_type": "code",
   "execution_count": 19,
   "metadata": {},
   "outputs": [
    {
     "name": "stdout",
     "output_type": "stream",
     "text": [
      "First 10 rows are:\n"
     ]
    },
    {
     "data": {
      "text/html": [
       "<div>\n",
       "<style scoped>\n",
       "    .dataframe tbody tr th:only-of-type {\n",
       "        vertical-align: middle;\n",
       "    }\n",
       "\n",
       "    .dataframe tbody tr th {\n",
       "        vertical-align: top;\n",
       "    }\n",
       "\n",
       "    .dataframe thead th {\n",
       "        text-align: right;\n",
       "    }\n",
       "</style>\n",
       "<table border=\"1\" class=\"dataframe\">\n",
       "  <thead>\n",
       "    <tr style=\"text-align: right;\">\n",
       "      <th></th>\n",
       "      <th>Town Num</th>\n",
       "      <th>TOWN</th>\n",
       "      <th>2010 Population</th>\n",
       "    </tr>\n",
       "  </thead>\n",
       "  <tbody>\n",
       "    <tr>\n",
       "      <td>0</td>\n",
       "      <td>1</td>\n",
       "      <td>Andover</td>\n",
       "      <td>3303</td>\n",
       "    </tr>\n",
       "    <tr>\n",
       "      <td>1</td>\n",
       "      <td>2</td>\n",
       "      <td>Ansonia</td>\n",
       "      <td>19249</td>\n",
       "    </tr>\n",
       "    <tr>\n",
       "      <td>2</td>\n",
       "      <td>3</td>\n",
       "      <td>Ashford</td>\n",
       "      <td>4317</td>\n",
       "    </tr>\n",
       "    <tr>\n",
       "      <td>3</td>\n",
       "      <td>4</td>\n",
       "      <td>Avon</td>\n",
       "      <td>18098</td>\n",
       "    </tr>\n",
       "    <tr>\n",
       "      <td>4</td>\n",
       "      <td>5</td>\n",
       "      <td>Barkhamsted</td>\n",
       "      <td>3799</td>\n",
       "    </tr>\n",
       "  </tbody>\n",
       "</table>\n",
       "</div>"
      ],
      "text/plain": [
       "   Town Num         TOWN  2010 Population\n",
       "0         1      Andover             3303\n",
       "1         2      Ansonia            19249\n",
       "2         3      Ashford             4317\n",
       "3         4         Avon            18098\n",
       "4         5  Barkhamsted             3799"
      ]
     },
     "execution_count": 19,
     "metadata": {},
     "output_type": "execute_result"
    }
   ],
   "source": [
    "towns = pd.read_csv('2010_Population_By_Town.csv')\n",
    "print(\"First 10 rows are:\")\n",
    "towns.head()  # First 5 rows. Remove qualifier to see all "
   ]
  },
  {
   "cell_type": "markdown",
   "metadata": {},
   "source": [
    "(source: US census, state of Conn, data.gov) \n",
    "\n",
    "1. Write an expression for rows for towns with population above 100000"
   ]
  },
  {
   "cell_type": "code",
   "execution_count": 33,
   "metadata": {},
   "outputs": [
    {
     "data": {
      "text/html": [
       "<div>\n",
       "<style scoped>\n",
       "    .dataframe tbody tr th:only-of-type {\n",
       "        vertical-align: middle;\n",
       "    }\n",
       "\n",
       "    .dataframe tbody tr th {\n",
       "        vertical-align: top;\n",
       "    }\n",
       "\n",
       "    .dataframe thead th {\n",
       "        text-align: right;\n",
       "    }\n",
       "</style>\n",
       "<table border=\"1\" class=\"dataframe\">\n",
       "  <thead>\n",
       "    <tr style=\"text-align: right;\">\n",
       "      <th></th>\n",
       "      <th>Town Num</th>\n",
       "      <th>TOWN</th>\n",
       "      <th>2010 Population</th>\n",
       "    </tr>\n",
       "  </thead>\n",
       "  <tbody>\n",
       "    <tr>\n",
       "      <td>14</td>\n",
       "      <td>15</td>\n",
       "      <td>Bridgeport</td>\n",
       "      <td>144229</td>\n",
       "    </tr>\n",
       "    <tr>\n",
       "      <td>63</td>\n",
       "      <td>64</td>\n",
       "      <td>Hartford</td>\n",
       "      <td>124775</td>\n",
       "    </tr>\n",
       "    <tr>\n",
       "      <td>92</td>\n",
       "      <td>93</td>\n",
       "      <td>New Haven</td>\n",
       "      <td>129779</td>\n",
       "    </tr>\n",
       "    <tr>\n",
       "      <td>134</td>\n",
       "      <td>135</td>\n",
       "      <td>Stamford</td>\n",
       "      <td>122643</td>\n",
       "    </tr>\n",
       "    <tr>\n",
       "      <td>150</td>\n",
       "      <td>151</td>\n",
       "      <td>Waterbury</td>\n",
       "      <td>110366</td>\n",
       "    </tr>\n",
       "  </tbody>\n",
       "</table>\n",
       "</div>"
      ],
      "text/plain": [
       "     Town Num        TOWN  2010 Population\n",
       "14         15  Bridgeport           144229\n",
       "63         64    Hartford           124775\n",
       "92         93   New Haven           129779\n",
       "134       135    Stamford           122643\n",
       "150       151   Waterbury           110366"
      ]
     },
     "execution_count": 33,
     "metadata": {},
     "output_type": "execute_result"
    }
   ],
   "source": [
    "# your answer\n",
    "towns.loc[towns['2010 Population'] > 100000]"
   ]
  },
  {
   "cell_type": "markdown",
   "metadata": {},
   "source": [
    "2. Write an expression for all towns whose name starts with 'C'. Hint: use >= 'C', < 'D' to select. "
   ]
  },
  {
   "cell_type": "code",
   "execution_count": 40,
   "metadata": {},
   "outputs": [
    {
     "data": {
      "text/html": [
       "<div>\n",
       "<style scoped>\n",
       "    .dataframe tbody tr th:only-of-type {\n",
       "        vertical-align: middle;\n",
       "    }\n",
       "\n",
       "    .dataframe tbody tr th {\n",
       "        vertical-align: top;\n",
       "    }\n",
       "\n",
       "    .dataframe thead th {\n",
       "        text-align: right;\n",
       "    }\n",
       "</style>\n",
       "<table border=\"1\" class=\"dataframe\">\n",
       "  <thead>\n",
       "    <tr style=\"text-align: right;\">\n",
       "      <th></th>\n",
       "      <th>Town Num</th>\n",
       "      <th>TOWN</th>\n",
       "      <th>2010 Population</th>\n",
       "    </tr>\n",
       "  </thead>\n",
       "  <tbody>\n",
       "    <tr>\n",
       "      <td>20</td>\n",
       "      <td>21</td>\n",
       "      <td>Canaan</td>\n",
       "      <td>1234</td>\n",
       "    </tr>\n",
       "    <tr>\n",
       "      <td>21</td>\n",
       "      <td>22</td>\n",
       "      <td>Canterbury</td>\n",
       "      <td>5132</td>\n",
       "    </tr>\n",
       "    <tr>\n",
       "      <td>22</td>\n",
       "      <td>23</td>\n",
       "      <td>Canton</td>\n",
       "      <td>10292</td>\n",
       "    </tr>\n",
       "    <tr>\n",
       "      <td>23</td>\n",
       "      <td>24</td>\n",
       "      <td>Chaplin</td>\n",
       "      <td>2305</td>\n",
       "    </tr>\n",
       "    <tr>\n",
       "      <td>24</td>\n",
       "      <td>25</td>\n",
       "      <td>Cheshire</td>\n",
       "      <td>29261</td>\n",
       "    </tr>\n",
       "    <tr>\n",
       "      <td>25</td>\n",
       "      <td>26</td>\n",
       "      <td>Chester</td>\n",
       "      <td>3994</td>\n",
       "    </tr>\n",
       "    <tr>\n",
       "      <td>26</td>\n",
       "      <td>27</td>\n",
       "      <td>Clinton</td>\n",
       "      <td>13260</td>\n",
       "    </tr>\n",
       "    <tr>\n",
       "      <td>27</td>\n",
       "      <td>28</td>\n",
       "      <td>Colchester</td>\n",
       "      <td>16068</td>\n",
       "    </tr>\n",
       "    <tr>\n",
       "      <td>28</td>\n",
       "      <td>29</td>\n",
       "      <td>Colebrook</td>\n",
       "      <td>1485</td>\n",
       "    </tr>\n",
       "    <tr>\n",
       "      <td>29</td>\n",
       "      <td>30</td>\n",
       "      <td>Columbia</td>\n",
       "      <td>5485</td>\n",
       "    </tr>\n",
       "    <tr>\n",
       "      <td>30</td>\n",
       "      <td>31</td>\n",
       "      <td>Cornwall</td>\n",
       "      <td>1420</td>\n",
       "    </tr>\n",
       "    <tr>\n",
       "      <td>31</td>\n",
       "      <td>32</td>\n",
       "      <td>Coventry</td>\n",
       "      <td>12435</td>\n",
       "    </tr>\n",
       "    <tr>\n",
       "      <td>32</td>\n",
       "      <td>33</td>\n",
       "      <td>Cromwell</td>\n",
       "      <td>14005</td>\n",
       "    </tr>\n",
       "  </tbody>\n",
       "</table>\n",
       "</div>"
      ],
      "text/plain": [
       "    Town Num        TOWN  2010 Population\n",
       "20        21      Canaan             1234\n",
       "21        22  Canterbury             5132\n",
       "22        23      Canton            10292\n",
       "23        24     Chaplin             2305\n",
       "24        25    Cheshire            29261\n",
       "25        26     Chester             3994\n",
       "26        27     Clinton            13260\n",
       "27        28  Colchester            16068\n",
       "28        29   Colebrook             1485\n",
       "29        30    Columbia             5485\n",
       "30        31    Cornwall             1420\n",
       "31        32    Coventry            12435\n",
       "32        33    Cromwell            14005"
      ]
     },
     "execution_count": 40,
     "metadata": {},
     "output_type": "execute_result"
    }
   ],
   "source": [
    "# your answer: \n",
    "towns.loc[(towns['TOWN']>='C') & (towns['TOWN'] < 'D')]"
   ]
  },
  {
   "cell_type": "markdown",
   "metadata": {},
   "source": [
    "3. Write code to create a new column `Cool` and mark `Clinton` and `Wolcott` as `Cool` by setting their `Cool` columns to `True` and everyone else's to `False`.\n"
   ]
  },
  {
   "cell_type": "code",
   "execution_count": 41,
   "metadata": {},
   "outputs": [],
   "source": [
    "# Your answer: \n",
    "towns['Cool'] = (towns['TOWN'] == 'Clinton') | (towns['TOWN'] == 'Wolcott')"
   ]
  },
  {
   "cell_type": "code",
   "execution_count": 42,
   "metadata": {},
   "outputs": [
    {
     "data": {
      "text/html": [
       "<div>\n",
       "<style scoped>\n",
       "    .dataframe tbody tr th:only-of-type {\n",
       "        vertical-align: middle;\n",
       "    }\n",
       "\n",
       "    .dataframe tbody tr th {\n",
       "        vertical-align: top;\n",
       "    }\n",
       "\n",
       "    .dataframe thead th {\n",
       "        text-align: right;\n",
       "    }\n",
       "</style>\n",
       "<table border=\"1\" class=\"dataframe\">\n",
       "  <thead>\n",
       "    <tr style=\"text-align: right;\">\n",
       "      <th></th>\n",
       "      <th>Town Num</th>\n",
       "      <th>TOWN</th>\n",
       "      <th>2010 Population</th>\n",
       "      <th>Cool</th>\n",
       "    </tr>\n",
       "  </thead>\n",
       "  <tbody>\n",
       "    <tr>\n",
       "      <td>26</td>\n",
       "      <td>27</td>\n",
       "      <td>Clinton</td>\n",
       "      <td>13260</td>\n",
       "      <td>True</td>\n",
       "    </tr>\n",
       "    <tr>\n",
       "      <td>165</td>\n",
       "      <td>166</td>\n",
       "      <td>Wolcott</td>\n",
       "      <td>16680</td>\n",
       "      <td>True</td>\n",
       "    </tr>\n",
       "  </tbody>\n",
       "</table>\n",
       "</div>"
      ],
      "text/plain": [
       "     Town Num     TOWN  2010 Population  Cool\n",
       "26         27  Clinton            13260  True\n",
       "165       166  Wolcott            16680  True"
      ]
     },
     "execution_count": 42,
     "metadata": {},
     "output_type": "execute_result"
    }
   ],
   "source": [
    "# use this to test your answer\n",
    "towns[towns.Cool == True]"
   ]
  },
  {
   "cell_type": "markdown",
   "metadata": {},
   "source": [
    "4. List all towns with at least 14 characters in their names. Hint: you can apply `.str.len()` to a column to get its length as a string."
   ]
  },
  {
   "cell_type": "code",
   "execution_count": 43,
   "metadata": {},
   "outputs": [
    {
     "data": {
      "text/html": [
       "<div>\n",
       "<style scoped>\n",
       "    .dataframe tbody tr th:only-of-type {\n",
       "        vertical-align: middle;\n",
       "    }\n",
       "\n",
       "    .dataframe tbody tr th {\n",
       "        vertical-align: top;\n",
       "    }\n",
       "\n",
       "    .dataframe thead th {\n",
       "        text-align: right;\n",
       "    }\n",
       "</style>\n",
       "<table border=\"1\" class=\"dataframe\">\n",
       "  <thead>\n",
       "    <tr style=\"text-align: right;\">\n",
       "      <th></th>\n",
       "      <th>Town Num</th>\n",
       "      <th>TOWN</th>\n",
       "      <th>2010 Population</th>\n",
       "      <th>Cool</th>\n",
       "    </tr>\n",
       "  </thead>\n",
       "  <tbody>\n",
       "    <tr>\n",
       "      <td>98</td>\n",
       "      <td>99</td>\n",
       "      <td>North Branford</td>\n",
       "      <td>14407</td>\n",
       "      <td>False</td>\n",
       "    </tr>\n",
       "    <tr>\n",
       "      <td>101</td>\n",
       "      <td>102</td>\n",
       "      <td>North Stonington</td>\n",
       "      <td>5297</td>\n",
       "      <td>False</td>\n",
       "    </tr>\n",
       "  </tbody>\n",
       "</table>\n",
       "</div>"
      ],
      "text/plain": [
       "     Town Num              TOWN  2010 Population   Cool\n",
       "98         99    North Branford            14407  False\n",
       "101       102  North Stonington             5297  False"
      ]
     },
     "execution_count": 43,
     "metadata": {},
     "output_type": "execute_result"
    }
   ],
   "source": [
    "# Your answer: \n",
    "towns[towns['TOWN'].str.len() >= 14]"
   ]
  },
  {
   "cell_type": "markdown",
   "metadata": {},
   "source": [
    "Consider the following additional table: "
   ]
  },
  {
   "cell_type": "code",
   "execution_count": 44,
   "metadata": {},
   "outputs": [
    {
     "name": "stdout",
     "output_type": "stream",
     "text": [
      "First 5 rows of tax are:\n"
     ]
    },
    {
     "data": {
      "text/html": [
       "<div>\n",
       "<style scoped>\n",
       "    .dataframe tbody tr th:only-of-type {\n",
       "        vertical-align: middle;\n",
       "    }\n",
       "\n",
       "    .dataframe tbody tr th {\n",
       "        vertical-align: top;\n",
       "    }\n",
       "\n",
       "    .dataframe thead th {\n",
       "        text-align: right;\n",
       "    }\n",
       "</style>\n",
       "<table border=\"1\" class=\"dataframe\">\n",
       "  <thead>\n",
       "    <tr style=\"text-align: right;\">\n",
       "      <th></th>\n",
       "      <th>Municipality</th>\n",
       "      <th>Number of Taxpayers</th>\n",
       "      <th>Total Retail Sales of Goods</th>\n",
       "      <th>Total Tax Due **(Excluding Tax at 9.35% Rate)</th>\n",
       "      <th>Tax Due At 6.35%</th>\n",
       "      <th>Tax Due at 7%</th>\n",
       "    </tr>\n",
       "  </thead>\n",
       "  <tbody>\n",
       "    <tr>\n",
       "      <td>0</td>\n",
       "      <td>ANDOVER (001)</td>\n",
       "      <td>127</td>\n",
       "      <td>5529457.0</td>\n",
       "      <td>428026.0</td>\n",
       "      <td>427872.0</td>\n",
       "      <td>59.0</td>\n",
       "    </tr>\n",
       "    <tr>\n",
       "      <td>1</td>\n",
       "      <td>ANSONIA (002)</td>\n",
       "      <td>402</td>\n",
       "      <td>89228175.0</td>\n",
       "      <td>3817640.0</td>\n",
       "      <td>3813289.0</td>\n",
       "      <td>2042.0</td>\n",
       "    </tr>\n",
       "    <tr>\n",
       "      <td>2</td>\n",
       "      <td>ASHFORD (003)</td>\n",
       "      <td>166</td>\n",
       "      <td>12598684.0</td>\n",
       "      <td>659952.0</td>\n",
       "      <td>654175.0</td>\n",
       "      <td>5653.0</td>\n",
       "    </tr>\n",
       "    <tr>\n",
       "      <td>3</td>\n",
       "      <td>AVON (004)</td>\n",
       "      <td>739</td>\n",
       "      <td>205383841.0</td>\n",
       "      <td>8690891.0</td>\n",
       "      <td>8575388.0</td>\n",
       "      <td>113441.0</td>\n",
       "    </tr>\n",
       "    <tr>\n",
       "      <td>4</td>\n",
       "      <td>BARKHAMSTED (005)</td>\n",
       "      <td>174</td>\n",
       "      <td>30403443.0</td>\n",
       "      <td>695373.0</td>\n",
       "      <td>694846.0</td>\n",
       "      <td>0.0</td>\n",
       "    </tr>\n",
       "  </tbody>\n",
       "</table>\n",
       "</div>"
      ],
      "text/plain": [
       "        Municipality  Number of Taxpayers  Total Retail Sales of Goods  \\\n",
       "0      ANDOVER (001)                  127                    5529457.0   \n",
       "1      ANSONIA (002)                  402                   89228175.0   \n",
       "2      ASHFORD (003)                  166                   12598684.0   \n",
       "3         AVON (004)                  739                  205383841.0   \n",
       "4  BARKHAMSTED (005)                  174                   30403443.0   \n",
       "\n",
       "   Total Tax Due **(Excluding Tax at 9.35% Rate)   Tax Due At 6.35%  \\\n",
       "0                                        428026.0          427872.0   \n",
       "1                                       3817640.0         3813289.0   \n",
       "2                                        659952.0          654175.0   \n",
       "3                                       8690891.0         8575388.0   \n",
       "4                                        695373.0          694846.0   \n",
       "\n",
       "   Tax Due at 7%  \n",
       "0           59.0  \n",
       "1         2042.0  \n",
       "2         5653.0  \n",
       "3       113441.0  \n",
       "4            0.0  "
      ]
     },
     "execution_count": 44,
     "metadata": {},
     "output_type": "execute_result"
    }
   ],
   "source": [
    "tax = pd.read_csv('2012_Retail_Sales_By_Town_ALL_NAICS.csv', engine='python', skipfooter=8)\n",
    "print(\"First 5 rows of tax are:\")\n",
    "tax.head()  # first 5 rows; you can remove the qualifier to see the whole table. "
   ]
  },
  {
   "cell_type": "markdown",
   "metadata": {},
   "source": [
    "5. Compute \"Tax per capita\" as a new column by dividing \"Total Tax Due\" by \"Number of Taxpayers\". There is whitespace at the end of the label for \"Total Tax Due\"! "
   ]
  },
  {
   "cell_type": "code",
   "execution_count": 45,
   "metadata": {},
   "outputs": [
    {
     "data": {
      "text/plain": [
       "['Municipality',\n",
       " 'Number of Taxpayers',\n",
       " 'Total Retail Sales of Goods',\n",
       " 'Total Tax Due **(Excluding Tax at 9.35% Rate) ',\n",
       " 'Tax Due At 6.35%',\n",
       " 'Tax Due at 7%']"
      ]
     },
     "execution_count": 45,
     "metadata": {},
     "output_type": "execute_result"
    }
   ],
   "source": [
    "# Note the following before beginning: \n",
    "list(tax)"
   ]
  },
  {
   "cell_type": "code",
   "execution_count": 46,
   "metadata": {},
   "outputs": [],
   "source": [
    "# Your answer: \n",
    "tax['Tax per capita'] = tax[list(tax)[3]] / tax[list(tax)[1]]"
   ]
  },
  {
   "cell_type": "code",
   "execution_count": 47,
   "metadata": {},
   "outputs": [
    {
     "data": {
      "text/html": [
       "<div>\n",
       "<style scoped>\n",
       "    .dataframe tbody tr th:only-of-type {\n",
       "        vertical-align: middle;\n",
       "    }\n",
       "\n",
       "    .dataframe tbody tr th {\n",
       "        vertical-align: top;\n",
       "    }\n",
       "\n",
       "    .dataframe thead th {\n",
       "        text-align: right;\n",
       "    }\n",
       "</style>\n",
       "<table border=\"1\" class=\"dataframe\">\n",
       "  <thead>\n",
       "    <tr style=\"text-align: right;\">\n",
       "      <th></th>\n",
       "      <th>Municipality</th>\n",
       "      <th>Number of Taxpayers</th>\n",
       "      <th>Total Retail Sales of Goods</th>\n",
       "      <th>Total Tax Due **(Excluding Tax at 9.35% Rate)</th>\n",
       "      <th>Tax Due At 6.35%</th>\n",
       "      <th>Tax Due at 7%</th>\n",
       "      <th>Tax per capita</th>\n",
       "    </tr>\n",
       "  </thead>\n",
       "  <tbody>\n",
       "    <tr>\n",
       "      <td>0</td>\n",
       "      <td>ANDOVER (001)</td>\n",
       "      <td>127</td>\n",
       "      <td>5529457.0</td>\n",
       "      <td>428026.0</td>\n",
       "      <td>427872.0</td>\n",
       "      <td>59.0</td>\n",
       "      <td>3370.283465</td>\n",
       "    </tr>\n",
       "    <tr>\n",
       "      <td>1</td>\n",
       "      <td>ANSONIA (002)</td>\n",
       "      <td>402</td>\n",
       "      <td>89228175.0</td>\n",
       "      <td>3817640.0</td>\n",
       "      <td>3813289.0</td>\n",
       "      <td>2042.0</td>\n",
       "      <td>9496.616915</td>\n",
       "    </tr>\n",
       "    <tr>\n",
       "      <td>2</td>\n",
       "      <td>ASHFORD (003)</td>\n",
       "      <td>166</td>\n",
       "      <td>12598684.0</td>\n",
       "      <td>659952.0</td>\n",
       "      <td>654175.0</td>\n",
       "      <td>5653.0</td>\n",
       "      <td>3975.614458</td>\n",
       "    </tr>\n",
       "    <tr>\n",
       "      <td>3</td>\n",
       "      <td>AVON (004)</td>\n",
       "      <td>739</td>\n",
       "      <td>205383841.0</td>\n",
       "      <td>8690891.0</td>\n",
       "      <td>8575388.0</td>\n",
       "      <td>113441.0</td>\n",
       "      <td>11760.339648</td>\n",
       "    </tr>\n",
       "    <tr>\n",
       "      <td>4</td>\n",
       "      <td>BARKHAMSTED (005)</td>\n",
       "      <td>174</td>\n",
       "      <td>30403443.0</td>\n",
       "      <td>695373.0</td>\n",
       "      <td>694846.0</td>\n",
       "      <td>0.0</td>\n",
       "      <td>3996.396552</td>\n",
       "    </tr>\n",
       "  </tbody>\n",
       "</table>\n",
       "</div>"
      ],
      "text/plain": [
       "        Municipality  Number of Taxpayers  Total Retail Sales of Goods  \\\n",
       "0      ANDOVER (001)                  127                    5529457.0   \n",
       "1      ANSONIA (002)                  402                   89228175.0   \n",
       "2      ASHFORD (003)                  166                   12598684.0   \n",
       "3         AVON (004)                  739                  205383841.0   \n",
       "4  BARKHAMSTED (005)                  174                   30403443.0   \n",
       "\n",
       "   Total Tax Due **(Excluding Tax at 9.35% Rate)   Tax Due At 6.35%  \\\n",
       "0                                        428026.0          427872.0   \n",
       "1                                       3817640.0         3813289.0   \n",
       "2                                        659952.0          654175.0   \n",
       "3                                       8690891.0         8575388.0   \n",
       "4                                        695373.0          694846.0   \n",
       "\n",
       "   Tax Due at 7%  Tax per capita  \n",
       "0           59.0     3370.283465  \n",
       "1         2042.0     9496.616915  \n",
       "2         5653.0     3975.614458  \n",
       "3       113441.0    11760.339648  \n",
       "4            0.0     3996.396552  "
      ]
     },
     "execution_count": 47,
     "metadata": {},
     "output_type": "execute_result"
    }
   ],
   "source": [
    "# Use this to test your answer: \n",
    "tax.head()  # first 5 rows of solution"
   ]
  },
  {
   "cell_type": "markdown",
   "metadata": {},
   "source": [
    "6. List the towns in which the tax per capita is larger than $80,000 per entity (Gasp! This is sales tax! Entities can be businesses, though)."
   ]
  },
  {
   "cell_type": "code",
   "execution_count": 51,
   "metadata": {},
   "outputs": [
    {
     "data": {
      "text/html": [
       "<div>\n",
       "<style scoped>\n",
       "    .dataframe tbody tr th:only-of-type {\n",
       "        vertical-align: middle;\n",
       "    }\n",
       "\n",
       "    .dataframe tbody tr th {\n",
       "        vertical-align: top;\n",
       "    }\n",
       "\n",
       "    .dataframe thead th {\n",
       "        text-align: right;\n",
       "    }\n",
       "</style>\n",
       "<table border=\"1\" class=\"dataframe\">\n",
       "  <thead>\n",
       "    <tr style=\"text-align: right;\">\n",
       "      <th></th>\n",
       "      <th>Municipality</th>\n",
       "      <th>Tax per capita</th>\n",
       "    </tr>\n",
       "  </thead>\n",
       "  <tbody>\n",
       "    <tr>\n",
       "      <td>76</td>\n",
       "      <td>MANCHESTER (077)</td>\n",
       "      <td>95146.873341</td>\n",
       "    </tr>\n",
       "    <tr>\n",
       "      <td>100</td>\n",
       "      <td>NORTH HAVEN (101)</td>\n",
       "      <td>80101.566667</td>\n",
       "    </tr>\n",
       "    <tr>\n",
       "      <td>106</td>\n",
       "      <td>ORANGE (107)</td>\n",
       "      <td>82842.027864</td>\n",
       "    </tr>\n",
       "    <tr>\n",
       "      <td>151</td>\n",
       "      <td>WATERFORD (152)</td>\n",
       "      <td>99412.651163</td>\n",
       "    </tr>\n",
       "  </tbody>\n",
       "</table>\n",
       "</div>"
      ],
      "text/plain": [
       "          Municipality  Tax per capita\n",
       "76    MANCHESTER (077)    95146.873341\n",
       "100  NORTH HAVEN (101)    80101.566667\n",
       "106       ORANGE (107)    82842.027864\n",
       "151    WATERFORD (152)    99412.651163"
      ]
     },
     "execution_count": 51,
     "metadata": {},
     "output_type": "execute_result"
    }
   ],
   "source": [
    "# Your answer:\n",
    "tax.loc[tax['Tax per capita']>80000, ('Municipality', 'Tax per capita')]"
   ]
  },
  {
   "cell_type": "markdown",
   "metadata": {},
   "source": [
    "# When you are done with this workbook, \n",
    "* Save and checkpoint.\n",
    "* Change ready to True in the cell below.\n",
    "* Run the cell below."
   ]
  },
  {
   "cell_type": "code",
   "execution_count": null,
   "metadata": {},
   "outputs": [],
   "source": [
    "# Don't change this cell; just run it. \n",
    "from client.api.notebook import Notebook\n",
    "ok = Notebook('03-04-dataframes-in-pandas.ok')\n",
    "ok.auth(inline=True)"
   ]
  },
  {
   "cell_type": "code",
   "execution_count": null,
   "metadata": {},
   "outputs": [],
   "source": [
    "ready = False  # change to True when ready to submit\n",
    "if not ready:\n",
    "    raise Exception(\"change ready to True when ready to submit\")\n",
    "_ = ok.submit()"
   ]
  }
 ],
 "metadata": {
  "kernelspec": {
   "display_name": "Python 3",
   "language": "python",
   "name": "python3"
  },
  "language_info": {
   "codemirror_mode": {
    "name": "ipython",
    "version": 3
   },
   "file_extension": ".py",
   "mimetype": "text/x-python",
   "name": "python",
   "nbconvert_exporter": "python",
   "pygments_lexer": "ipython3",
   "version": "3.7.4"
  }
 },
 "nbformat": 4,
 "nbformat_minor": 2
}
