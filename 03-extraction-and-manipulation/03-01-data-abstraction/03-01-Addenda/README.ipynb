{
 "cells": [
  {
   "cell_type": "markdown",
   "metadata": {},
   "source": [
    "# Addenda\n",
    "\n",
    "This directory contains supplemental notebooks to server as study guides for this section. \n",
    "\n",
    "The notebooks were chosen such that they would be\n",
    "\n",
    " * Useful (*duh!*) \n",
    " * Add to the information presented in the course material without duplicating it.\n",
    " * Licensed by the original author for general use, though without guarantees.\n",
    " * The opinions of the author are their own."
   ]
  }
 ],
 "metadata": {
  "kernelspec": {
   "display_name": "Python 3",
   "language": "python",
   "name": "python3"
  },
  "language_info": {
   "codemirror_mode": {
    "name": "ipython",
    "version": 3
   },
   "file_extension": ".py",
   "mimetype": "text/x-python",
   "name": "python",
   "nbconvert_exporter": "python",
   "pygments_lexer": "ipython3",
   "version": "3.7.4"
  }
 },
 "nbformat": 4,
 "nbformat_minor": 2
}
