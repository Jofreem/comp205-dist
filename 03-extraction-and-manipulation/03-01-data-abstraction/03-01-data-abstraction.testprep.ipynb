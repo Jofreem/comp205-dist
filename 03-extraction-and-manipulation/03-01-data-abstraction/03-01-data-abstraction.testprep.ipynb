{
 "cells": [
  {
   "cell_type": "markdown",
   "metadata": {},
   "source": [
    "# Data abstraction\n",
    "\n",
    "The lecture notes for this assignment are written in Jupyter. See the adjoining file [video notes](03-01-data-abstraction-video-notes.ipynb) for details. Let's check your understanding of these concepts. \n",
    "\n",
    "## For a handy reference\n",
    "**[Python Data Science Handbook:](http://shop.oreilly.com/product/0636920034919.do)** Essential Tools for Working with Data *By Jake VanderPlas*\n",
    "\n",
    "Covers the following topics:\n",
    "* **IPython and Jupyter:** provide computational environments for data scientists using Python\n",
    "* **NumPy:** includes the ndarray for efficient storage and manipulation of dense data arrays in Python\n",
    "* **Pandas:** features the DataFrame for efficient storage and manipulation of labeled/columnar data in Python\n",
    "* **Matplotlib:** includes capabilities for a flexible range of data visualizations in Python\n",
    "* **Scikit-Learn:** for efficient and clean Python implementations of the most important and established machine learning algorithms\n",
    "\n",
    "It's available for reading in electronic form the Tufts Library website.\n",
    "\n",
    "## For the mid-term exam\n",
    "\n",
    "1. The mid-term will be 75 minutes long, *not 120 minutes as previously announced.* This is because finding a location for other than class hours was difficult.\n",
    "1. The exam will be held in two locations: in the classroom or in Boston. I will be sending out a survey to ask which you prefer. There are only about 4 spots available in Boston.\n",
    "1. The exam will be available on our usual place in Jupyterhub but will be encrypted prior to 10:30 on the day o f the exam. The decryption key will be provided at 10:30 via Zoom.\n",
    "1. A mock exam will be available on 10/7 or prior to make sure you have run through the mechanics of taking the text.\n",
    "1. Unless you have informed us of any accommodations, what you have submitted by 11:15 will be considered your submission.\n",
    "1. The assignments 3-01,3-02, 3-03 will not be included.\n",
    "2. You may bring some paper-based notes on the exam.\n",
    "3. During the exam, you may search on the internet just in case if we forget some specific function?\n",
    "4. Not all questions will involve writing code. Some may involve answering text questions in Markdown cells. For code cells, running successfully is important but we may award partial credit, especially if a question is one that most students are struggling with."
   ]
  },
  {
   "cell_type": "code",
   "execution_count": null,
   "metadata": {},
   "outputs": [],
   "source": [
    "# Don't change this cell; just run it. \n",
    "from IPython.display import IFrame\n",
    "IFrame('https://1813261-1.kaf.kaltura.com/media/t/1_govlzyqa/133896931', width=800, height=560)\n",
    "\n",
    "from client.api.notebook import Notebook\n",
    "ok = Notebook('03-01-data-abstraction.ok')\n",
    "ok.auth(inline=True)"
   ]
  },
  {
   "cell_type": "markdown",
   "metadata": {},
   "source": [
    "1. Make up an array of the numbers 1 to 5. Put into a variable x."
   ]
  },
  {
   "cell_type": "code",
   "execution_count": 9,
   "metadata": {},
   "outputs": [
    {
     "data": {
      "text/plain": [
       "array([ 1,  2,  3,  4,  5,  2,  4,  6,  8, 10,  2,  4,  6,  8, 10])"
      ]
     },
     "execution_count": 9,
     "metadata": {},
     "output_type": "execute_result"
    }
   ],
   "source": [
    "# your answer: \n",
    "import numpy as np\n",
    "x = np.array([x+1 for x in range(5)])\n",
    "y = np.array([x+1 for x in range(5)]) + np.array([x+1 for x in range(5)])\n",
    "y = np.array(list(y)+list(y))\n",
    "y = np.concatenate((x,y))\n",
    "y"
   ]
  },
  {
   "cell_type": "code",
   "execution_count": null,
   "metadata": {},
   "outputs": [],
   "source": [
    "_ = ok.grade('q01')  # test that your answer is correct "
   ]
  },
  {
   "cell_type": "markdown",
   "metadata": {},
   "source": [
    "2. Write code that sets `y` to the vector created by adding 5 to each element of `x`. "
   ]
  },
  {
   "cell_type": "code",
   "execution_count": null,
   "metadata": {},
   "outputs": [],
   "source": [
    "# Your answer: \n",
    "y = ...\n",
    "y"
   ]
  },
  {
   "cell_type": "code",
   "execution_count": null,
   "metadata": {},
   "outputs": [],
   "source": [
    "_ = ok.grade('q02')  # test that your answer is correct "
   ]
  },
  {
   "cell_type": "markdown",
   "metadata": {},
   "source": [
    "# Is the 'for' loop obsolete? \n",
    "\n",
    "Sort of. Let's just say that there are very efficient ways to do things in `numpy` without `for` loops. I'm sure that you could tell me whether 7 is a member of y via a `for` loop. But you can also do that with `arrays` much more simply: \n",
    "\n",
    "3. (Advanced) Consider that `y` *is an iterable* and write an expression that is True if 7 is in `y`, and False if not. Put that value into `z`."
   ]
  },
  {
   "cell_type": "code",
   "execution_count": 12,
   "metadata": {},
   "outputs": [
    {
     "data": {
      "text/plain": [
       "False"
      ]
     },
     "execution_count": 12,
     "metadata": {},
     "output_type": "execute_result"
    }
   ],
   "source": [
    "# your answer: \n",
    "if (y == 7).any(): \n",
    "    z = True \n",
    "else: \n",
    "    z = False \n",
    "z"
   ]
  },
  {
   "cell_type": "code",
   "execution_count": 14,
   "metadata": {},
   "outputs": [
    {
     "data": {
      "text/plain": [
       "False"
      ]
     },
     "execution_count": 14,
     "metadata": {},
     "output_type": "execute_result"
    }
   ],
   "source": [
    "z = (y == 7).any()\n",
    "z"
   ]
  },
  {
   "cell_type": "markdown",
   "metadata": {},
   "source": [
    "# Whoa there! \n",
    "The advanced problem shows that there are things about an `array` that are inherited from its status as something else. E.g., the following also works:"
   ]
  },
  {
   "cell_type": "code",
   "execution_count": 16,
   "metadata": {},
   "outputs": [
    {
     "data": {
      "text/plain": [
       "numpy.ndarray"
      ]
     },
     "execution_count": 16,
     "metadata": {},
     "output_type": "execute_result"
    }
   ],
   "source": [
    "type(y)"
   ]
  },
  {
   "cell_type": "code",
   "execution_count": 17,
   "metadata": {},
   "outputs": [
    {
     "name": "stdout",
     "output_type": "stream",
     "text": [
      "1\n",
      "2\n",
      "3\n",
      "4\n",
      "5\n",
      "2\n",
      "4\n",
      "6\n",
      "8\n",
      "10\n",
      "2\n",
      "4\n",
      "6\n",
      "8\n",
      "10\n"
     ]
    }
   ],
   "source": [
    "for i in y: \n",
    "    print(i)"
   ]
  },
  {
   "cell_type": "markdown",
   "metadata": {},
   "source": [
    "# The treasure hunt\n",
    "Most every common thing that you might want to do to an `array` with a `for` loop is easier to do with some `numpy.ndarray` function and/or some combination of those functions and native Python. A very large user community has gone to great expense to make using an `array` as simple as possible! \n",
    "\n",
    "What this means -- in practical terms -- is that it is often simpler to look around for a solution in the *numpy user manual* than to code it yourself. Thus, programming with `numpy` requires both knowledge of native Python and \"treasure hunting\" in the `numpy` documentation! \n",
    "\n",
    "Let's have some fun with a few treasure hunts through https://docs.scipy.org/doc/numpy/reference/arrays.ndarray.html "
   ]
  },
  {
   "cell_type": "markdown",
   "metadata": {},
   "source": [
    "4. Complete the function below so that it always returns the sum of the one-dimensional array `x` passed to it. Beware: I will test it on multiple arrays `x`!"
   ]
  },
  {
   "cell_type": "code",
   "execution_count": 20,
   "metadata": {},
   "outputs": [],
   "source": [
    "def mysum(x): \n",
    "    # your answer: \n",
    "    return np.sum(x)"
   ]
  },
  {
   "cell_type": "code",
   "execution_count": 21,
   "metadata": {},
   "outputs": [
    {
     "data": {
      "text/plain": [
       "15"
      ]
     },
     "execution_count": 21,
     "metadata": {},
     "output_type": "execute_result"
    }
   ],
   "source": [
    "# run this to check your code\n",
    "mysum(np.array([1,2,3,4,5]))"
   ]
  },
  {
   "cell_type": "code",
   "execution_count": null,
   "metadata": {
    "scrolled": true
   },
   "outputs": [],
   "source": [
    "_ = ok.grade('q04')  # test that your answer is correct"
   ]
  },
  {
   "cell_type": "markdown",
   "metadata": {},
   "source": [
    "5. In the function below, return a normalized set of data whose mean is 0.0, by subtracting the current mean from x. "
   ]
  },
  {
   "cell_type": "code",
   "execution_count": null,
   "metadata": {},
   "outputs": [],
   "source": [
    "def renorm(x): \n",
    "    # your answer: \n",
    "    return ..."
   ]
  },
  {
   "cell_type": "code",
   "execution_count": null,
   "metadata": {},
   "outputs": [],
   "source": [
    "# run this to check your code\n",
    "x = np.array([5, 6, 7, 8, 9])\n",
    "renorm(x)"
   ]
  },
  {
   "cell_type": "code",
   "execution_count": null,
   "metadata": {
    "scrolled": false
   },
   "outputs": [],
   "source": [
    "_ = ok.grade('q05')  # test that your answer is correct"
   ]
  },
  {
   "cell_type": "markdown",
   "metadata": {},
   "source": [
    "6. (Advanced) What happens if you try to do the same things you did to arrays to lists? "
   ]
  },
  {
   "cell_type": "markdown",
   "metadata": {},
   "source": [
    "___Your answer:___"
   ]
  },
  {
   "cell_type": "markdown",
   "metadata": {},
   "source": [
    "# When you are done with this notebook, \n",
    "* Save and checkpoint. \n",
    "* Ensure that the name of this file is precisely `03-01-data-abstraction.ipynb`. That workbook will be submitted by the following code whether or not you are currently editing that workbook.\n",
    "* Change `ready` to `True` in the cell below. \n",
    "* Run the cell below to submit your work for grading. "
   ]
  },
  {
   "cell_type": "code",
   "execution_count": null,
   "metadata": {},
   "outputs": [],
   "source": [
    "ready = False  # change to True when ready to submit\n",
    "print(\"submitting file {} for assignment {} as {}\".format(ok.assignment.src[0], \n",
    "                                                          ok.assignment.name, \n",
    "                                                          ok.assignment.get_student_email()))\n",
    "if not ready: \n",
    "    raise Exception(\"change ready to True when ready to submit\")\n",
    "_ = ok.submit()"
   ]
  }
 ],
 "metadata": {
  "kernelspec": {
   "display_name": "Python 3",
   "language": "python",
   "name": "python3"
  },
  "language_info": {
   "codemirror_mode": {
    "name": "ipython",
    "version": 3
   },
   "file_extension": ".py",
   "mimetype": "text/x-python",
   "name": "python",
   "nbconvert_exporter": "python",
   "pygments_lexer": "ipython3",
   "version": "3.7.4"
  }
 },
 "nbformat": 4,
 "nbformat_minor": 2
}
