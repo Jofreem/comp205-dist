{
 "cells": [
  {
   "cell_type": "code",
   "execution_count": null,
   "metadata": {},
   "outputs": [],
   "source": [
    "# Enter the provided key into the next line\n",
    "key = ''\n",
    "filename = 'mock-midterm.ipynb.xxx'"
   ]
  },
  {
   "cell_type": "code",
   "execution_count": null,
   "metadata": {},
   "outputs": [],
   "source": [
    "import base64, json\n",
    "from IPython.utils.py3compat import str_to_bytes, bytes_to_str\n",
    "from cryptography.fernet import Fernet\n",
    "from IPython.display import Javascript, display\n",
    "assert (len(key) == 44)    # Key should be exactly 44 characters!"
   ]
  },
  {
   "cell_type": "code",
   "execution_count": null,
   "metadata": {},
   "outputs": [],
   "source": [
    "assert (len(key) == 44)    # Key should be exactly 44 characters!\n",
    "def create_code_cell(code='', where='below'):\n",
    "    \"\"\"Create a code cell in the IPython Notebook.\n",
    "\n",
    "    Parameters\n",
    "    code: unicode\n",
    "        Code to fill the new code cell with.\n",
    "    where: unicode\n",
    "        Where to add the new code cell.\n",
    "        Possible values include:\n",
    "            at_bottom\n",
    "            above\n",
    "            below\"\"\"\n",
    "    #print ({'code': code})\n",
    "    encoded_code = bytes_to_str(base64.b64encode(str_to_bytes(code)))\n",
    "    display(Javascript(\"\"\"\n",
    "        var code = IPython.notebook.insert_cell_{0}('code');\n",
    "        code.set_text(atob(\"{1}\"));\n",
    "    \"\"\".format(where, encoded_code)))\n",
    "\n",
    "def create_mdwn_cell(mdwn='', where='below'):\n",
    "    #print ({'mdwn': mdwn})\n",
    "    encoded_mdwn = bytes_to_str(base64.b64encode(str_to_bytes(mdwn)))\n",
    "    display(Javascript(\"\"\"\n",
    "        var mdwn = IPython.notebook.insert_cell_{0}('markdown');\n",
    "        mdwn.set_text(atob(\"{1}\"));\n",
    "    \"\"\".format(where, encoded_mdwn)))"
   ]
  },
  {
   "cell_type": "code",
   "execution_count": null,
   "metadata": {},
   "outputs": [],
   "source": [
    "assert (len(key) == 44)    # Key should be exactly 44 characters!\n",
    "bKey = str_to_bytes(key)\n",
    "cipher = Fernet(bKey)\n",
    "\n",
    "cells = []\n",
    "with open(filename) as encr_in:\n",
    "    lines = encr_in.readlines()\n",
    "    for line in lines:\n",
    "        cell_type = line[0]\n",
    "        # print (line)\n",
    "        source = bytes_to_str(cipher.decrypt(str_to_bytes(line[1:])))\n",
    "        cell = {'cell_type': cell_type, 'source': json.loads(source)}\n",
    "        cells.append(cell)\n",
    "        #print (cell)\n",
    "cells.reverse()\n",
    "for cell in cells:\n",
    "    # print (cell)\n",
    "    if cell['cell_type'].startswith('c'):\n",
    "        create_code_cell(''.join(cell['source']))\n",
    "    elif cell['cell_type'].startswith('m'):\n",
    "        create_mdwn_cell(''.join(cell['source']))"
   ]
  },
  {
   "cell_type": "code",
   "execution_count": null,
   "metadata": {},
   "outputs": [],
   "source": [
    "%%javascript\n",
    "for (let step = 0; step < 1000; step++) {\n",
    "    var cell;\n",
    "    try {\n",
    "        cell = Jupyter.notebook.get_cell(step);\n",
    "        if (cell.cell_type == 'markdown') { Jupyter.notebook.execute_cells([step]); }\n",
    "    } catch (err) {\n",
    "        break;\n",
    "    }\n",
    "}"
   ]
  }
 ],
 "metadata": {
  "kernelspec": {
   "display_name": "Python 3",
   "language": "python",
   "name": "python3"
  },
  "language_info": {
   "codemirror_mode": {
    "name": "ipython",
    "version": 3
   },
   "file_extension": ".py",
   "mimetype": "text/x-python",
   "name": "python",
   "nbconvert_exporter": "python",
   "pygments_lexer": "ipython3",
   "version": "3.7.4"
  }
 },
 "nbformat": 4,
 "nbformat_minor": 2
}
