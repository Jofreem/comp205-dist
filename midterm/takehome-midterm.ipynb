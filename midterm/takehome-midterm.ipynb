{
 "cells": [
  {
   "cell_type": "markdown",
   "metadata": {},
   "source": [
    "# COMP 205: Midterm Examination\n",
    "## Fall 2019\n",
    "### Take Home Version\n",
    "\n",
    "The issues we encountered during the mid-term on 10/21 are attributable to _one or more_ of the following:\n",
    "\n",
    "1. The network connection in Sci Tech 134 was flaky,\n",
    "2. The JupyterHub server was overwhelmed by the number of students trying to use it simultaneously,\n",
    "3. Zoom software that we were using for staying connected taxed everyone's individual machines.\n",
    "4. Problems with ok.py setup which were corrected later in the hour.\n",
    "\n",
    "There are reasons to suspect any of the above as possible causes though we don't know precisely which ones to what degree. Meanwhile, it would be difficult (if at all possible) to reconstruct everyone's work from what was turned in and _grade it fairly._ I'd like to follow a multi-part path out of this. \n",
    "\n",
    "1. Use the midterm as a **take-home exam**. I hope most of you have partial copies of what you submitted. Feel free to fill in and/or correct what you submitted and resubmit as a PDF (_or as a Python Notebook_).\n",
    "2. Switch away from using the central JupyterHub server, instead encouraging the use of locally-installed Jupyter notebooks on your laptops in accordance with 01-01-getting-started and submitting PDFs into Canvas.\n",
    "3. Switch to a different method of submitting your solution for the remainder of the semester: PDF files submitted into Canvas rather than through ok.py. **The last two cells of the midterm notebook have been changed accordingly.** _`ok.py` will remain a part of the mix, however, as a way to provide feedback at various stages of progress through the notebook._\n",
    "4. We will use Zoom sparingly in the future, using it during lectures as we have been doing in the last few weeks but relying on _Canvas Discussions_ to keep a communication channel open during exams.\n"
   ]
  },
  {
   "cell_type": "markdown",
   "metadata": {},
   "source": [
    "This exam is administered electronically. Please enter your answers into this workbook in the places provided. This is an open-Internet examination. You may use any books and materials, and the entire internet -- as well as all of the class workbooks and examples -- in answering these questions. You may not use direct communication with other *people* in completing this workbook. \n",
    "\n",
    "<del>Please do not share this workbook with others until after the exam window is closed. ok.py is set to _allow multiple submissions_ and except in special circumstances, **the end time is 11:45;** the last submission before the end time will be considered to be the \"official one\". </del>\n",
    "\n",
    "There are 10 questions. Each is worth 10 points. Please note that in general, I will be testing your code against different data of the same form as in the examples. "
   ]
  },
  {
   "cell_type": "markdown",
   "metadata": {},
   "source": [
    "1. Consider the structure: "
   ]
  },
  {
   "cell_type": "code",
   "execution_count": null,
   "metadata": {},
   "outputs": [],
   "source": [
    "foo = [ ('M-W', '10:30-11:45'), ( 'comp-205', 'python'), ('T-Th', '18:00-19:15'), ('comp-119', 'big-data') ]"
   ]
  },
  {
   "cell_type": "markdown",
   "metadata": {},
   "source": [
    "Write an expression of `foo` that equals the string`'python'`, only using `foo` and use of `[...]` to locate values.  "
   ]
  },
  {
   "cell_type": "code",
   "execution_count": null,
   "metadata": {},
   "outputs": [],
   "source": [
    "# your answer: \n"
   ]
  },
  {
   "cell_type": "markdown",
   "metadata": {},
   "source": [
    "2. Consider the structure: "
   ]
  },
  {
   "cell_type": "code",
   "execution_count": null,
   "metadata": {},
   "outputs": [],
   "source": [
    "bar = { 'a': {'protein', 'rna', 'dna'}, 'b': {'wood', 'metal', 'glass'}}"
   ]
  },
  {
   "cell_type": "markdown",
   "metadata": {},
   "source": [
    "What type is `bar['b']`? "
   ]
  },
  {
   "cell_type": "markdown",
   "metadata": {},
   "source": [
    "___Your answer___:"
   ]
  },
  {
   "cell_type": "markdown",
   "metadata": {},
   "source": [
    "3. Write a function `get_tuples` that takes one argument that is a dictionary and converts it to a list of tuples `(key, value)` corresponding to each entry in the dictionary. It should work on the example problem below.  "
   ]
  },
  {
   "cell_type": "code",
   "execution_count": null,
   "metadata": {},
   "outputs": [],
   "source": [
    "# fill in details ...\n",
    "def get_tuples(dictionary): \n",
    "    return ..."
   ]
  },
  {
   "cell_type": "code",
   "execution_count": null,
   "metadata": {},
   "outputs": [],
   "source": [
    "# this should return [('a', 1), ('b', 2), ('c', 3)]\n",
    "get_tuples({'a': 1, 'b': 2, 'c': 3})"
   ]
  },
  {
   "cell_type": "markdown",
   "metadata": {},
   "source": [
    "4. Write a class `Film` that represents an address book entry and contains attributes 'name', 'actor', 'location'. `Film(name, actor, location)` should create a Film. This should work on the example below. "
   ]
  },
  {
   "cell_type": "code",
   "execution_count": null,
   "metadata": {},
   "outputs": [],
   "source": [
    "# fill in details ... \n",
    "class Film(): \n",
    "    ..."
   ]
  },
  {
   "cell_type": "code",
   "execution_count": null,
   "metadata": {},
   "outputs": [],
   "source": [
    "# This example should print \n",
    "#                          'A Fish called Wanda' starring John Cleese is set in London.\n",
    "wanda = Film(\"John Cleese\", \"A Fish called Wanda\", \"London\")\n",
    "print(wanda)"
   ]
  },
  {
   "cell_type": "markdown",
   "metadata": {},
   "source": [
    "5. Write a function `mult_numbers` that prints the product of numbers in a list of numbers and other items. It should convert strings to numbers where appropriate and work on the example below. Hint: use the `try: ... except: ...` pattern. "
   ]
  },
  {
   "cell_type": "code",
   "execution_count": null,
   "metadata": {},
   "outputs": [],
   "source": [
    "# fill in details ... \n",
    "def mult_numbers(things):\n",
    "    return ..."
   ]
  },
  {
   "cell_type": "code",
   "execution_count": null,
   "metadata": {},
   "outputs": [],
   "source": [
    "# this should print 2.0, (being 1 ✕ 16 ✕ 0.5 ✕ 0.25)\n",
    "mult_numbers([1, 'foo', '16', 'bar', 0.5, '00.2500'])"
   ]
  },
  {
   "cell_type": "markdown",
   "metadata": {},
   "source": [
    "6. An *index* for a list is a dict that allows each item position in the list to be looked up based upon its value. The index maps strings to list element numbers. Write a function `generate_index` that generates an index from a list of strings. Hint: use `range(len(ind))`."
   ]
  },
  {
   "cell_type": "code",
   "execution_count": null,
   "metadata": {},
   "outputs": [],
   "source": [
    "# fill in details ...\n",
    "def generate_index(ind): \n",
    "    return ..."
   ]
  },
  {
   "cell_type": "code",
   "execution_count": null,
   "metadata": {},
   "outputs": [],
   "source": [
    "# test on this example\n",
    "generate_index(['Hrothgar', 'Beowulf', 'Grendel'])  # This should return {'Hrothgar': 0, 'Beowulf': 1, 'Grendel': 2}"
   ]
  },
  {
   "cell_type": "markdown",
   "metadata": {},
   "source": [
    "7. A \"list of lists of data\" is a common data type in data science. Given a list containing lists of equal length, write a function `get_row` that takes this \"list of lists\" and a number, and generates the tuple of items at position n in each list. The example below should work: "
   ]
  },
  {
   "cell_type": "code",
   "execution_count": null,
   "metadata": {},
   "outputs": [],
   "source": [
    "# fill in details ...\n",
    "def get_row(lofl, n):\n",
    "    return ..."
   ]
  },
  {
   "cell_type": "code",
   "execution_count": null,
   "metadata": {},
   "outputs": [],
   "source": [
    "# Test on this example\n",
    "get_row([[1,2,3], ['Hrothgar', 'Beowulf', 'Grendel'], [29,40,1]],1)  # should print (2, 'Beowulf', 40)"
   ]
  },
  {
   "cell_type": "markdown",
   "metadata": {},
   "source": [
    "8. write a function `modify_tuple` that changes element n of a tuple t to a new value x and returns the new tuple. Hint: *tuples aren't mutable.* You need to construct a new one! "
   ]
  },
  {
   "cell_type": "code",
   "execution_count": null,
   "metadata": {},
   "outputs": [],
   "source": [
    "# fill in details ... \n",
    "def modify_tuple(t, i, x):\n",
    "    return ..."
   ]
  },
  {
   "cell_type": "code",
   "execution_count": null,
   "metadata": {},
   "outputs": [],
   "source": [
    "modify_tuple((1,2,3), 1, 'foo')  # should return (1, 'foo', 3)"
   ]
  },
  {
   "cell_type": "markdown",
   "metadata": {},
   "source": [
    "9. Consider the class Debt that we considered before: "
   ]
  },
  {
   "cell_type": "code",
   "execution_count": null,
   "metadata": {},
   "outputs": [],
   "source": [
    "class Debt(): \n",
    "    debtor = None\n",
    "    lender = None\n",
    "    amount = None\n",
    "    def __init__(self, p1, p2, m):\n",
    "        self.debtor = p1\n",
    "        self.lender = p2\n",
    "        self.amount = m\n",
    "    def __str__(self): \n",
    "        return \"{} owes {} ${}\".format(self.debtor, self.lender, self.amount)\n",
    "    ..."
   ]
  },
  {
   "cell_type": "markdown",
   "metadata": {},
   "source": [
    "Write a method of `Debt` called `t` that returns a tuple corresponding to the Debt. It should work as documented below: "
   ]
  },
  {
   "cell_type": "code",
   "execution_count": null,
   "metadata": {},
   "outputs": [],
   "source": [
    "# use this to test your code\n",
    "d = Debt(\"Alva\", \"George\", 20)\n",
    "d.t()  # should output ('Alva', 'George', 20)"
   ]
  },
  {
   "cell_type": "markdown",
   "metadata": {},
   "source": [
    "10. In a short paragraph, explain when to use a tuple versus a list. "
   ]
  },
  {
   "cell_type": "markdown",
   "metadata": {},
   "source": [
    "___Your answer:___"
   ]
  },
  {
   "cell_type": "markdown",
   "metadata": {},
   "source": [
    "# When done, \n",
    "* Save and checkpoint the notebook. \n",
    "* If your Jupyter installation can download the notebook as a PDF,\n",
    "    * (File >> Download as >> PDF via LaTeX (.pdf)), \n",
    "    * Rename this file to `<loginid>-midterm.pdf`. In other words, my filename would be `jsingh11-midterm.pdf`.\n",
    "    * Submit the file `<loginid>-midterm.pdf` to Canvas.\n",
    "* Otherwise \n",
    "    * (File >> Download as >> Notebook (.ipynb)). In other words, my filename would be `jsingh11-midterm.ipynb`.\n",
    "    * Rename to `<loginid>-midterm.ipynb`,\n",
    "    * Submit the file `<loginid>-midterm.ipynb` to Canvas."
   ]
  }
 ],
 "metadata": {
  "kernelspec": {
   "display_name": "Python 3",
   "language": "python",
   "name": "python3"
  },
  "language_info": {
   "codemirror_mode": {
    "name": "ipython",
    "version": 3
   },
   "file_extension": ".py",
   "mimetype": "text/x-python",
   "name": "python",
   "nbconvert_exporter": "python",
   "pygments_lexer": "ipython3",
   "version": "3.7.4"
  }
 },
 "nbformat": 4,
 "nbformat_minor": 2
}
