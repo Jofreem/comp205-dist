{
 "cells": [
  {
   "cell_type": "markdown",
   "metadata": {},
   "source": [
    "# A notebook is not a program\n",
    "\n",
    "In this exercise we will demonstrate that a Jupyter Notebook is not really a Python program. The problem is that we can execute cells in any order, and even modify them after executing them. Thus, programming in a Jupyter notebook is a bit more complex than writing a Python program into a file. \n",
    "\n",
    "In this exercise, we will construct a notebook whose state is most definitely not the state of a program. \n",
    "\n",
    "### First, Let's run a cell that sets a variable x to 1: "
   ]
  },
  {
   "cell_type": "code",
   "execution_count": null,
   "metadata": {},
   "outputs": [],
   "source": [
    "x = 1"
   ]
  },
  {
   "cell_type": "markdown",
   "metadata": {},
   "source": [
    "Note that there is now a number `In [?]` to the side of the cell. This shows execution order for cells. \n",
    "\n",
    "### And then, let's see what's in it via the following cell: "
   ]
  },
  {
   "cell_type": "code",
   "execution_count": null,
   "metadata": {},
   "outputs": [],
   "source": [
    "x"
   ]
  },
  {
   "cell_type": "markdown",
   "metadata": {},
   "source": [
    "### But now, let's change x to something else. \n",
    "\n",
    "*Do not execute this cell yet.*"
   ]
  },
  {
   "cell_type": "code",
   "execution_count": null,
   "metadata": {},
   "outputs": [],
   "source": [
    "x = 'hello'"
   ]
  },
  {
   "cell_type": "markdown",
   "metadata": {},
   "source": [
    "The problem is that the version of `x` in the *kernel interpreter* is different than the value specified in the cell just above us.\n",
    "\n",
    "### Now execute the next cell *without* executing the previous one: "
   ]
  },
  {
   "cell_type": "code",
   "execution_count": null,
   "metadata": {},
   "outputs": [],
   "source": [
    "x"
   ]
  },
  {
   "cell_type": "markdown",
   "metadata": {},
   "source": [
    "and you'll observe that the value of `x` *in the kernel interpreter* is the same as before. \n",
    "\n",
    "Now execute the `x = 'hello'` cell above. Then execute the following cell."
   ]
  },
  {
   "cell_type": "code",
   "execution_count": null,
   "metadata": {},
   "outputs": [],
   "source": [
    "x"
   ]
  },
  {
   "cell_type": "markdown",
   "metadata": {},
   "source": [
    "### If you have followed my instructions to the letter so far, \n",
    "\n",
    "You have the following situation: \n",
    "\n",
    "<tt>\n",
    "<table border='1' align='left'> \n",
    "    <tr> <th> label </th> <th> content </th> </tr>\n",
    "    <tr> <td> In [1]</td> <td> x = 1 </td> </tr> \n",
    "    <tr> <td> In [2]</td> <td> x </td> </tr> \n",
    "    <tr> <td> Out[2]</td> <td> 1 </td> </tr> \n",
    "    <tr> <td> In [4]</td> <td> x = 'hello' </td> </tr> \n",
    "    <tr> <td> In [3]</td> <td> x </td> </tr> \n",
    "    <tr> <td> Out[3]</td> <td> 1 </td> </tr> \n",
    "    <tr> <td> In [5]</td> <td> x </td> </tr> \n",
    "    <tr> <td> Out[5]</td> <td> 'hello' </td> </tr> \n",
    "</table> \n",
    "</tt>\n",
    "\n"
   ]
  },
  {
   "cell_type": "markdown",
   "metadata": {},
   "source": [
    "# Things to note about this situation. \n",
    "\n",
    "1. The numbers tell you in what order the cells were actually run. \n",
    "2. This is not the order in which they were written. \n",
    "3. The state of the *kernel* is independent of the state of the *notebook*. \n",
    "4. The only thing that indicates the state of the *kernel* is the numbering of `in` and `Out` variables, above. \n",
    "5. It appears to the naive observer that something is wrong with Jupyter. Out[3] is stale according to the order of cells. "
   ]
  },
  {
   "cell_type": "markdown",
   "metadata": {},
   "source": [
    "# Disambiguating this situation\n",
    "\n",
    "You might have guessed that this can get very confusing. The 'run' order of cells doesn't have to be from top to bottom. \n",
    "\n",
    "It might make you feel better to select `Kernel > Restart and Run All` above. This will restart the kernel and execute cells from top to bottom. After this, we'll have: \n",
    "\n",
    "<tt>\n",
    "<table border='1' align='left'> \n",
    "    <tr> <th> label </th> <th> content </th> </tr>\n",
    "    <tr> <td> In [1]</td> <td> x = 1 </td> </tr> \n",
    "    <tr> <td> In [2]</td> <td> x </td> </tr> \n",
    "    <tr> <td> Out[2]</td> <td> 1 </td> </tr> \n",
    "    <tr> <td> In [3]</td> <td> x = 'hello' </td> </tr> \n",
    "    <tr> <td> In [4]</td> <td> x </td> </tr> \n",
    "    <tr> <td> Out[4]</td> <td> 'hello' </td> </tr> \n",
    "    <tr> <td> In [5]</td> <td> x </td> </tr> \n",
    "    <tr> <td> Out[5]</td> <td> 'hello' </td> </tr> \n",
    "</table> \n",
    "</tt>"
   ]
  },
  {
   "cell_type": "markdown",
   "metadata": {},
   "source": [
    "# ... and all is well!\n",
    "\n",
    "Restarting and running cells in order produces the appropriate result. \n",
    "\n",
    "It is unclear why Jupyter is so flexible, but it is considered very poor form to share a notebook with other people with cells run out of order. The first thing I'll do when you submit a notebook to me is to run the cells in order! \n",
    "\n",
    "When you are done with this notebook, run the following two cells to submit it:"
   ]
  },
  {
   "cell_type": "code",
   "execution_count": 1,
   "metadata": {},
   "outputs": [
    {
     "name": "stdout",
     "output_type": "stream",
     "text": [
      "=====================================================================\n",
      "Assignment: Notebook not a program\n",
      "OK, version v1.14.15\n",
      "=====================================================================\n",
      "\n",
      "Successfully logged in as alva.couch@gmail.com\n"
     ]
    }
   ],
   "source": [
    "# Don't change this cell; just run it. \n",
    "from client.api.notebook import Notebook\n",
    "ok = Notebook('01-05-notebook-not-a-program.ok')\n",
    "ok.auth(inline=True)"
   ]
  },
  {
   "cell_type": "code",
   "execution_count": 3,
   "metadata": {},
   "outputs": [
    {
     "data": {
      "application/javascript": [
       "IPython.notebook.save_checkpoint();"
      ],
      "text/plain": [
       "<IPython.core.display.Javascript object>"
      ]
     },
     "metadata": {},
     "output_type": "display_data"
    },
    {
     "data": {
      "application/javascript": [
       "IPython.notebook.save_notebook();"
      ],
      "text/plain": [
       "<IPython.core.display.Javascript object>"
      ]
     },
     "metadata": {},
     "output_type": "display_data"
    },
    {
     "name": "stdout",
     "output_type": "stream",
     "text": [
      "Saving notebook... Saved 'Notebook not a program.ipynb'.\n",
      "Submit... 100% complete\n",
      "Backup... 100% complete\n",
      "Submission successful for user: alva.couch@gmail.com\n",
      "URL: https://okpy.org/cal/COMP205/su19/notebooknotaprogram/submissions/gZNgrG\n",
      "\n"
     ]
    }
   ],
   "source": [
    "_ = ok.submit()  # submit a copy to me"
   ]
  },
  {
   "cell_type": "code",
   "execution_count": null,
   "metadata": {},
   "outputs": [],
   "source": []
  }
 ],
 "metadata": {
  "kernelspec": {
   "display_name": "Python 3",
   "language": "python",
   "name": "python3"
  },
  "language_info": {
   "codemirror_mode": {
    "name": "ipython",
    "version": 3
   },
   "file_extension": ".py",
   "mimetype": "text/x-python",
   "name": "python",
   "nbconvert_exporter": "python",
   "pygments_lexer": "ipython3",
   "version": "3.7.3"
  }
 },
 "nbformat": 4,
 "nbformat_minor": 2
}
