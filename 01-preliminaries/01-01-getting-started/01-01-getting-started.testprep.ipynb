{
 "cells": [
  {
   "cell_type": "markdown",
   "metadata": {},
   "source": [
    "# getting started with jupyter -- test prep\n",
    "\n",
    "Note: I have left some cells in this notebook to remind you of the context. In most cases, when I do so, there is a green <font color=green>_reminder_ </font> at the top saying so."
   ]
  },
  {
   "cell_type": "markdown",
   "metadata": {},
   "source": [
    "## <font color=green>This cell intentionally retained from the original notebook</font>\n",
    "\n",
    "\n",
    "# the Markdown language\n",
    "A lot of data science requires writing in English rather than in computer code. In Jupyter Notebooks, this is done using the Markdown language. The language is fairly simple: \n",
    "\n",
    "```\n",
    "# starts a heading\n",
    "## starts a subheading\n",
    "* starts a bulleted list. \n",
    "1. (or any number) starts a numbered list. \n",
    "```\n",
    "\n",
    "The above is typeset as follows: \n",
    "# starts a heading\n",
    "## starts a subheading\n",
    "* starts a bulleted list\n",
    "1. (or any number) starts a numbered list. \n",
    "\n",
    "For more details on markdown, please read [the Markdown documentation](https://jupyter-notebook.readthedocs.io/en/stable/examples/Notebook/Working%20With%20Markdown%20Cells.html). \n",
    "\n",
    "Meanwhile, I will typeset the rest of the course instructions in Markdown and you can double-click to see how I did it. Just click \"Run\" to have them appear normally again. \n",
    "\n",
    "The Gettysburg address in the cell below is reference text that we use later in this notebook."
   ]
  },
  {
   "cell_type": "markdown",
   "metadata": {},
   "source": [
    "## The Gettysburg address\n",
    "\n",
    "Fourscore and seven years ago our fathers brought forth, on this continent, a new nation, conceived in liberty, and dedicated to the proposition that all men are created equal. \n",
    "Now we are engaged in a great civil war, testing whether that nation, or any nation so conceived, and so dedicated, can long endure. \n",
    "We are met on a great battle-field of that war. \n",
    "We have come to dedicate a portion of that field, as a final resting-place for those who here gave their lives, that that nation might live. \n",
    "It is altogether fitting and proper that we should do this. \n",
    "But, in a larger sense, we cannot dedicate, we cannot consecrate—we cannot hallow—this ground. \n",
    "The brave men, living and dead, who struggled here, have consecrated it far above our poor power to add or detract. \n",
    "The world will little note, nor long remember what we say here, but it can never forget what they did here. \n",
    "It is for us the living, rather, to be dedicated here to the unfinished work which they who fought here have thus far so nobly advanced. \n",
    "It is rather for us to be here dedicated to the great task remaining before us—that from these honored dead we take increased devotion to that cause for which they here gave the last full measure of devotion—that we here highly resolve that these dead shall not have died in vain—that this nation, under God, shall have a new birth of freedom, and that government of the people, by the people, for the people, shall not perish from the earth."
   ]
  },
  {
   "cell_type": "markdown",
   "metadata": {},
   "source": [
    "# Exercises\n",
    "\n",
    "### Exercise 1\n",
    "\n",
    "Add a markdown cell below this current one and insert the Gettysburg Address into it.\n",
    "\n",
    "### Exercise 2\n",
    "\n",
    "In a separate browser tab, find the Gettysburg Address somewhere on the internet and add a link to it below the cell for Exercise 1.\n",
    "\n",
    "### Exercise 3\n",
    "\n",
    "In a new Jupyter notebook **code** cell _above_ that of Exercise 2, enter a comment about _what is anaconda_. \n",
    "This comment should be more than a one-liner (i.e., it should span multiple lines).\n",
    "\n",
    "### Exercise 4\n",
    "\n",
    "What might a code cell with this text `!pip install cryptography` do? Answer in plain language in a markdown cell before moving on the Exercise 5.\n",
    "\n",
    "### Exercise 5\n",
    "\n",
    "In a code cell, run `!pip install cryptography`. Were you able to install the `cryptography` package?\n",
    "\n",
    "### Exercise 6\n",
    "\n",
    "In a code cell, run `from cryptography.fernet import Fernet`. If the `pip install` was successful, this should run without errors.\n",
    "\n",
    "### Exercise 7\n",
    "\n",
    "After you have installed your `cryptography` package but _before_ a colleague has installed theirs, ask them to run `from cryptography.fernet import Fernet` in their Jupyter notebook.\n",
    "What does the result mean? Are the installs you do in your Jupyter notebook good for just you or everyone in the class?\n",
    "\n",
    "### Exercise 8\n",
    "\n",
    "What version of Python is running your notebook? Here is a way to tell [what version of Python](https://stackoverflow.com/questions/1093322/how-do-i-check-what-version-of-python-is-running-my-script) you are running. "
   ]
  },
  {
   "cell_type": "markdown",
   "metadata": {},
   "source": [
    "## <font color=green>This cell intentionally retained from the original notebook</font>\n",
    "\n",
    "# Python 3 versus Python 2 versus iPython\n",
    "In this course, we will work in iPython, which is short for \"interactive Python\". This is a version suitable for use in Jupyter notebooks cells. Our particular iPython interpreter understands Python 3 syntax. Python 2 -- an older version of Python -- is still in active use but we will not use it in this course. The differences are subtle, and beyond the scope of this course. \n",
    "\n",
    "Language in the Jupyter notebooks documentation can be confusing so an initial note on nomenclature might help. You will often find that the word *kernel* is used to describe an interactive language (such as iPython) that is interpreted in a Notebook. There are several \"kernels\", including Python 3, Python 2, R, Matlab, etc. In this course, we will be using the iPython kernel based upon Python 3. Thus: \n",
    "* The word *kernel* refers to the language a notebook is interpreting. \n",
    "* The *iPython kernel* supports either Python 3 or 2. \n",
    "* We are using the Python 3 version. \n",
    "\n",
    "Hopefully this note will make the documentation easier to read. "
   ]
  },
  {
   "cell_type": "code",
   "execution_count": null,
   "metadata": {},
   "outputs": [],
   "source": [
    "import sys"
   ]
  },
  {
   "cell_type": "code",
   "execution_count": null,
   "metadata": {},
   "outputs": [],
   "source": [
    "print (sys.version)"
   ]
  },
  {
   "cell_type": "markdown",
   "metadata": {},
   "source": [
    "# No link to okpy\n",
    "\n",
    "Since this notebook is for your own use, it has no links to [okpy](https://okpy.org)"
   ]
  }
 ],
 "metadata": {
  "kernelspec": {
   "display_name": "Python 3",
   "language": "python",
   "name": "python3"
  },
  "language_info": {
   "codemirror_mode": {
    "name": "ipython",
    "version": 3
   },
   "file_extension": ".py",
   "mimetype": "text/x-python",
   "name": "python",
   "nbconvert_exporter": "python",
   "pygments_lexer": "ipython3",
   "version": "3.7.4"
  }
 },
 "nbformat": 4,
 "nbformat_minor": 2
}
