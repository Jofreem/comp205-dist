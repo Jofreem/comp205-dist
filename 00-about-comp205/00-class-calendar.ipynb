{
 "cells": [
  {
   "cell_type": "markdown",
   "metadata": {},
   "source": [
    "| Wk  |  M  |  W   | Topic  | Notebooks |\n",
    "| :---: | :---: | :----: | :------ | :----- |\n",
    "|  8  |  10/22  | 24  | **Numpy:** Reading into multi-dimensional arrays, **Pandas:** Dataframes and reading into them  | 03-03, 03-04 |\n",
    "|  9  |  29  | 31  | **Pandas:** Merging and matching Dataframes, Series and Views| 03-05, 03-06, 04-01 |\n",
    "|  10 |  11/4   | 6   | Classification and Clustering | 04-02, 04-03 |\n",
    "|  11 |  11  | 13  | **Case Study:** [World Happiness Report](https://worldhappiness.report/ed/2019/)  | 04-04, 05-01 |\n",
    "|  12 |  18  | 20  | **Matplotlib**  | 04-06, 04-07 |\n",
    "|  13 |  25   | &mdash;  | **Case Study:** World Happiness Map | 05-03 |\n",
    "|  14 |  12/2 | 4 |  **Case Study:** Twitter Sentiment Analysis | 05-04 |\n",
    "|  16 |  | 12/13 | **(Take Home) Final Exam**  |\n"
   ]
  }
 ],
 "metadata": {
  "kernelspec": {
   "display_name": "Python 3",
   "language": "python",
   "name": "python3"
  },
  "language_info": {
   "codemirror_mode": {
    "name": "ipython",
    "version": 3
   },
   "file_extension": ".py",
   "mimetype": "text/x-python",
   "name": "python",
   "nbconvert_exporter": "python",
   "pygments_lexer": "ipython3",
   "version": "3.7.4"
  }
 },
 "nbformat": 4,
 "nbformat_minor": 2
}
