{
 "cells": [
  {
   "cell_type": "markdown",
   "metadata": {},
   "source": [
    "# Reusable Classes\n",
    "So far, we've studied structures that include lists, sets, dicts, tuples, and other kinds of data. \n",
    "A class is a different kind of object. It can contain these other kinds of objects as data. \n",
    "However, the way one interacts with classes is distinct from how one interacts with many other kinds of data. \n",
    "\n",
    "In its simplest form, a class is a way to bind together functions and data into one package.\n",
    "Let us first see how to utilize a class that someone already wrote.\n",
    "Don't change the next cell, just run it!"
   ]
  },
  {
   "cell_type": "code",
   "execution_count": null,
   "metadata": {},
   "outputs": [],
   "source": [
    "from math import pi\n",
    "\n",
    "\n",
    "class Circle:\n",
    "    \"\"\"\n",
    "    A Circle instance models a circle with a radius\n",
    "    Can be initialized with an optional radius parameter\n",
    "    If no radius is given, a radius of 1.0 is used\n",
    "    \"\"\"\n",
    "\n",
    "    def __init__(self, radius=1.0):\n",
    "        \"\"\"Initializer with default radius of 1.0\"\"\"\n",
    "        self.radius = radius  # Instance variable radius\n",
    "\n",
    "    def __str__(self):\n",
    "        \"\"\"Return a descriptive string for this instance, invoked by print() and str()\"\"\"\n",
    "        return 'This is a circle with radius of {:.2f}'.format(self.radius)\n",
    "\n",
    "    def get_area(self):\n",
    "        \"\"\"Return the area of this Circle instance\"\"\"\n",
    "        return self.radius * self.radius * pi"
   ]
  },
  {
   "cell_type": "markdown",
   "metadata": {},
   "source": [
    "The cell above defines a class called `Circle` which can be initialized (the `__init__` method), converted into a string (the `__str__` method) and have its area computed ((the `get_area` method).\n",
    "Let us create a circle and play with it."
   ]
  },
  {
   "cell_type": "code",
   "execution_count": null,
   "metadata": {},
   "outputs": [],
   "source": [
    "c1 = Circle(2.1)      # Construct an instance\n",
    "print(c1)             # Invokes __str__()\n",
    "print(c1.get_area())\n",
    "print(c1.radius)\n",
    "print(str(c1))"
   ]
  },
  {
   "cell_type": "markdown",
   "metadata": {},
   "source": [
    "Let us create another circle and don't bother to specify the radius"
   ]
  },
  {
   "cell_type": "code",
   "execution_count": null,
   "metadata": {},
   "outputs": [],
   "source": [
    "c2 = Circle()\n",
    "print(c2)\n",
    "print(c2.get_area())  # Invoke member method"
   ]
  },
  {
   "cell_type": "markdown",
   "metadata": {},
   "source": [
    "We can add an attribute 'color' to the circle c2"
   ]
  },
  {
   "cell_type": "code",
   "execution_count": null,
   "metadata": {},
   "outputs": [],
   "source": [
    "c2.color = 'red'  # Create a new attribute for this instance via assignment\n",
    "print(c2.color)"
   ]
  },
  {
   "cell_type": "markdown",
   "metadata": {},
   "source": [
    "Does c1 also have a color now?"
   ]
  },
  {
   "cell_type": "code",
   "execution_count": null,
   "metadata": {},
   "outputs": [],
   "source": [
    "print(c1.color)"
   ]
  },
  {
   "cell_type": "markdown",
   "metadata": {},
   "source": [
    "Most Data Science work involves using classes that someone else wrote. \n",
    "Before you decide to write your own, search the web or [PyPi](https://pypi.org/), the Python Package index.\n",
    "\n",
    "The rest of this notebook explains what some of the concepts around classes mean. It considers a class called `Coordinates` which packages up attributes and 'methods': the functions a user of that class can invoke."
   ]
  },
  {
   "cell_type": "code",
   "execution_count": null,
   "metadata": {},
   "outputs": [],
   "source": [
    "class Coordinates():\n",
    "    latitude = None\n",
    "    longitude = None\n",
    "\n",
    "    def location(self):\n",
    "        return (self.latitude, self.longitude)\n",
    "\n",
    "\n",
    "boston = Coordinates()\n",
    "boston.latitude = 42.3601\n",
    "boston.longitude = -71.0589\n",
    "boston.location()"
   ]
  },
  {
   "cell_type": "markdown",
   "metadata": {},
   "source": [
    "(Source of data: google maps)\n",
    "\n",
    "At the most naive level, a class is a collection of functions and data, e.g., \n",
    "* `Coordinates.latitude`: a number. \n",
    "* `Coordinates.longitude`: a number. \n",
    "* `Coordinates.location`: a function.\n",
    "We often refer to these as **attributes** of the class. \n",
    "\n",
    "To interact with a class, we make an **instance** of the class by a syntax like: \n",
    "```\n",
    "boston = Coordinates()\n",
    "```\n",
    "and then can interact with the instance, which contains: \n",
    "* `boston.latitude`\n",
    "* `boston.longitude`\n",
    "* `boston.location()`\n",
    "\n",
    "# Methods\n",
    "* A function contained inside a class is commonly called a **method**. \n",
    "* `boston.location()` calls a method.\n",
    "\n",
    "\n",
    "# What is `self`?\n",
    "You might notice that there is a first parameter `self` in the `location` function. \n",
    "If you write: `boston.location()`then `location` is actually called with first parameter `boston` so that `self` inside that function is `boston`. \n",
    "\n",
    "A rather bizarre notation proves this. It turns out that `boston.location()` is exactly and precisely equivalent to: "
   ]
  },
  {
   "cell_type": "code",
   "execution_count": null,
   "metadata": {},
   "outputs": [],
   "source": [
    "Coordinates.location(boston)"
   ]
  },
  {
   "cell_type": "markdown",
   "metadata": {},
   "source": [
    "`Coordinates.location` is the *external* name of the function, outside the class. In other words, \n",
    "\n",
    "*In a regular class method call, the first parameter is always the instance of the class.*\n",
    "\n",
    "# Why did I set `latitude` and `longitude` to `None`?\n",
    "It is considered good style to mention attributes of a class in their declaration even if they have no values at that time. In fact, this is not a limitation. One can create an instance and then set the attributes later. E.g., this works, too: "
   ]
  },
  {
   "cell_type": "code",
   "execution_count": null,
   "metadata": {},
   "outputs": [],
   "source": [
    "class Coordinates():\n",
    "    def location(self):\n",
    "        return (self.latitude, self.longitude)\n",
    "\n",
    "\n",
    "boston = Coordinates()\n",
    "boston.latitude = 42.3601\n",
    "boston.longitude = -71.0589\n",
    "boston.location()"
   ]
  },
  {
   "cell_type": "markdown",
   "metadata": {},
   "source": [
    "# Printing classes. \n",
    "You might be surprised that the default printout for a class is rather mysterious. Execute the following to discover how it's handled. "
   ]
  },
  {
   "cell_type": "code",
   "execution_count": null,
   "metadata": {},
   "outputs": [],
   "source": [
    "boston"
   ]
  },
  {
   "cell_type": "markdown",
   "metadata": {},
   "source": [
    "This is nothing more than a string that is always unique. \n",
    "You get to tell Python how to print a class nicely, below. \n",
    "\n",
    "# Classes versus other types\n",
    "\n",
    "The most similar type to that of a `class` is a `dict`. \n",
    "But they're different in many ways. \n",
    "\n",
    "| class | dict |\n",
    "|-------|------|\n",
    "| references are `instance.attribute` | references are `dictthing[index]` |\n",
    "| attributes must be valid variable names | indices can be any string | \n",
    "| `for i in instance:` doesn't generally work | `for i in dictthing:` iterates over keys |\n",
    "\n",
    "In fact, one can make a `class` into an `iterable` by defining what to do, but I will defer that to later.  \n",
    "\n",
    "Let's start applying this knowledge. First, register yourself so grading will work:"
   ]
  },
  {
   "cell_type": "code",
   "execution_count": null,
   "metadata": {},
   "outputs": [],
   "source": [
    "# Don't change this cell; just run it. \n",
    "from client.api.notebook import Notebook\n",
    "ok = Notebook('02-04-reusable-classes.ok')\n",
    "ok.auth(inline=True)"
   ]
  },
  {
   "cell_type": "markdown",
   "metadata": {},
   "source": [
    "Let's try this out: \n",
    "1. Make up a class `Purchase` that contains two data fields `item` and `cost`. Create a `Purchase` `socks` with item `\"socks\"` and price `10.00`."
   ]
  },
  {
   "cell_type": "code",
   "execution_count": null,
   "metadata": {},
   "outputs": [],
   "source": [
    "# Your answer:\n",
    "\n",
    "# Then this should work:\n",
    "socks"
   ]
  },
  {
   "cell_type": "code",
   "execution_count": null,
   "metadata": {},
   "outputs": [],
   "source": [
    "_ = ok.grade('q1')  # run this to check your answer"
   ]
  },
  {
   "cell_type": "markdown",
   "metadata": {},
   "source": [
    "# Constructors\n",
    "**Constructors** allow one to create a class more easily. For this class, we might write: "
   ]
  },
  {
   "cell_type": "code",
   "execution_count": null,
   "metadata": {},
   "outputs": [],
   "source": [
    "class Coordinates():\n",
    "    latitude = None\n",
    "    longitude = None\n",
    "\n",
    "    def __init__(self, lat, long):\n",
    "        self.latitude = lat\n",
    "        self.longitude = long\n",
    "\n",
    "    def location(self):\n",
    "        return (self.latitude, self.longitude)\n",
    "\n",
    "\n",
    "boston = Coordinates(42.3601, -71.0589)\n",
    "boston.location()"
   ]
  },
  {
   "cell_type": "markdown",
   "metadata": {},
   "source": [
    "Let's try this out: \n",
    "\n",
    "2. Copy your Purchase class from above, and write a constructor so that I can create a Purchase using the syntax below: "
   ]
  },
  {
   "cell_type": "code",
   "execution_count": null,
   "metadata": {},
   "outputs": [],
   "source": [
    "# Your answer: \n",
    "        \n",
    "# Then this should work: \n",
    "socks = Purchase('socks', 10.00)\n",
    "socks"
   ]
  },
  {
   "cell_type": "code",
   "execution_count": null,
   "metadata": {},
   "outputs": [],
   "source": [
    "_ = ok.grade('q2')  # run this to check your answer"
   ]
  },
  {
   "cell_type": "markdown",
   "metadata": {},
   "source": [
    "# Printing a class \n",
    "\n",
    "Unlike other types, classes are *opaque*; they don't automatically print their contents. You have to decide how to print your class.  The reserved method `__str__` decides how to print a class. \n",
    "For example: "
   ]
  },
  {
   "cell_type": "code",
   "execution_count": null,
   "metadata": {},
   "outputs": [],
   "source": [
    "class Coordinates():\n",
    "    latitude = None\n",
    "    longitude = None\n",
    "\n",
    "    def __init__(self, lat, long):\n",
    "        self.latitude = lat\n",
    "        self.longitude = long\n",
    "\n",
    "    def __str__(self):\n",
    "        return \"lat {}, long {}\".format(self.latitude, self.longitude)\n",
    "\n",
    "    def location(self):\n",
    "        return (self.latitude, self.longitude)\n",
    "\n",
    "\n",
    "boston = Coordinates(42.3601, -71.0589)\n",
    "print(boston)\n",
    "str(boston)"
   ]
  },
  {
   "cell_type": "markdown",
   "metadata": {},
   "source": [
    "(print(x) implicitly calls str(x))!\n",
    "\n",
    "Let's try this out: \n",
    "3. Copy your `Purchase` class again, and add a `__str__` method that prints \n",
    "`\"The cost of socks is 10.0\"` to make my code work.  "
   ]
  },
  {
   "cell_type": "code",
   "execution_count": null,
   "metadata": {},
   "outputs": [],
   "source": [
    "# your answer: \n",
    "          \n",
    "# Then this should work: \n",
    "socks = Purchase('socks', 10.00)\n",
    "print(socks)"
   ]
  },
  {
   "cell_type": "code",
   "execution_count": null,
   "metadata": {},
   "outputs": [],
   "source": [
    "_ = ok.grade('q3')  # run this to check your answer"
   ]
  },
  {
   "cell_type": "markdown",
   "metadata": {},
   "source": [
    "# Classes containing classes\n",
    "\n",
    "Here's an obvious generalization of what we have so far. It's often useful to define a rectangle as a result of coordinates. Here's a common class for doing that: "
   ]
  },
  {
   "cell_type": "code",
   "execution_count": null,
   "metadata": {},
   "outputs": [],
   "source": [
    "class Rectangle():\n",
    "    southeast = None\n",
    "    northwest = None\n",
    "\n",
    "    def __init__(self, southeast, northwest):\n",
    "        self.southeast = southeast\n",
    "        self.northwest = northwest\n",
    "\n",
    "    def __str__(self):\n",
    "        return \"rectangle from {} to {}\".format(str(self.southeast), str(self.northwest))\n",
    "\n",
    "\n",
    "nw = Coordinates(42.428517, -70.967605)\n",
    "se = Coordinates(42.305968, -71.201033)\n",
    "boston_area = Rectangle(se, nw)\n",
    "str(boston_area)"
   ]
  },
  {
   "cell_type": "markdown",
   "metadata": {},
   "source": [
    "Let's try this out: \n",
    "\n",
    "4. Make up a class `Purchases` that contains a list of `Purchase`s called `purchases`. Make a constructor that takes a list of `Purchase` objects. Make it print the purchases one per line when printed. Hint: make up a string `out` and then add each line to it, separated by `'\\n'`. Make my code at the end work properly.  "
   ]
  },
  {
   "cell_type": "code",
   "execution_count": null,
   "metadata": {
    "scrolled": false
   },
   "outputs": [],
   "source": [
    "# your answer:\n",
    "\n",
    "# then this should work\n",
    "stuff = [Purchase(\"socks\", 10.00),\n",
    "         Purchase(\"tie\", 20.00),\n",
    "         Purchase(\"shoes\", 50.00)]\n",
    "purchases = Purchases(stuff)\n",
    "print(purchases)"
   ]
  },
  {
   "cell_type": "code",
   "execution_count": null,
   "metadata": {},
   "outputs": [],
   "source": [
    "_ = ok.grade('q4')  # run this to check your answer"
   ]
  },
  {
   "cell_type": "markdown",
   "metadata": {},
   "source": [
    "# Methods relevant to data\n",
    "One of the great powers of classes is the ability to file methods inside classes that are relevant to the data in the classes. For example, in our `Rectangle` class, we might want to know if a point expressed as `Coordinates` is inside the rectangle. We can write: \n"
   ]
  },
  {
   "cell_type": "code",
   "execution_count": null,
   "metadata": {},
   "outputs": [],
   "source": [
    "class Rectangle():\n",
    "    southeast = None\n",
    "    northwest = None\n",
    "\n",
    "    def __init__(self, southeast, northwest):\n",
    "        self.southeast = southeast\n",
    "        self.northwest = northwest\n",
    "\n",
    "    def __str__(self):\n",
    "        return \"rectangle from {} to {}\".format(str(self.southeast), str(self.northwest))\n",
    "\n",
    "    def contains(self, coords):\n",
    "        return self.southeast.latitude <= coords.latitude and \\\n",
    "            self.southeast.longitude <= coords.longitude and \\\n",
    "            self.northwest.latitude >= coords.latitude and \\\n",
    "            self.northwest.longitude >= coords.longitude\n",
    "\n",
    "\n",
    "nw = Coordinates(42.428517, -70.967605)\n",
    "se = Coordinates(42.305968, -71.201033)\n",
    "boston_area = Rectangle(se, nw)\n",
    "print(boston_area.contains(boston))\n",
    "outside = Coordinates(40.0, -69)\n",
    "print(boston_area.contains(outside))"
   ]
  },
  {
   "cell_type": "markdown",
   "metadata": {},
   "source": [
    "So, *I taught the class `Rectangle` what it means to be inside that rectangle.*\n",
    "\n",
    "Let's try this out: \n",
    "\n",
    "5. Copy over your `Purchases` class. Add a class method `total` that returns the total cost of all purchases. Make my usage of the code work below. "
   ]
  },
  {
   "cell_type": "code",
   "execution_count": null,
   "metadata": {},
   "outputs": [],
   "source": [
    "# your answer: \n",
    " \n",
    "# then this should work:\n",
    "stuff = [Purchase(\"socks\", 10), \n",
    "         Purchase(\"tie\", 20), \n",
    "         Purchase(\"shoes\", 50)]\n",
    "purchases = Purchases(stuff)\n",
    "str(purchases.total())"
   ]
  },
  {
   "cell_type": "code",
   "execution_count": null,
   "metadata": {},
   "outputs": [],
   "source": [
    "_ = ok.grade('q5')  # run this to check your answer"
   ]
  },
  {
   "cell_type": "markdown",
   "metadata": {},
   "source": [
    "# When you are done with this workbook\n",
    "\n",
    "1. Save and Checkpoint it under the original file name. \n",
    "2. Change `ready` to `True` in the following cell. \n",
    "3. Run that cell to submit the exercise. "
   ]
  },
  {
   "cell_type": "code",
   "execution_count": null,
   "metadata": {},
   "outputs": [],
   "source": [
    "ready = False  # change to True when ready to submit\n",
    "print(\"student '{}' submitting file '{}' for assignment '{}'\"\n",
    "      .format(ok.assignment.get_student_email(),\n",
    "              ok.assignment.src, \n",
    "              ok.assignment.name))\n",
    "if not ready: \n",
    "    raise Exception(\"change ready to True when ready to submit\")\n",
    "_ = ok.submit()"
   ]
  }
 ],
 "metadata": {
  "kernelspec": {
   "display_name": "Python 3",
   "language": "python",
   "name": "python3"
  },
  "language_info": {
   "codemirror_mode": {
    "name": "ipython",
    "version": 3
   },
   "file_extension": ".py",
   "mimetype": "text/x-python",
   "name": "python",
   "nbconvert_exporter": "python",
   "pygments_lexer": "ipython3",
   "version": "3.7.4"
  }
 },
 "nbformat": 4,
 "nbformat_minor": 2
}
