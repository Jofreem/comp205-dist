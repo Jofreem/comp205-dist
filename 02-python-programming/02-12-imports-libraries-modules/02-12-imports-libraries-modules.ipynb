{
 "cells": [
  {
   "cell_type": "markdown",
   "metadata": {},
   "source": [
    "# Imports, libraries, and modules\n"
   ]
  },
  {
   "cell_type": "markdown",
   "metadata": {},
   "source": [
    "## Very often, you will need to use code from others\n",
    "The most common mode of code sharing is to *import a library function*. For the most part, you won't see the code to these functions. But for this one exercise, I am exposing the code to you to show you exactly what is happening. This is *not typical;* usually the library will be a \"black box\". \n",
    "\n",
    "Run the next cell to see the library I wrote for this demonstration."
   ]
  },
  {
   "cell_type": "code",
   "execution_count": null,
   "metadata": {},
   "outputs": [],
   "source": [
    "%pycat Frame.py"
   ]
  },
  {
   "cell_type": "markdown",
   "metadata": {},
   "source": [
    "First we import the library. "
   ]
  },
  {
   "cell_type": "code",
   "execution_count": null,
   "metadata": {},
   "outputs": [],
   "source": [
    "from Frame import Frame"
   ]
  },
  {
   "cell_type": "markdown",
   "metadata": {},
   "source": [
    "Here is a test of the library with a trivial set of tuples. "
   ]
  },
  {
   "cell_type": "code",
   "execution_count": null,
   "metadata": {},
   "outputs": [],
   "source": [
    "f = Frame([(\"col 1\", \"col 2\", \"col 3\"), (1, 2, 3), (4, 5, 6), (7, 8, 9)])\n",
    "f.data"
   ]
  },
  {
   "cell_type": "markdown",
   "metadata": {},
   "source": [
    "Run the following cell to see a simple data file in comma-separated-values format: "
   ]
  },
  {
   "cell_type": "code",
   "execution_count": null,
   "metadata": {},
   "outputs": [],
   "source": [
    "%more data.csv"
   ]
  },
  {
   "cell_type": "markdown",
   "metadata": {},
   "source": [
    "And here's the code that reads it. "
   ]
  },
  {
   "cell_type": "code",
   "execution_count": null,
   "metadata": {
    "scrolled": true
   },
   "outputs": [],
   "source": [
    "g = Frame()\n",
    "g.read('data.csv')\n",
    "g.data"
   ]
  },
  {
   "cell_type": "markdown",
   "metadata": {},
   "source": [
    "We read rows, and we can get them back!"
   ]
  },
  {
   "cell_type": "code",
   "execution_count": null,
   "metadata": {},
   "outputs": [],
   "source": [
    "for index in range(g.rows()): \n",
    "    row = g.row(index)\n",
    "    print(row)"
   ]
  },
  {
   "cell_type": "markdown",
   "metadata": {},
   "source": [
    "Likewise, we can read columns! "
   ]
  },
  {
   "cell_type": "code",
   "execution_count": null,
   "metadata": {},
   "outputs": [],
   "source": [
    "for n in range(g.columns()): \n",
    "    print(g.column(n))"
   ]
  },
  {
   "cell_type": "markdown",
   "metadata": {},
   "source": [
    "The thing to remember here is that when we have constructed `g`, we have access to the list `g.titles` and the dictionary `g.data` and can work with them like any other variables. \n",
    "\n",
    "Let's mess with the structure of a Frame by doing some common things. \n",
    "\n",
    "1. **Write a code cell that removes a row from the g object, where the row number is given by a variable n.** Hint: the row is at a constant offset in each list of row data. You can use *array slicing* to do this: If `x = [0,1,2,3,4,5]` then `x[:n] + x[n+1:]` omits the nth object. You need to do this for every column array in `Frame`.  "
   ]
  },
  {
   "cell_type": "code",
   "execution_count": null,
   "metadata": {},
   "outputs": [],
   "source": [
    "# demonstration of array slicing: \n",
    "n = 1  # remove row 1\n",
    "x = [0,1,2,3,4,5]\n",
    "x[:n] + x[n+1:]"
   ]
  },
  {
   "cell_type": "code",
   "execution_count": null,
   "metadata": {},
   "outputs": [],
   "source": [
    "g.read('data.csv')  # get a clean copy\n",
    "n = 1\n",
    "# fill in your answer details here\n",
    "\n",
    "# verify your answer like this. \n",
    "print(g.titles)\n",
    "g.data  # verify with this printout"
   ]
  },
  {
   "cell_type": "markdown",
   "metadata": {},
   "source": [
    "2. **Write a code cell that removes a column whose number is `n`.** You will need both array slicing (for `titles`) and the ability to remove something from a dictionary. For the latter, refer to the following demonstration: "
   ]
  },
  {
   "cell_type": "code",
   "execution_count": null,
   "metadata": {},
   "outputs": [],
   "source": [
    "# a demonstration of removing an entry from a dictionary: use del\n",
    "d = { 'a':1, 'b':2, 'c':3 }\n",
    "del d['b']  # remove entry for 'b'\n",
    "d"
   ]
  },
  {
   "cell_type": "code",
   "execution_count": null,
   "metadata": {},
   "outputs": [],
   "source": [
    "g.read('data.csv')  # get a clean copy. \n",
    "n = 1\n",
    "# Fill in your answer here\n",
    "\n",
    "# Verify your answer like this:\n",
    "print(g.titles)\n",
    "g.data"
   ]
  },
  {
   "cell_type": "markdown",
   "metadata": {},
   "source": [
    "# When you are done with answering the questions, \n",
    "1. `Save and Checkpoint` this page. \n",
    "2. Run the cells below to submit it. "
   ]
  },
  {
   "cell_type": "code",
   "execution_count": null,
   "metadata": {},
   "outputs": [],
   "source": [
    "# Don't change this cell; just run it. \n",
    "from client.api.notebook import Notebook\n",
    "ok = Notebook('02-12-imports-libraries-modules.ok')\n",
    "ok.auth(inline=True)"
   ]
  },
  {
   "cell_type": "code",
   "execution_count": null,
   "metadata": {},
   "outputs": [],
   "source": [
    "ready = False  # change to True when ready to submit\n",
    "print(\"student '{}' submitting file '{}' for assignment '{}'\"\n",
    "      .format(ok.assignment.get_student_email(),\n",
    "              ok.assignment.src, \n",
    "              ok.assignment.name))\n",
    "if not ready: \n",
    "    raise Exception(\"change ready to True when ready to submit\")\n",
    "_ = ok.submit()"
   ]
  },
  {
   "cell_type": "markdown",
   "metadata": {},
   "source": [
    "# Deeper Dive\n",
    "## No Circular Imports\n",
    "\n",
    "Modules can import other modules but circular imports such as (A imports B, B imports A) or longer cycles (A → B, B → C, C → A) are disallowed.\n",
    "\n",
    "* [forecaster.py](https://github.com/facebook/prophet/blob/master/python/fbprophet/forecaster.py) in [Prophet (by Facebook)](https://facebook.github.io/prophet/) package the depends on pandas as well as numpy\n",
    "* furthermore, pandas also depends on numpy! (See [common.py](https://github.com/pandas-dev/pandas/blob/master/pandas/core/dtypes/common.py)) \n",
    "\n",
    "The imports mentioned above are OK but what would happen if *pandas depended on numpy and numpy depended on pandas?*\n",
    "\n",
    "\n"
   ]
  }
 ],
 "metadata": {
  "kernelspec": {
   "display_name": "Python 3",
   "language": "python",
   "name": "python3"
  },
  "language_info": {
   "codemirror_mode": {
    "name": "ipython",
    "version": 3
   },
   "file_extension": ".py",
   "mimetype": "text/x-python",
   "name": "python",
   "nbconvert_exporter": "python",
   "pygments_lexer": "ipython3",
   "version": "3.7.4"
  }
 },
 "nbformat": 4,
 "nbformat_minor": 2
}
