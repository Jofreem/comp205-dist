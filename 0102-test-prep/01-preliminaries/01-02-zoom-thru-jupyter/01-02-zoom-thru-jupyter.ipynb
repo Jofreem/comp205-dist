{
 "cells": [
  {
   "cell_type": "markdown",
   "metadata": {},
   "source": [
    "# A jupyter notebook mixes explanation and computation. \n",
    "* Computation in a kernel language. \n",
    "* Text in markdown format. \n",
    "* The questions should be answered by creating a new `markdown` or `code` cell (as appropriate) below the question."
   ]
  },
  {
   "cell_type": "markdown",
   "metadata": {},
   "source": [
    "**Question 1:** What kernel language are we using? Please include the exact version in your answer."
   ]
  },
  {
   "cell_type": "code",
   "execution_count": null,
   "metadata": {},
   "outputs": [],
   "source": [
    "data = [1,4,5,2,3,4,4,7,8,2,2,2,3,1,1,1,2,20,2,2,9,10,1,2,3]\n",
    "sum = 0\n",
    "for i in data:\n",
    "    sum = sum + i\n",
    "print (sum/len(data))"
   ]
  },
  {
   "cell_type": "code",
   "execution_count": null,
   "metadata": {},
   "outputs": [],
   "source": [
    "from pprint import pprint\n",
    "pprint([\"hi\", \"ho\"])"
   ]
  },
  {
   "cell_type": "markdown",
   "metadata": {},
   "source": [
    "**Question 2:** What is the difference between `print` and `pprint` in the cells above?"
   ]
  },
  {
   "cell_type": "markdown",
   "metadata": {},
   "source": [
    "## <font color=green>This cell intentionally retained from the original notebook</font>\n",
    "\n",
    "# Let's try out iPython in this notebook. \n",
    "When you are finished with the above: \n",
    "\n",
    "Read [this simple introduction to python](https://wiki.python.org/moin/BeginnersGuide). Choose the link that is suitable for you. \n",
    "\n",
    "Then, \n",
    "1. Click on this cell. \n",
    "2. Click on `+` above. \n",
    "3. Add code for a sentence as a python string. Put this into the variable `sent`.\n",
    "   (I might write `sent = 'The meaning of life is 42!'`)\n",
    "4. Run the cell with `Run` above. \n",
    "Then skip to the next heading. "
   ]
  },
  {
   "cell_type": "markdown",
   "metadata": {},
   "source": [
    "# now let's use that value\n",
    "\n",
    "You created a variable `sent` I will use that in a simple program. \n",
    "Run the cell below. "
   ]
  },
  {
   "cell_type": "code",
   "execution_count": null,
   "metadata": {},
   "outputs": [],
   "source": [
    "sent = 'The meaning of life is 42!'\n",
    "parts = sent.split(' ')\n",
    "for p in parts: \n",
    "    print(p)"
   ]
  },
  {
   "cell_type": "markdown",
   "metadata": {},
   "source": [
    "## <font color=green>This cell intentionally retained from the original notebook but changed slightly!</font>\n",
    "\n",
    "# what happened? \n",
    "1. `split` splits a string into its parts. \n",
    "2. `split(' ')` splits at spaces. \n",
    "3. The code `parts = sent.split(' ')` splits what you typed into words. \n",
    "4. `parts` is a *list*. \n",
    "4. In Python, we use the pattern `for p in parts:` to do something to every element of a list. \n",
    "6. This splits your sentence into multiple parts and prints them one per line. "
   ]
  },
  {
   "cell_type": "markdown",
   "metadata": {},
   "source": [
    "# More questions:\n",
    "1. Print `parts` as a variable\n",
    "1. Why do the `print` statements print the parts one before the other whereas `print parts` prints out the list?\n",
    "1. Change `print` to `pprint`. Is there a difference? Why?"
   ]
  },
  {
   "cell_type": "markdown",
   "metadata": {},
   "source": [
    "## <font color=green>This cell intentionally retained from the original notebook</font>\n",
    "\n",
    "# some lessons from this experiment\n",
    "1. You can set a variable in one cell and then use it in another. \n",
    "2. Cells can change the format of a value, e.g., from string to list. \n",
    "3. To process every element of a list, use the `for p in parts:` pattern. "
   ]
  },
  {
   "cell_type": "markdown",
   "metadata": {},
   "source": [
    "# Now consider the following four cells"
   ]
  },
  {
   "cell_type": "code",
   "execution_count": null,
   "metadata": {},
   "outputs": [],
   "source": [
    "name = \"Groucho Marx\"  # first"
   ]
  },
  {
   "cell_type": "code",
   "execution_count": null,
   "metadata": {},
   "outputs": [],
   "source": [
    "name = \"Carol Channing\"  # second"
   ]
  },
  {
   "cell_type": "code",
   "execution_count": null,
   "metadata": {},
   "outputs": [],
   "source": [
    "name = \"Madonna\"  # third"
   ]
  },
  {
   "cell_type": "code",
   "execution_count": null,
   "metadata": {},
   "outputs": [],
   "source": [
    "name  # fourth"
   ]
  },
  {
   "cell_type": "markdown",
   "metadata": {},
   "source": [
    "Try running these in different sequences and observe the result. What happens when you run a sequence, e.g., first, third, second, fourth? Is there a way to discover which run buttons you pressed when? "
   ]
  },
  {
   "cell_type": "markdown",
   "metadata": {},
   "source": [
    "___Your answer:___ \n",
    "\n",
    "(double-click and type your answer here.)\n",
    "\n"
   ]
  },
  {
   "cell_type": "markdown",
   "metadata": {},
   "source": [
    "## <font color=green>This cell intentionally retained from the original notebook</font>\n",
    "\n",
    "# Sequence and value\n",
    "Cells behave in the following simple way: \n",
    "1. When you run a cell, any assignment statement (e.g., `x = y`) runs. \n",
    "2. When you are not running a cell, it has no effect on anything. \n",
    "3. So, when you change a value in a cell, it only changes when you run the cell. "
   ]
  },
  {
   "cell_type": "code",
   "execution_count": null,
   "metadata": {},
   "outputs": [],
   "source": [
    "# Consider the following python code\n",
    "name = \"Felix\"\n",
    "print(name)\n",
    "name = 1\n",
    "print(name)\n",
    "name = [\"hello\", 'there']\n",
    "print(name)"
   ]
  },
  {
   "cell_type": "markdown",
   "metadata": {},
   "source": [
    "Run the code above and observe what happens. \n",
    "\n",
    "What can you infer about assignment statements from this experiment? \n",
    "\n",
    "# More questions:\n",
    "1. After the `name = 1` line has been executed, what happens to \"Felix\"?\n",
    "1. Can we recover \"Felix\" in any way?"
   ]
  },
  {
   "cell_type": "markdown",
   "metadata": {},
   "source": [
    "__Your answer:__ \n",
    "\n",
    "(double-click and type your answer here.)"
   ]
  },
  {
   "cell_type": "markdown",
   "metadata": {},
   "source": [
    "# No link to okpy\n",
    "\n",
    "Since this notebook is for your own use, it has no links to [okpy](https://okpy.org)"
   ]
  }
 ],
 "metadata": {
  "kernelspec": {
   "display_name": "Python 3",
   "language": "python",
   "name": "python3"
  },
  "language_info": {
   "codemirror_mode": {
    "name": "ipython",
    "version": 3
   },
   "file_extension": ".py",
   "mimetype": "text/x-python",
   "name": "python",
   "nbconvert_exporter": "python",
   "pygments_lexer": "ipython3",
   "version": "3.7.4"
  }
 },
 "nbformat": 4,
 "nbformat_minor": 2
}
