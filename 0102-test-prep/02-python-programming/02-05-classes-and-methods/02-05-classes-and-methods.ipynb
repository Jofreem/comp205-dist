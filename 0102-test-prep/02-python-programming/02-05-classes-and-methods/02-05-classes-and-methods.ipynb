{
 "cells": [
  {
   "cell_type": "markdown",
   "metadata": {},
   "source": [
    "# Classes and methods\n",
    "\n",
    "## Binding functions and data into classes.\n",
    "\n",
    "When analyzing email traffic between 4 individuals, we compiled the number of emails sent from one individual to another, we came up with the following data:\n",
    "```\n",
    "emails = [(\"Alva\", \"Frank\", 10),\n",
    "         (\"Fred\", \"George\", 3),\n",
    "         (\"Amy\", \"George\", 2),\n",
    "         (\"Frank\", \"Fred\", 4),\n",
    "         (\"Frank\", \"Amy\", 5)]\n",
    "```\n"
   ]
  },
  {
   "cell_type": "markdown",
   "metadata": {},
   "source": [
    "Write a class `Sent_Emails` that encapsulates the number of emails sent by one person to another.\n",
    "```\n",
    "class Sent_Emails:\n",
    "    data = []  # the emails sent\n",
    "    ...\n",
    "```\n",
    "such that\n",
    "```\n",
    "emails = [(\"Alva\", \"Frank\", 10),\n",
    "          (\"Fred\", \"George\", 3),\n",
    "          (\"Amy\", \"George\", 2),\n",
    "          (\"Frank\", \"Fred\", 4),\n",
    "          (\"Frank\", \"Amy\", 5)]\n",
    "         \n",
    "sent_emails = Sent_Emails(emails)\n",
    "\n",
    "senders = sent_emails.senders()\n",
    "print (senders)\n",
    "\n",
    "receivers = sent_emails.receivers()\n",
    "print (receivers)\n",
    "\n",
    "```\n"
   ]
  }
 ],
 "metadata": {
  "kernelspec": {
   "display_name": "Python 3",
   "language": "python",
   "name": "python3"
  },
  "language_info": {
   "codemirror_mode": {
    "name": "ipython",
    "version": 3
   },
   "file_extension": ".py",
   "mimetype": "text/x-python",
   "name": "python",
   "nbconvert_exporter": "python",
   "pygments_lexer": "ipython3",
   "version": "3.7.4"
  }
 },
 "nbformat": 4,
 "nbformat_minor": 2
}
