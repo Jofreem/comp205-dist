{
 "cells": [
  {
   "cell_type": "markdown",
   "metadata": {},
   "source": [
    "# Classes and methods\n",
    "\n",
    "## Note\n",
    "\n",
    "This problem may take you a while to do. That's OK, it's not representative of the types of problems you will get on the midterm. If you can do this problem, it would indicate a level of comfort with classes and methods.\n"
   ]
  },
  {
   "cell_type": "markdown",
   "metadata": {},
   "source": [
    "## Questions\n",
    "\n",
    "When analyzing email traffic between 4 individuals, we counted the number of emails sent between individuals:\n",
    "```\n",
    "emails = [(\"Alva\", \"Frank\", 10),\n",
    "         (\"Fred\", \"George\", 3),\n",
    "         (\"Amy\", \"George\", 2),\n",
    "         (\"Frank\", \"Fred\", 4),\n",
    "         (\"Frank\", \"Amy\", 5)]\n",
    "```\n",
    "\n",
    "1. Write a class `Sent_Emails` that encapsulates the number of emails sent by one person to another.\n",
    "```\n",
    "class Sent_Emails:\n",
    "    data = []  # the emails sent\n",
    "    ...\n",
    "```\n",
    "\n",
    "such that for\n",
    "\n",
    "```\n",
    "emails = [(\"Alva\", \"Frank\", 10),\n",
    "          (\"Fred\", \"George\", 3),\n",
    "          (\"Amy\", \"George\", 2),\n",
    "          (\"Frank\", \"Fred\", 4),\n",
    "          (\"Frank\", \"Amy\", 5)]\n",
    "```\n",
    "and \n",
    "\n",
    "`sent_emails = Sent_Emails(emails)`\n",
    "\n",
    "`print(sent_emails)` should return ...\n",
    "```\n",
    "Alva sent 10 emails to Frank\n",
    "Fred sent 3 emails to George\n",
    "Amy sent 2 emails to George\n",
    "Frank sent 4 emails to Fred\n",
    "Frank sent 5 emails to Amy\n",
    "\n",
    "```\n",
    "\n",
    "```\n",
    "2. Write a senders method for Sent_Emails that returns an alphabetized list of senders such that\n",
    "```\n",
    "\n",
    "print (sent_emails.senders())      # should print Alva, Amy, Frank, Fred but not George\n",
    "```\n",
    "3. Write a receivers method for Sent_Emails returns an alphabetized list of receivers such that\n",
    "```\n",
    "print (sent_emails.receivers())  # should print Amy, Frank, Fred, George but not Alva\n",
    "```"
   ]
  },
  {
   "cell_type": "markdown",
   "metadata": {},
   "source": [
    "## Method naming conventions\n",
    "\n",
    "From [Discussion about _ in method names](https://stackoverflow.com/a/8689983), The following special forms using leading or trailing underscores are recognized:\n",
    "\n",
    "* `_`single_leading_underscore: weak \"internal use\" indicator. E.g. from M import * does not import objects whose name starts with an underscore.\n",
    "\n",
    "* \"Magic\" objects or attributes that live in user-controlled namespaces. E.g. `__`init`__`, `__`import`__` or `__`file`__`. Never invent such names; only use them as documented.\n",
    "\n",
    "**To repeat that last point, names with double leading and trailing underscores are essentially reserved for Python itself: \"Never invent such names; only use them as documented\".**\n",
    "    "
   ]
  }
 ],
 "metadata": {
  "kernelspec": {
   "display_name": "Python 3",
   "language": "python",
   "name": "python3"
  },
  "language_info": {
   "codemirror_mode": {
    "name": "ipython",
    "version": 3
   },
   "file_extension": ".py",
   "mimetype": "text/x-python",
   "name": "python",
   "nbconvert_exporter": "python",
   "pygments_lexer": "ipython3",
   "version": "3.7.4"
  }
 },
 "nbformat": 4,
 "nbformat_minor": 2
}
