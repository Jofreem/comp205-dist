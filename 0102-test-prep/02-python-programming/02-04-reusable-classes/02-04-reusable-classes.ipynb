{
 "cells": [
  {
   "cell_type": "markdown",
   "metadata": {},
   "source": [
    "# Reusable Classes\n",
    "So far, we've studied structures that include lists, sets, dicts, tuples, and other kinds of data. \n",
    "A class is a different kind of object. It can contain these other kinds of objects as data. \n",
    "However, the way one interacts with classes is distinct from how one interacts with many other kinds of data. \n",
    "\n",
    "In its simplest form, a class is a way to bind together functions and data into one package.\n",
    "Let us first see how to utilize a class that someone already wrote.\n",
    "Don't change the next cell, just run it!"
   ]
  },
  {
   "cell_type": "code",
   "execution_count": 19,
   "metadata": {},
   "outputs": [],
   "source": [
    "from math import pi\n",
    "\n",
    "\n",
    "class Circle:\n",
    "    \"\"\"\n",
    "    A Circle instance models a circle with a radius\n",
    "    Can be initialized with an optional radius parameter\n",
    "    If no radius is given, a radius of 1.0 is used\n",
    "    \"\"\"\n",
    "\n",
    "    def __init__(self, radius=1.0):\n",
    "        \"\"\"Initializer with default radius of 1.0\"\"\"\n",
    "        self.radius = radius  # Instance variable radius\n",
    "\n",
    "    def __str__(self):\n",
    "        \"\"\"Return a descriptive string for this instance, invoked by print() and str()\"\"\"\n",
    "        return 'Circle of (radius: {:3.2f})'.format(self.radius)\n",
    "\n",
    "    def get_area(self):\n",
    "        \"\"\"Return the area of this Circle instance\"\"\"\n",
    "        x = self.radius * self.radius * pi\n",
    "        print (x)\n",
    "        print (x)\n",
    "        return x\n",
    "    \n",
    "    def enclosing_square_area(self):\n",
    "        return (2*self.radius)*(2*self.radius)"
   ]
  },
  {
   "cell_type": "markdown",
   "metadata": {},
   "source": [
    "The cell above defines a class called `Circle` which can be initialized (the `__init__` method), converted into a string (the `__str__` method) and have its area computed ((the `get_area` method).\n",
    "Let us create a circle and play with it."
   ]
  },
  {
   "cell_type": "code",
   "execution_count": 20,
   "metadata": {},
   "outputs": [
    {
     "name": "stdout",
     "output_type": "stream",
     "text": [
      "Circle of (radius: 2.10)\n",
      "13.854423602330987\n",
      "13.854423602330987\n",
      "13.854423602330987\n",
      "2.1\n",
      "Circle of (radius: 2.10)\n",
      "17.64\n"
     ]
    }
   ],
   "source": [
    "c1 = Circle(2.1)      # Construct an instance\n",
    "print(c1)             # Invokes __str__()\n",
    "print(c1.get_area())\n",
    "print(c1.radius)\n",
    "print(str(c1))\n",
    "print (c1.enclosing_square_area())"
   ]
  },
  {
   "cell_type": "markdown",
   "metadata": {},
   "source": [
    "Let us create another circle and don't bother to specify the radius"
   ]
  },
  {
   "cell_type": "code",
   "execution_count": 21,
   "metadata": {},
   "outputs": [
    {
     "name": "stdout",
     "output_type": "stream",
     "text": [
      "Circle of (radius: 1.00)\n",
      "3.141592653589793\n",
      "3.141592653589793\n",
      "3.141592653589793\n"
     ]
    }
   ],
   "source": [
    "c2 = Circle()\n",
    "print(c2)\n",
    "print(c2.get_area())  # Invoke member method"
   ]
  },
  {
   "cell_type": "markdown",
   "metadata": {},
   "source": [
    "We can add an attribute 'color' to the circle c2"
   ]
  },
  {
   "cell_type": "code",
   "execution_count": 24,
   "metadata": {},
   "outputs": [
    {
     "name": "stdout",
     "output_type": "stream",
     "text": [
      "red\n"
     ]
    }
   ],
   "source": [
    "c2.color = 'red'  # Create a new attribute for this instance via assignment\n",
    "c1.color = 'blue'\n",
    "print(c2.color)"
   ]
  },
  {
   "cell_type": "markdown",
   "metadata": {},
   "source": [
    "Does c1 also have a color now?"
   ]
  },
  {
   "cell_type": "code",
   "execution_count": 25,
   "metadata": {},
   "outputs": [
    {
     "name": "stdout",
     "output_type": "stream",
     "text": [
      "blue\n"
     ]
    }
   ],
   "source": [
    "print(c1.color)"
   ]
  },
  {
   "cell_type": "markdown",
   "metadata": {},
   "source": [
    "Most Data Science work involves using classes that someone else wrote. \n",
    "Before you decide to write your own, search the web or [PyPi](https://pypi.org/), the Python Package index.\n",
    "\n",
    "The rest of this notebook explains what some of the concepts around classes mean. It considers a class called `Coordinates` which packages up attributes and 'methods': the functions a user of that class can invoke."
   ]
  },
  {
   "cell_type": "code",
   "execution_count": 33,
   "metadata": {},
   "outputs": [
    {
     "name": "stdout",
     "output_type": "stream",
     "text": [
      "(None, None)\n",
      "(39.3601, None)\n",
      "(42.3601, -71.0589)\n"
     ]
    }
   ],
   "source": [
    "class Coordinates():\n",
    "#    latitude = None\n",
    "#    longitude = None\n",
    "\n",
    "    def location(self):\n",
    "        #lat = self.latitude if self.latitude else None\n",
    "        #lng = self.longitude if self.longitude else None\n",
    "        \n",
    "        try:\n",
    "            lat = self.latitude\n",
    "        except:\n",
    "            lat = None\n",
    "\n",
    "        try:\n",
    "            lng = self.longitude\n",
    "        except:\n",
    "            lng = None\n",
    "        return (lat, lng)\n",
    "\n",
    "\n",
    "boston = Coordinates()\n",
    "nyc = Coordinates()\n",
    "boston.latitude = 42.3601\n",
    "print(nyc.location()) # should print (None, None)\n",
    "boston.longitude = -71.0589\n",
    "\n",
    "nyc.latitude = 39.3601\n",
    "print (nyc.location()) # should print (39.3601, None)\n",
    "print (boston.location())"
   ]
  }
 ],
 "metadata": {
  "kernelspec": {
   "display_name": "Python 3",
   "language": "python",
   "name": "python3"
  },
  "language_info": {
   "codemirror_mode": {
    "name": "ipython",
    "version": 3
   },
   "file_extension": ".py",
   "mimetype": "text/x-python",
   "name": "python",
   "nbconvert_exporter": "python",
   "pygments_lexer": "ipython3",
   "version": "3.7.4"
  }
 },
 "nbformat": 4,
 "nbformat_minor": 2
}
