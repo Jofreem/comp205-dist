{
 "cells": [
  {
   "cell_type": "markdown",
   "metadata": {},
   "source": [
    "# Key Concepts in Unit 02\n",
    "\n",
    "\n",
    "The first set of concepts is specific to Python\n",
    "\n",
    "1. Python Style Guide (PEP 8); Effective Commenting\n",
    "1. Built-in types: `set`, `dict`, `sorted`; online help (e.g., ?len)\n",
    "1. Functions, try/except\n",
    "1. Classes package data and methods together\n",
    "1. Magic methods\n",
    "1. Iterables, Frames \n",
    "\n",
    "The second set of concepts is more about Data Science:\n",
    "\n",
    "11. A good pattern is one you can trust and when it doesn't, you know why.\n",
    "1. Libraries are collections of modules and may be imported into other modules. Beware of dependencies. Dependency trees are OK, cyclic dependencies are not. Sometimes it is better to import specific things. Play with datetime, date and time classes.\n",
    "1. Data Wrangling = The data is often provided in an arbitrary format. Analysis tools require a very specific format as a precondition. Need code that transforms one kind of data into another. This can be as simple as reformatting an array, or as complex as mining data from text! \n",
    "1. Data Filtering = looking in the data for specific attributes. Could be due to veracity problems, could be because we was a specific subset of the data.\n",
    "1. Text mining = mostly starting from unstructured text to get specific attributes.\n"
   ]
  },
  {
   "cell_type": "markdown",
   "metadata": {},
   "source": [
    "# Play\n",
    "\n",
    "The cells that follow are for trying things in class and should be considered ephemeral."
   ]
  },
  {
   "cell_type": "code",
   "execution_count": null,
   "metadata": {},
   "outputs": [],
   "source": [
    "import datetime\n",
    "datetime_object = datetime.datetime.now()\n",
    "print(datetime_object)"
   ]
  },
  {
   "cell_type": "code",
   "execution_count": null,
   "metadata": {},
   "outputs": [],
   "source": [
    "import datetime\n",
    "date_object = datetime.date.today()\n",
    "print(date_object)"
   ]
  },
  {
   "cell_type": "code",
   "execution_count": null,
   "metadata": {},
   "outputs": [],
   "source": [
    "from datetime import date\n",
    "today = date.today()\n",
    "print(\"Current date =\", today)"
   ]
  },
  {
   "cell_type": "code",
   "execution_count": null,
   "metadata": {},
   "outputs": [],
   "source": [
    "from datetime import time\n",
    "\n",
    "# time(hour = 0, minute = 0, second = 0)\n",
    "a = time()\n",
    "print(\"a =\", a)\n",
    "\n",
    "# time(hour, minute and second)\n",
    "b = time(11, 34, 56)\n",
    "print(\"b =\", b)\n",
    "\n",
    "# time(hour, minute and second)\n",
    "c = time(hour = 11, minute = 34, second = 56)\n",
    "print(\"c =\", c)\n",
    "\n",
    "# time(hour, minute, second, microsecond)\n",
    "d = time(11, 34, 56, 234566)\n",
    "print(\"d =\", d)"
   ]
  },
  {
   "cell_type": "code",
   "execution_count": null,
   "metadata": {},
   "outputs": [],
   "source": [
    "import time\n",
    "ts = time.time()\n",
    "print (ts)"
   ]
  },
  {
   "cell_type": "code",
   "execution_count": null,
   "metadata": {},
   "outputs": [],
   "source": [
    "import datetime\n",
    "st = datetime.datetime.fromtimestamp(ts).strftime('%Y-%m-%d %H:%M:%S')\n",
    "print (st)"
   ]
  },
  {
   "cell_type": "code",
   "execution_count": null,
   "metadata": {},
   "outputs": [],
   "source": []
  }
 ],
 "metadata": {
  "kernelspec": {
   "display_name": "Python 3",
   "language": "python",
   "name": "python3"
  },
  "language_info": {
   "codemirror_mode": {
    "name": "ipython",
    "version": 3
   },
   "file_extension": ".py",
   "mimetype": "text/x-python",
   "name": "python",
   "nbconvert_exporter": "python",
   "pygments_lexer": "ipython3",
   "version": "3.7.4"
  }
 },
 "nbformat": 4,
 "nbformat_minor": 2
}
