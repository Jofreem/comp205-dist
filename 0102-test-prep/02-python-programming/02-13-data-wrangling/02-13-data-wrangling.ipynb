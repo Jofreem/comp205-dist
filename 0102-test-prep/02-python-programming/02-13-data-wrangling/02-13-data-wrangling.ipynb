{
 "cells": [
  {
   "cell_type": "markdown",
   "metadata": {},
   "source": [
    "# Data wrangling\n"
   ]
  },
  {
   "cell_type": "markdown",
   "metadata": {},
   "source": [
    "It is very often necessary to make data conform to specific requirements. Here's a detailed example. We start with a statement that someone may have sent in an email, and want total credits and debits for the month. \n",
    "\n",
    "Here's the input: "
   ]
  },
  {
   "cell_type": "markdown",
   "metadata": {},
   "source": [
    "![Sample Statement](stmt.jpg)\n",
    "After downloading and some offline editing, we obtain this Statement:"
   ]
  },
  {
   "cell_type": "code",
   "execution_count": 11,
   "metadata": {},
   "outputs": [
    {
     "data": {
      "text/plain": [
       "'\\n04.02.19| SI10072| Sale| $250| | $250 \\n04.11.19| SI10073| Sale| $400| | $400 \\n04.15.19| DC18 | Payment| | $100 | -$100\\n04.22.19| CR20020| Credit| -$50| | $50\\n'"
      ]
     },
     "execution_count": 11,
     "metadata": {},
     "output_type": "execute_result"
    }
   ],
   "source": [
    "stmt = \"\"\"\n",
    "04.02.19| SI10072| Sale| $250| | $250 \n",
    "04.11.19| SI10073| Sale| $400| | $400 \n",
    "04.15.19| DC18 | Payment| | $100 | -$100\n",
    "04.22.19| CR20020| Credit| -$50| | $50\n",
    "\"\"\"\n",
    "stmt"
   ]
  },
  {
   "cell_type": "markdown",
   "metadata": {},
   "source": [
    "Our next step is to split the data up into chunks we can handle. We start by splitting it into lines. The line break character is '\\n'. "
   ]
  },
  {
   "cell_type": "code",
   "execution_count": 21,
   "metadata": {},
   "outputs": [
    {
     "data": {
      "text/plain": [
       "['',\n",
       " '04.02.19| SI10072| Sale| $250| | $250 ',\n",
       " '04.11.19| SI10073| Sale| $400| | $400 ',\n",
       " '04.15.19| DC18 | Payment| | $100 | -$100',\n",
       " '04.22.19| CR20020| Credit| -$50| | $50',\n",
       " '']"
      ]
     },
     "execution_count": 21,
     "metadata": {},
     "output_type": "execute_result"
    }
   ],
   "source": [
    "# splitting at \\n converts this to a list of lines. \n",
    "lines = stmt.split('\\n')\n",
    "lines"
   ]
  },
  {
   "cell_type": "markdown",
   "metadata": {},
   "source": [
    "Our next step is to skip the blank lines and split up each remaining line. The lines contain \"|\" characters between columns. So we split at \"|\" characters. "
   ]
  },
  {
   "cell_type": "code",
   "execution_count": 31,
   "metadata": {},
   "outputs": [
    {
     "name": "stdout",
     "output_type": "stream",
     "text": [
      "[500.0]\n",
      "[500.0, 500.01]\n"
     ]
    },
    {
     "data": {
      "text/plain": [
       "([100.0], [250.0, 400.0, -50.0])"
      ]
     },
     "execution_count": 31,
     "metadata": {},
     "output_type": "execute_result"
    }
   ],
   "source": [
    "def add_num(list_, string):\n",
    "    # remove spaces and dollar signs\n",
    "    for char in string:\n",
    "        if char in \" $\":\n",
    "            string = string.replace(char,'')\n",
    "    try:\n",
    "        num = float(string)\n",
    "        list_.append(num)\n",
    "    except:\n",
    "        pass\n",
    "    # Comment out this line when done debugging this function\n",
    "    # print (list_)\n",
    "    return list_\n",
    "\n",
    "# >>For testing this function we wrote\n",
    "if True: # Change True to False once we know it works!\n",
    "    credits = []\n",
    "    credit = '   $500.01  '\n",
    "    add_num(credits, '$500')\n",
    "    print (credits)\n",
    "    add_num(credits, credit)\n",
    "    print (credits)\n",
    "# << end of testing, we can delet or comment out these lines once done\n",
    "\n",
    "credits = []\n",
    "debits = []\n",
    "for l in lines: \n",
    "    # splitting at '|' separates the columns.\n",
    "    try:\n",
    "        item, desc, detail, debit, credit, amount = l.split(\"|\")\n",
    "        credits = add_num(credits, credit)\n",
    "        debits = add_num(debits, debit)\n",
    "    except:\n",
    "        continue\n",
    "(credits, debits)"
   ]
  },
  {
   "cell_type": "markdown",
   "metadata": {},
   "source": [
    "Finally, we sum up the costs. This is a matter of making a sum of a list of things. Here's the pattern: "
   ]
  },
  {
   "cell_type": "code",
   "execution_count": 32,
   "metadata": {},
   "outputs": [
    {
     "data": {
      "text/plain": [
       "(100.0, 600.0)"
      ]
     },
     "execution_count": 32,
     "metadata": {},
     "output_type": "execute_result"
    }
   ],
   "source": [
    "total_credits = 0\n",
    "total_debits = 0\n",
    "for c in credits: \n",
    "    total_credits += c\n",
    "for c in debits: \n",
    "    total_debits += c\n",
    "(total_credits, total_debits)"
   ]
  },
  {
   "cell_type": "markdown",
   "metadata": {},
   "source": [
    "or, we could instead remember to write: "
   ]
  },
  {
   "cell_type": "code",
   "execution_count": 33,
   "metadata": {},
   "outputs": [
    {
     "data": {
      "text/plain": [
       "(100.0, 600.0)"
      ]
     },
     "execution_count": 33,
     "metadata": {},
     "output_type": "execute_result"
    }
   ],
   "source": [
    "total_credits = sum(credits)\n",
    "total_debits = sum(debits)\n",
    "(total_credits, total_debits)"
   ]
  },
  {
   "cell_type": "markdown",
   "metadata": {},
   "source": [
    "# Some basic observations\n",
    "1. Each transformation requires the previous one. \n",
    "2. I printed the result of each transformation to ensure that I was doing things correctly.\n",
    "3. The cells are written in the order in which they should be executed.\n",
    "4. One can thus visually determine whether everything is working correctly. \n",
    "5. (The postconditions for the previous step are at least enough to be preconditions for the next step.)"
   ]
  },
  {
   "cell_type": "markdown",
   "metadata": {},
   "source": [
    "# Some exercises\n",
    "\n",
    "1. We wrote the function `add_num` above. Restructure as two classes `Statement_Line` with an appropriate `__init__` method and a class `Statement` with an `__init__` that takes the variable `stmt` as an input and offers methods `credits` and `debits` to return the calculated sums as worked out above."
   ]
  },
  {
   "cell_type": "code",
   "execution_count": null,
   "metadata": {},
   "outputs": [],
   "source": [
    "# replace this comment with your answer"
   ]
  },
  {
   "cell_type": "markdown",
   "metadata": {},
   "source": [
    "2. **Edit your classes** so as to completely drop the last column `Amount Due`. Edit the `stmt` variable accordingly and get it to behave properly!"
   ]
  },
  {
   "cell_type": "markdown",
   "metadata": {},
   "source": [
    "3. **What are the complete preconditions for this code to work correctly?** \n",
    "\n",
    "___Your answer:___"
   ]
  }
 ],
 "metadata": {
  "kernelspec": {
   "display_name": "Python 3",
   "language": "python",
   "name": "python3"
  },
  "language_info": {
   "codemirror_mode": {
    "name": "ipython",
    "version": 3
   },
   "file_extension": ".py",
   "mimetype": "text/x-python",
   "name": "python",
   "nbconvert_exporter": "python",
   "pygments_lexer": "ipython3",
   "version": "3.7.4"
  }
 },
 "nbformat": 4,
 "nbformat_minor": 2
}
