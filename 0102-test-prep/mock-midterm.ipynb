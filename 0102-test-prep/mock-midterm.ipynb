{
 "cells": [
  {
   "cell_type": "markdown",
   "metadata": {},
   "source": [
    "# COMP 205: Mock Midterm Examination\n",
    "## Fall 2019\n",
    "\n",
    "This exam is administered electronically. Please enter your answers into this workbook in the places provided. This is an open-Internet examination. You may use any books and materials, and the entire internet -- as well as all of the class workbooks and examples -- in answering these questions. You may not use direct communication with other *people* in completing this workbook. \n",
    "\n",
    "Please do not share this workbook with others until after the exam window is closed. \n",
    "\n",
    "There are 10 questions. Each is worth 10 points. Please note that in general, I will be testing your code against different data of the same form as in the examples. "
   ]
  },
  {
   "cell_type": "markdown",
   "metadata": {},
   "source": [
    "1. Consider the structure: "
   ]
  },
  {
   "cell_type": "code",
   "execution_count": null,
   "metadata": {},
   "outputs": [],
   "source": [
    "bike = (('frame', (( 'color', 'lime'), ('quantity', 1))), \\\n",
    "        ('wheels', (('quantity', 2)),), \\\n",
    "        ('handlebar', (( 'color', 'metal'), ('quantity', 1))) \\\n",
    "        , )"
   ]
  },
  {
   "cell_type": "markdown",
   "metadata": {},
   "source": [
    "Write an expression for `bike` that equals the string`'metal'`, only using `bike` and use of `[...]` to locate values.  "
   ]
  },
  {
   "cell_type": "code",
   "execution_count": null,
   "metadata": {},
   "outputs": [],
   "source": [
    "# your answer: \n"
   ]
  },
  {
   "cell_type": "markdown",
   "metadata": {},
   "source": [
    "2. Consider the structure: "
   ]
  },
  {
   "cell_type": "code",
   "execution_count": null,
   "metadata": {},
   "outputs": [],
   "source": [
    "world = { 'molecules': {'protein', 'rna', 'dna'}, 'games': ('rockPaperScissors', 'hearts', 'football')}"
   ]
  },
  {
   "cell_type": "markdown",
   "metadata": {},
   "source": [
    "What type is `world[games][2]`? "
   ]
  },
  {
   "cell_type": "markdown",
   "metadata": {},
   "source": [
    "___Your answer___:"
   ]
  },
  {
   "cell_type": "markdown",
   "metadata": {},
   "source": [
    "3. Write a function `invert` that takes one argument that is a dictionary and converts it to an inverse dictionary. It should work on the example problem below.  "
   ]
  },
  {
   "cell_type": "code",
   "execution_count": null,
   "metadata": {},
   "outputs": [],
   "source": [
    "# fill in details ...\n",
    "def invert(dictionary): \n",
    "    return ..."
   ]
  },
  {
   "cell_type": "code",
   "execution_count": null,
   "metadata": {},
   "outputs": [],
   "source": [
    "# this should return [('a', 1), ('b', 2), ('c', 3)]\n",
    "invert({'a': 1, 'b': 2, 'c': 3}) # should return {1: 'a', 2: 'b', 3: 'c'}"
   ]
  },
  {
   "cell_type": "markdown",
   "metadata": {},
   "source": [
    "4. Write a class `Film` that represents a movie and contains attributes 'name', 'actor', 'location'. Printing an instance should print name, address, phone. `Film(name, actor, location)` should create an Entry. This should work on the example below. "
   ]
  },
  {
   "cell_type": "code",
   "execution_count": null,
   "metadata": {},
   "outputs": [],
   "source": [
    "# fill in details ... \n",
    "class Film(): \n",
    "    ..."
   ]
  },
  {
   "cell_type": "code",
   "execution_count": null,
   "metadata": {},
   "outputs": [],
   "source": [
    "# This example should print \n",
    "# 'A Fish called Wanda' starring John Cleese is set in London.\n",
    "wanda = Film(\"John Cleese\", \"A Fish called Wanda\", \"London\")\n",
    "print(wanda)"
   ]
  },
  {
   "cell_type": "markdown",
   "metadata": {},
   "source": [
    "5. Write a function `add_numbers` that prints the sum of numbers in a list of numbers and other items. It should convert strings to numbers where appropriate and work on the example below. Hint: use the `try: ... except: ...` pattern. "
   ]
  },
  {
   "cell_type": "code",
   "execution_count": null,
   "metadata": {},
   "outputs": [],
   "source": [
    "# The function `add_numbers` multiplies all the things together.\n",
    "# Anything that can not be converted to a number should be considered to be zero\n",
    "# Currency values such as $44 should be converted to numbers\n",
    "def add_numbers(things):\n",
    "    return ..."
   ]
  },
  {
   "cell_type": "code",
   "execution_count": null,
   "metadata": {},
   "outputs": [],
   "source": [
    "# this should print 18\n",
    "add_numbers([1, 'foo', '$16', 'bar', 0.5, '00.500', [0,2]])"
   ]
  },
  {
   "cell_type": "markdown",
   "metadata": {},
   "source": [
    "6. An *index* for a list is a dict that allows each item position in the list to be looked up based upon its value. The index maps strings to list element numbers. Write a function `generate_index` that generates an index from a list of strings. Hint: use `range(len(ind))`."
   ]
  },
  {
   "cell_type": "code",
   "execution_count": null,
   "metadata": {},
   "outputs": [],
   "source": [
    "# fill in details ...\n",
    "def generate_index(ind): \n",
    "    return ..."
   ]
  },
  {
   "cell_type": "code",
   "execution_count": null,
   "metadata": {},
   "outputs": [],
   "source": [
    "# test on this example\n",
    "generate_index(['Rock', 'Paper', 'Scissors'])  # This should return {'Rock': 0, 'Paper': 1, 'Scissors': 2}"
   ]
  },
  {
   "cell_type": "markdown",
   "metadata": {},
   "source": [
    "7. A \"list of lists of data\" is a common data type in data science. Given a list containing lists of equal length, write a function `get_row` that takes this \"list of lists\" and a number, and generates the tuple of items at position n in each list. The example below should work: "
   ]
  },
  {
   "cell_type": "code",
   "execution_count": null,
   "metadata": {},
   "outputs": [],
   "source": [
    "# fill in details ...\n",
    "def get_row(lofl, n):\n",
    "    return ..."
   ]
  },
  {
   "cell_type": "code",
   "execution_count": null,
   "metadata": {},
   "outputs": [],
   "source": [
    "# Test on this example\n",
    "get_row([[1,2,3], ['Rock', 'Paper', 'Scissors'], [9,17,3]],1)  # should print (2, 'Paper', 17)"
   ]
  },
  {
   "cell_type": "markdown",
   "metadata": {},
   "source": [
    "8. write a function `double_string` that takes a string `'foobar'` and returns a new string `'foobarfoobar'`. Hint: *recall that strings aren't mutable.* You need to construct a new one! "
   ]
  },
  {
   "cell_type": "code",
   "execution_count": null,
   "metadata": {},
   "outputs": [],
   "source": [
    "# fill in details ... \n",
    "def double_string(str_):\n",
    "    return ..."
   ]
  },
  {
   "cell_type": "code",
   "execution_count": null,
   "metadata": {},
   "outputs": [],
   "source": [
    "double_string(double_string('hi '))  # should return `'hi hi hi hi '`"
   ]
  },
  {
   "cell_type": "markdown",
   "metadata": {},
   "source": [
    "9. Consider the class Emails_Sent that we have used before: "
   ]
  },
  {
   "cell_type": "code",
   "execution_count": null,
   "metadata": {},
   "outputs": [],
   "source": [
    "class Emails_Sent(): \n",
    "    sender = None\n",
    "    sendee = None\n",
    "    number = None\n",
    "    def __init__(self, p1, p2, m):\n",
    "        self.sender = p1\n",
    "        self.sendee = p2\n",
    "        self.number = m\n",
    "    def __str__(self): \n",
    "        return \"{} sent {} emails to {}\".format(self.sender, self.number, self.sendee)\n",
    "    ..."
   ]
  },
  {
   "cell_type": "markdown",
   "metadata": {},
   "source": [
    "Write a method of `Emails_Sent` called `t` that returns a tuple corresponding to the Debt. It should work as documented below: "
   ]
  },
  {
   "cell_type": "code",
   "execution_count": null,
   "metadata": {},
   "outputs": [],
   "source": [
    "# use this to test your code\n",
    "es = Emails_Sent(\"Alva\", \"George\", 123)\n",
    "es.t()  # should output ('Alva', 'George', 123)"
   ]
  },
  {
   "cell_type": "markdown",
   "metadata": {},
   "source": [
    "10. Say `z = (3, 7, 4, 2)`. What will `print(z[0:2])` print? What will `print(z[-4:-1])` print?"
   ]
  },
  {
   "cell_type": "markdown",
   "metadata": {},
   "source": [
    "___Your answer:___"
   ]
  }
 ],
 "metadata": {
  "kernelspec": {
   "display_name": "Python 3",
   "language": "python",
   "name": "python3"
  },
  "language_info": {
   "codemirror_mode": {
    "name": "ipython",
    "version": 3
   },
   "file_extension": ".py",
   "mimetype": "text/x-python",
   "name": "python",
   "nbconvert_exporter": "python",
   "pygments_lexer": "ipython3",
   "version": "3.7.4"
  }
 },
 "nbformat": 4,
 "nbformat_minor": 2
}
